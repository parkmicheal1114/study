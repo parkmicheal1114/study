{
  "cells": [
    {
      "cell_type": "markdown",
      "metadata": {
        "id": "view-in-github",
        "colab_type": "text"
      },
      "source": [
        "<a href=\"https://colab.research.google.com/github/parkmicheal1114/study/blob/main/python/%ED%8C%8C%EC%9D%B4%EC%8D%AC_%EC%97%B0%EC%8A%B5_%EB%AC%B8%EC%A0%9C.ipynb\" target=\"_parent\"><img src=\"https://colab.research.google.com/assets/colab-badge.svg\" alt=\"Open In Colab\"/></a>"
      ]
    },
    {
      "cell_type": "markdown",
      "metadata": {
        "id": "Xn_bPjW10qHz"
      },
      "source": [
        "## 프로그래밍 기초 연습하기 (총 17문제)"
      ]
    },
    {
      "cell_type": "markdown",
      "metadata": {
        "id": "rHgTqLGDC1fc"
      },
      "source": [
        "### 문제 01. 숫자 계산1\n",
        "\n",
        "- 두 개의 숫자 a, b에 원하는 숫자를 넣고 a가 b의 배수인지 확인하는 코드를 작성하세요.\n",
        "\n",
        "- 배수라면, \"a는 b의 배수입니다.\"를 출력하고, 그렇지 않다면 \"a는 b의 배수가 아닙니다.\"를 출력하세요."
      ]
    },
    {
      "cell_type": "code",
      "execution_count": null,
      "metadata": {
        "id": "WRNQuBERCyDB",
        "colab": {
          "base_uri": "https://localhost:8080/"
        },
        "outputId": "5a2c670a-e845-49f5-ba4d-95e7485b9be1"
      },
      "outputs": [
        {
          "output_type": "stream",
          "name": "stdout",
          "text": [
            "10 2\n",
            "10 2\n",
            "10 는 2의 배수 입니다.\n"
          ]
        }
      ],
      "source": [
        "a, b = map(int,input().split())\n",
        "print (a,b)\n",
        "\n",
        "if a % b == 0 : \n",
        "  print(f\"{a} 는 {b}의 배수 입니다.\")\n",
        "else: \n",
        "  print(f\"{a} 는 {b}의 배수가 아닙니다.\")"
      ]
    },
    {
      "cell_type": "markdown",
      "metadata": {
        "id": "Dy8YLqr5FcEL"
      },
      "source": [
        "### 문제 02. 숫자 계산2\n",
        "\n",
        "- 주어진 실수값 f, g, h에 대해서 각 실수값을 소수점 세번째 자리에서 반올림한 값을 출력하는 코드를 작성하세요.\n",
        "\n",
        "- 예를 들어 f, g, h가 각각 3.145, 6.1888, 1.00123라면 결과 출력은 3.15, 6.19, 1.00 입니다."
      ]
    },
    {
      "cell_type": "code",
      "execution_count": null,
      "metadata": {
        "id": "47GXgKIeFcQp",
        "colab": {
          "base_uri": "https://localhost:8080/"
        },
        "outputId": "776496a4-97a7-4625-c1dc-bff2aae67772"
      },
      "outputs": [
        {
          "output_type": "execute_result",
          "data": {
            "text/plain": [
              "[3.15, 6.19, 1.0]"
            ]
          },
          "metadata": {},
          "execution_count": 25
        }
      ],
      "source": [
        "f, g, h = 3.145, 6.1888, 1.00123\n",
        "result = []\n",
        "for i in f,g,h:\n",
        "  result.append(round(i,2))\n",
        "  \n",
        "result\n"
      ]
    },
    {
      "cell_type": "markdown",
      "metadata": {
        "id": "cQzZX0HjDq_1"
      },
      "source": [
        "### 문제 03. 숫자 계산3\n",
        "\n",
        "- 리스트로 주어진 수열 2개가 있습니다. 해당 수열들의 중앙값을 출력하는 코드를 작성해보세요.\n",
        "\n",
        "- 중앙값의 정의는 홀수 개의 숫자에 대해서는 크기 순서대로 가장 가운데 있는 값입니다.\n",
        "\n",
        "- 짝수 개의 숫자에 대해서는 크기 순서대로 가장 가운데 있는 두 개의 숫자의 평균입니다.\n",
        "\n",
        "- 예를 들어, [5, 11, 2, 4] 수열이 주어진다면 정답은 4.5입니다.\n",
        "\n",
        "- [1, 3, 4, 5, 100] 수열이 주어진다면 정답은 4입니다."
      ]
    },
    {
      "cell_type": "code",
      "execution_count": null,
      "metadata": {
        "id": "I6zp_gEoDqfG",
        "colab": {
          "base_uri": "https://localhost:8080/",
          "height": 35
        },
        "outputId": "2b217183-dda1-4e88-fc36-0420eb89bd42"
      },
      "outputs": [
        {
          "output_type": "execute_result",
          "data": {
            "text/plain": [
              "'중앙값은 11입니다 '"
            ],
            "application/vnd.google.colaboratory.intrinsic+json": {
              "type": "string"
            }
          },
          "metadata": {},
          "execution_count": 39
        }
      ],
      "source": [
        "numbers1 = [5, 10, 11, 24, 55, 100]\n",
        "numbers2 = [99, 11, 2, 6, 677, 1001, 3]\n",
        "\n",
        "def Median(nums):\n",
        "  nums.sort()\n",
        "  if len(nums)%2 == 0:\n",
        "    median = (nums[int(len(nums)/2)] + nums[int(len(nums)/2-1)])/2\n",
        "  else: \n",
        "    median = nums[int(len(nums)/2)]\n",
        "\n",
        "  return f\"중앙값은 {median}입니다 \"\n",
        "\n",
        "Median(numbers2)\n",
        "\n",
        "\n"
      ]
    },
    {
      "cell_type": "markdown",
      "metadata": {
        "id": "B2MLQ8Ff0qIp"
      },
      "source": [
        "### 문제 04. 윤년 계산하기\n",
        "\n",
        "- 사용자 입력을 받은 숫자 N이 있습니다.\n",
        "\n",
        "- 주어진 숫자 N이 윤년인지 아닌지 출력하는 코드를 작성해주세요.\n",
        "> print(\"%d년은 윤년입니다.\" % N) **or**\n",
        "> print(\"%d년은 윤년이 아닙니다.\" % N)\n",
        "\n",
        "- 윤년 규칙은 다음과 같습니다.\n",
        "\n",
        "> 1. 4의 배수일 것\n",
        "> 2. 100의 배수가 아닐 것\n",
        "> 3. 400의 배수일 것 \n",
        "\n",
        "- 예를 들어, 2004년은 1번 조건을 만족하므로 윤년입니다.\n",
        "- 2000년은 3번 조건을 만족하므로 윤년입니다.\n",
        "- 2100년은 2번 조건을 만족하므로 윤년이 아닙니다.\n"
      ]
    },
    {
      "cell_type": "code",
      "execution_count": null,
      "metadata": {
        "id": "yEUiebcx0qIq",
        "colab": {
          "base_uri": "https://localhost:8080/"
        },
        "outputId": "071ba593-8734-4781-fb98-337e0445a815"
      },
      "outputs": [
        {
          "output_type": "stream",
          "name": "stdout",
          "text": [
            "년도를 입력하세요 : 100\n",
            "윤년이 아닙니다.\n"
          ]
        }
      ],
      "source": [
        "year = int(input(\"년도를 입력하세요 : \"))\n",
        "\n",
        "if ((year % 4 == 0) and (year % 100 != 0)) or (year % 400 ==0) :\n",
        "  print ('윤년 입니다.')\n",
        "else:\n",
        "  print ('윤년이 아닙니다.')\n"
      ]
    },
    {
      "cell_type": "markdown",
      "metadata": {
        "id": "cupV8lpw0qIr"
      },
      "source": [
        "### 문제 05. 평균 계산하기\n",
        "\n",
        "- 철수는 5개의 과목에서 주어진 리스트와 같은 성적을 받았습니다.\n",
        "\n",
        "- 철수가 받은 성적의 평균을 계산하는 코드를 작성하세요."
      ]
    },
    {
      "cell_type": "code",
      "execution_count": 1,
      "metadata": {
        "id": "rrtfD32hD-yz",
        "colab": {
          "base_uri": "https://localhost:8080/"
        },
        "outputId": "c091884e-8ff3-4cb8-d3a3-428704176566"
      },
      "outputs": [
        {
          "output_type": "execute_result",
          "data": {
            "text/plain": [
              "65.6"
            ]
          },
          "metadata": {},
          "execution_count": 1
        }
      ],
      "source": [
        "# 각 성적은 0~100점 사이입니다.\n",
        "grades = [65, 70, 100, 43, 50]\n",
        "\n",
        "import numpy as np\n",
        "\n",
        "arr_grade = np.array(grades)\n",
        "arr_grade.mean()"
      ]
    },
    {
      "cell_type": "markdown",
      "metadata": {
        "id": "v9PMA9ZOBJSk"
      },
      "source": [
        "### 문제 06. 단어 고치기\n",
        "\n",
        "- 영희는 문장을 빠르게 입력하다가, 'w'를 모두 'q'라고 작성해버렸습니다.\n",
        "\n",
        "- 주어진 문장들을 모두 맞게 변경하여 주세요.\n",
        "> 단, 주어진 모든 문장에 사용된 'q'는 'w'가 변경된 것이라고 가정합니다.\n",
        "\n",
        "- 예를 들면, \"I am wuitting this exam.\" -> \"I am quitting this exam.\"\n",
        "- \"This is the wuickest approach I ever seen.\" -> \"Thie is the quickest approach I ever seen.\"\n",
        "- \"The wueen should make wuick decision\" -> \"The queen should make quick decision.\""
      ]
    },
    {
      "cell_type": "code",
      "execution_count": null,
      "metadata": {
        "id": "LqYtcDqX0qIw",
        "colab": {
          "base_uri": "https://localhost:8080/"
        },
        "outputId": "6a0c20ed-1ea9-4105-89af-cb3eb05ebd0b"
      },
      "outputs": [
        {
          "output_type": "stream",
          "name": "stdout",
          "text": [
            "I am quitting this exam.\n",
            "This is quickest approach I ever seen.\n",
            "The queen should make quick decision.\n"
          ]
        }
      ],
      "source": [
        "sentences = [\"I am wuitting this exam.\", \"This is wuickest approach I ever seen.\", \"The wueen should make wuick decision.\"]\n",
        "reslut = []\n",
        "for i in range(len(sentences)):\n",
        "  a = sentences[i].translate(str.maketrans('w','q'))\n",
        "  print(a)\n"
      ]
    },
    {
      "cell_type": "markdown",
      "metadata": {
        "id": "GkBEQj9G0qI0"
      },
      "source": [
        "### 문제 07. 단어 개수 파악하기\n",
        "\n",
        "- 주어진 문장들에 대해서 몇 개의 단어가 있는지 출력하는 코드를 작성하세요.\n",
        "\n",
        "- 예를 들어, \"I am quitting this exam\"이란 문장은 5개의 단어가 있습니다.\n",
        "\n",
        "- \"This is quickest approach I ever seen.\"이란 문장은 7개의 단어가 있습니다."
      ]
    },
    {
      "cell_type": "code",
      "execution_count": 29,
      "metadata": {
        "id": "HcmHjiQ10qI0",
        "colab": {
          "base_uri": "https://localhost:8080/"
        },
        "outputId": "0405db98-c1f9-4010-c935-0a41a75fd123"
      },
      "outputs": [
        {
          "output_type": "stream",
          "name": "stdout",
          "text": [
            "{'I am quitting this exam.': 5, 'This is quickest approach I ever seen.': 7, 'The queen should make quick decision.': 6}\n"
          ]
        }
      ],
      "source": [
        "sentences = [\"I am quitting this exam.\", \"This is quickest approach I ever seen.\", \"The queen should make quick decision.\"]\n",
        "total = {}\n",
        "\n",
        "# from collections import Counter\n",
        "\n",
        "# word = [ word.split() for word in sentences ]\n",
        "\n",
        "# word \n",
        "# sum(Counter(word[i]).values())\n",
        "\n",
        "\n",
        "for i in range(len(sentences)):\n",
        "  count = len(sentences[i].split())\n",
        "  total.update({sentences[i]:count})\n",
        "print(total) "
      ]
    },
    {
      "cell_type": "markdown",
      "metadata": {
        "id": "uMeiEuYmO5YG"
      },
      "source": [
        "### 문제 08. 학급 관리하기\n",
        "\n",
        "* 어떤 학급의 아이 5명의 키에 대한 정보가 주어집니다.\n",
        "* 이를 리스트로 만들고 heights 라는 변수에 담아주세요.\n",
        "*  175.3, 146, 184, 160, 167 \n",
        "> 단위인 cm는 표시하지 마세요. 숫자만!\n",
        "\n",
        "\n",
        "* 아이들 중 키가 제일 컸던 친구가 전학을 가게 되었습니다. 이를 코드로 구현해보고, heights의 길이를 구해보세요\n",
        "* 5명의 아이 중 한 명이 전학을 갔으니, 4명이 되었겠군요.\n",
        "> HINT : remove()"
      ]
    },
    {
      "cell_type": "code",
      "execution_count": null,
      "metadata": {
        "id": "ObQPM60VO5KC"
      },
      "outputs": [],
      "source": [
        "# 코드\n"
      ]
    },
    {
      "cell_type": "markdown",
      "metadata": {
        "id": "0WpNsD6mKdNc"
      },
      "source": [
        "### 문제 09. 데이터를 보호하자.\n",
        "\n",
        "- 이제 학교에서 더 이상 전학을 받지도, 보내지도 않기로 결정이 되었습니다. \n",
        "\n",
        "- 아이들의 키 데이터를 리스트로 불러왔습니다. 불러온 데이터의 값이 더 이상 변경되지 않기를 원합니다.\n",
        "\n",
        "- 불러온 데이터가 저장된 리스트의 값을 변경할 수 없게 바꿔주는 코드를 작성하세요.\n",
        "\n",
        "> HINT : 데이터 타입을 바꾸시면 됩니다 :)"
      ]
    },
    {
      "cell_type": "code",
      "execution_count": null,
      "metadata": {
        "id": "rCw6xz7p2MeN"
      },
      "outputs": [],
      "source": [
        "# 코드\n"
      ]
    },
    {
      "cell_type": "markdown",
      "metadata": {
        "id": "1wtAj7DqV_FY"
      },
      "source": [
        "### 문제 10. 장훈이만 이름이 있는 것이 아니다!\n",
        "- 5명의 아이들의 키는 있지만, 누구의 키인지 알 수 없었지만, 이제 알 수 있습니다.\n",
        "  - 양세형: 146(cm),  유세윤: 160(cm),  서강준: 167(cm),  유재석: 175.3(cm),  서장훈: 207cm\n",
        "  - cm 는 표시하지 않습니다.\n",
        "- 데이터 타입 중 Dictionary로 위처럼 이름(name - key)과 키(height - value)를 같이 붙여주려고 합니다. \n",
        "- 이를 코드로 작성해서 class_A 라는 변수에 담아줍니다. "
      ]
    },
    {
      "cell_type": "code",
      "execution_count": null,
      "metadata": {
        "id": "AfOf1NL2V-af"
      },
      "outputs": [],
      "source": [
        "class_A = \n"
      ]
    },
    {
      "cell_type": "markdown",
      "metadata": {
        "id": "mPpq8SnVYNAi"
      },
      "source": [
        "### 문제 11. 이번에는 키로 학급의 어린이를 검색해보려고 합니다. \n",
        " - 예를 들면, \"175.3cm 인 친구는 누구였지?\"\n",
        " - 이를 코드로 구현해보고, 키가 175.3cm 인 친구를 찾아봅시다.\n",
        " > HINT : for 문을 이용해봅시다."
      ]
    },
    {
      "cell_type": "code",
      "execution_count": null,
      "metadata": {
        "id": "OmOVfV84ZLiI"
      },
      "outputs": [],
      "source": [
        "# 코드\n"
      ]
    },
    {
      "cell_type": "markdown",
      "metadata": {
        "id": "AxBl-tOeAE1o"
      },
      "source": [
        "### 문제 12. 농구부를 뽑아볼까요?\n",
        " - class_A의 학급 친구들을 기억하시나요? 허재 감독이 미래의 농구 꿈나무를 선발하여 농구부를 만든다고 합니다. \n",
        " - 키가 175cm 이상인 친구들을 뽑아서 농구부를 결성한다고 합니다. \n",
        " - basketball_team  이라는 빈 리스트를 작성하여, 농구부가 될 아이들의 이름만 추가하는 코드를 작성해보세요.\n",
        " - 마지막에 basketball_team 을 출력해봅시다."
      ]
    },
    {
      "cell_type": "code",
      "execution_count": null,
      "metadata": {
        "id": "7B7Er3fJSrl9"
      },
      "outputs": [],
      "source": [
        "class_A = {\"양세형\": 146, \"유세윤\": 160, \"서강준\": 167, \"유재석\": 175.3, \"서장훈\": 207}\n",
        "\n",
        "basket_ball = []\n",
        "\n",
        "## 코드를 작성해보세요 ##\n",
        "\n",
        "\n",
        "\n",
        "\n",
        "\n"
      ]
    },
    {
      "cell_type": "markdown",
      "metadata": {
        "id": "osx22zW_I0U8"
      },
      "source": [
        "### 문제 13. 리스트에서 원하는 데이터 찾기\n",
        "\n",
        "아래 L3에서 다음 3가지 원소를 찾는 코드를 작성해보세요.\n",
        "\n",
        "**1, 2, '누구냐 넌?'**"
      ]
    },
    {
      "cell_type": "code",
      "execution_count": null,
      "metadata": {
        "id": "2NoCVnaDJU6D"
      },
      "outputs": [],
      "source": [
        "## 코드를 작성해보세요 ##\n",
        "L3 = [1, ['a', 2], 3.14, '누구냐 넌?']\n",
        "\n"
      ]
    },
    {
      "cell_type": "markdown",
      "metadata": {
        "id": "RDinWK3kF7Od"
      },
      "source": [
        "### 문제 14. 구구단 가로 출력 (for문)\n",
        "- 다음처럼 구구단을 가로로 출력해봅시다. \n",
        "    \n",
        "```\n",
        "2x1=2, 3x1=3, ..., 9x1= 9\n",
        "...\n",
        "2x9=18, 3x9=27, ..., 9x9= 81\n",
        "```\n",
        "\n",
        "> HINT\n",
        "\n",
        "- 이중 for문 안에 for문\n",
        "    \n",
        "- print: end = \"\\t\"\n",
        "    \n",
        "- string: format"
      ]
    },
    {
      "cell_type": "code",
      "execution_count": null,
      "metadata": {
        "id": "TGX9_GgWGK0f"
      },
      "outputs": [],
      "source": [
        "## 코드를 작성해보세요\n",
        "\n"
      ]
    },
    {
      "cell_type": "markdown",
      "metadata": {
        "id": "wUrzCeOKR6Qn"
      },
      "source": [
        "### 문제 15. 얼마나 걸릴까요?\n",
        "- for문을 이용하여 1부터 1000000까지의 숫자 중 3의 배수인 숫자들을 찾고, 몇 개가 있는지 알아보는 코드를 작성해보세요. \n",
        "\n",
        "(아래 코드를 실행하면 실행 시간이 출력됩니다. %%timeit 이라는 친구의 역할입니다)"
      ]
    },
    {
      "cell_type": "code",
      "execution_count": null,
      "metadata": {
        "id": "X77wa6mkR58j"
      },
      "outputs": [],
      "source": [
        "%%timeit\n",
        "## 코드를 작성해보세요 ##\n",
        "\n"
      ]
    },
    {
      "cell_type": "markdown",
      "metadata": {
        "id": "BBViXvHbLiU9"
      },
      "source": [
        "### 문제 16. 무엇을 타고 집에 갈까요?\n",
        "- 강준이라는 친구가 키가 5cm 자라더니 학교가 끝나고 집에 갈 때 잘 걸어가려 하지 않습니다. \n",
        "\n",
        "    - 강준이가 5000원 이상 소지하고 있을 경우 택시를 타고 집에 귀가할 수 있지만, 걸어서 귀가할 수도 있습니다.  \n",
        "        - print(\"택시를 탑니다.\")\n",
        "        - 택시를 탈 경우, 3000원이 소비됩니다. \n",
        "        - 남은 잔액도 출력해주세요\n",
        "    - 2000원 이상 있을 경우 버스를 타고 귀가하기로 했습니다.\n",
        "        - print(\"버스를 탑니다.\")\n",
        "        - 버스를 탈 경우, 1000원이 소비됩니다. \n",
        "        - 남은 잔액도 출력해주세요\n",
        "    - 2000원 미만일 경우 걸어서 귀가하기로 했습니다.\n",
        "        - print(\"걸어서 귀가합니다.\")\n",
        "\n",
        "- 이를 반영한 코드를 작성해보세요"
      ]
    },
    {
      "cell_type": "code",
      "execution_count": null,
      "metadata": {
        "id": "Jp1GKT2yHqKe"
      },
      "outputs": [],
      "source": [
        "## 강준이가 소지하고 있는 금액을 money 라는 변수로 받습니다. \n",
        "## 현재 10000원이 있네요.\n",
        "money = 10000\n",
        "\n",
        "## 택시를 탄다면, True로 타지 않는다면 False로 둘 수 있습니다.\n",
        "taxi = True\n",
        "\n",
        "## 코드를 작성해보세요 \n",
        "\n",
        "\n",
        "\n",
        "\n"
      ]
    },
    {
      "cell_type": "markdown",
      "metadata": {
        "id": "RDg7xlCsVNqv"
      },
      "source": [
        "### 문제 17. 오락에 빠진 강준이\n",
        "- 강준이가 택시에 내려서 걸어서 귀가하던 중, 집 근처 오락실에서 '철권'게임을 하고 싶어졌습니다. 회당 500원인 이 게임을 몇 번이나 할 수 있을까요?\n",
        "- 매번 게임을 진행한 뒤의 강준이가 가지고 있는 잔액과 몇 번 게임을 했는지 횟수를 출력해주는 코드를 작성해보세요. \n",
        "> HINT : while 문"
      ]
    },
    {
      "cell_type": "code",
      "execution_count": null,
      "metadata": {
        "id": "x0wqvZyURb25"
      },
      "outputs": [],
      "source": [
        "## 강준이가 소지하고 있는 금액을 money 라는 변수로 받습니다. \n",
        "## 현재 택시에서 내려서 잔액이 7000원이군요.\n",
        "money = 7000\n",
        "# 현재 강준이의 게임횟수(counts)는 0번입니다.\n",
        "counts = 0\n",
        "\n",
        "## 코드를 작성해보세요 \n",
        "\n",
        "\n",
        "\n"
      ]
    },
    {
      "cell_type": "markdown",
      "metadata": {
        "id": "-i_BliPTWkgT"
      },
      "source": [
        "### 문제 18. 단어 개수 구하기\n",
        "\n",
        "* 다음과 같은 영어기사 5개가 있다.\n",
        "* 철수는 다음 뉴스기사들의 어떤 단어가 얼마나 나왔는지 궁금해졌다.\n",
        "* 뉴스기사에서 등장하는 모든 단어마다 개수를 세어보자!\n",
        "\n",
        "\n",
        "**[HINT]**\n",
        "\n",
        "1. 각 문장을 단어로 나누려면 어떻게 해야할지 고민해보세요.\n",
        "\n",
        "\n",
        "2. 각 단어를 저장할 data type을 고민해보세요. 어떤 구조가 좋을까요?\n",
        "\n",
        "\n",
        "3. 반복문을 통해서 단어 하나하나의 count를 계산합니다."
      ]
    },
    {
      "cell_type": "code",
      "execution_count": null,
      "metadata": {
        "id": "xmUaMYsGWkgT"
      },
      "outputs": [],
      "source": [
        "#아래 5개의 변수들은 각 뉴스 기사 하나를 의미합니다.\n",
        "news1 = \"earn champion products ch approves stock split champion products inc said its board of directors approved a two for one stock split of its common shares for shareholders of record as of april the company also said its board voted to recommend to shareholders at the annual meeting april an increase in the authorized capital stock from five mln to mln shares reuter\"\n",
        "news2 = \"acq computer terminal systems cpml completes sale computer terminal systems inc said it has completed the sale of shares of its common stock and warrants to acquire an additional one mln shares to sedio n v of lugano switzerland for dlrs the company said the warrants are exercisable for five years at a purchase price of dlrs per share computer terminal said sedio also has the right to buy additional shares and increase its total holdings up to pct of the computer terminal s outstanding common stock under certain circumstances involving change of control at the company the company said if the conditions occur the warrants would be exercisable at a price equal to pct of its common stock s market price at the time not to exceed dlrs per share computer terminal also said it sold the technolgy rights to its dot matrix impact technology including any future improvements to woodco inc of houston tex for dlrs but it said it would continue to be the exclusive worldwide licensee of the technology for woodco the company said the moves were part of its reorganization plan and would help pay current operation costs and ensure product delivery computer terminal makes computer generated labels forms tags and ticket printers and terminals reuter\"\n",
        "news3 = \"earn cobanco inc cbco year net shr cts vs dlrs net vs assets mln vs mln deposits mln vs mln loans mln vs mln note th qtr not available year includes extraordinary gain from tax carry forward of dlrs or five cts per shr reuter\"\n",
        "news4 = \"earn am international inc am nd qtr jan oper shr loss two cts vs profit seven cts oper shr profit vs profit revs mln vs mln avg shrs mln vs mln six mths oper shr profit nil vs profit cts oper net profit vs profit revs mln vs mln avg shrs mln vs mln note per shr calculated after payment of preferred dividends results exclude credits of or four cts and or nine cts for qtr and six mths vs or six cts and or cts for prior periods from operating loss carryforwards reuter\"\n",
        "news5 = \"earn brown forman inc bfd th qtr net shr one dlr vs cts net mln vs mln revs mln vs mln nine mths shr dlrs vs dlrs net mln vs mln revs billion vs mln reuter\""
      ]
    },
    {
      "cell_type": "code",
      "execution_count": null,
      "metadata": {
        "id": "XAoGV4jqWkgU"
      },
      "outputs": [],
      "source": [
        "# 단어 별 count를 출력해보세요.\n",
        "## e.g. earn : 4, champion : 2, ...\n",
        "\n"
      ]
    },
    {
      "cell_type": "code",
      "source": [
        "from google.colab import drive\n",
        "drive.mount('/content/drive')"
      ],
      "metadata": {
        "id": "7x-tBOPYXCUU"
      },
      "execution_count": null,
      "outputs": []
    }
  ],
  "metadata": {
    "colab": {
      "provenance": [],
      "include_colab_link": true
    },
    "kernelspec": {
      "display_name": "Python 3 (ipykernel)",
      "language": "python",
      "name": "python3"
    },
    "language_info": {
      "codemirror_mode": {
        "name": "ipython",
        "version": 3
      },
      "file_extension": ".py",
      "mimetype": "text/x-python",
      "name": "python",
      "nbconvert_exporter": "python",
      "pygments_lexer": "ipython3",
      "version": "3.9.15"
    },
    "toc": {
      "base_numbering": 1,
      "nav_menu": {},
      "number_sections": true,
      "sideBar": true,
      "skip_h1_title": false,
      "title_cell": "Table of Contents",
      "title_sidebar": "Contents",
      "toc_cell": false,
      "toc_position": {},
      "toc_section_display": true,
      "toc_window_display": false
    }
  },
  "nbformat": 4,
  "nbformat_minor": 0
}