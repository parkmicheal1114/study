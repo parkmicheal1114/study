{
  "nbformat": 4,
  "nbformat_minor": 0,
  "metadata": {
    "colab": {
      "provenance": [],
      "authorship_tag": "ABX9TyN5S0WCsTPxey877IerGURQ",
      "include_colab_link": true
    },
    "kernelspec": {
      "name": "python3",
      "display_name": "Python 3"
    },
    "language_info": {
      "name": "python"
    }
  },
  "cells": [
    {
      "cell_type": "markdown",
      "metadata": {
        "id": "view-in-github",
        "colab_type": "text"
      },
      "source": [
        "<a href=\"https://colab.research.google.com/github/parkmicheal1114/study/blob/main/python/python_practice_2023_05__4.ipynb\" target=\"_parent\"><img src=\"https://colab.research.google.com/assets/colab-badge.svg\" alt=\"Open In Colab\"/></a>"
      ]
    },
    {
      "cell_type": "markdown",
      "source": [
        "- 리스트에서 세 글자 이상의 문자를 화면에 출력하라"
      ],
      "metadata": {
        "id": "WOnjLGNNQS4a"
      }
    },
    {
      "cell_type": "code",
      "source": [
        "list_1 = [\"I\", \"study\", \"python\", \"language\", \"!\"]\n",
        "for word in list_1:\n",
        "  if len(word) > 2 :\n",
        "    print(word)\n",
        "\n",
        "    "
      ],
      "metadata": {
        "colab": {
          "base_uri": "https://localhost:8080/"
        },
        "id": "xAGBP5NfQR4V",
        "outputId": "d5161b28-6df9-448c-b826-28783494b744"
      },
      "execution_count": null,
      "outputs": [
        {
          "output_type": "stream",
          "name": "stdout",
          "text": [
            "study\n",
            "python\n",
            "language\n"
          ]
        }
      ]
    },
    {
      "cell_type": "markdown",
      "source": [
        "- 리스트에서 대문자만 화면에 출력하라."
      ],
      "metadata": {
        "id": "qXch1BA2Qv7M"
      }
    },
    {
      "cell_type": "code",
      "source": [
        "list2 = [\"A\", \"b\", \"c\", \"D\"]\n",
        "\n",
        "for word in list2:\n",
        "  if word == word.upper():\n",
        "    print(word)\n"
      ],
      "metadata": {
        "colab": {
          "base_uri": "https://localhost:8080/"
        },
        "id": "kNPgRlSqQvqE",
        "outputId": "c2c6357f-e76b-4f50-c031-8b55f5a94075"
      },
      "execution_count": null,
      "outputs": [
        {
          "output_type": "stream",
          "name": "stdout",
          "text": [
            "A\n",
            "D\n"
          ]
        }
      ]
    },
    {
      "cell_type": "markdown",
      "source": [
        "- 리스트에서 소문자만 화면에 출력하라."
      ],
      "metadata": {
        "id": "UIAYQZ_vRSY_"
      }
    },
    {
      "cell_type": "code",
      "source": [
        "list2 = [\"A\", \"b\", \"c\", \"D\"]\n",
        "\n",
        "for word in list2:\n",
        "  if word == word.lower():\n",
        "    print(word) "
      ],
      "metadata": {
        "colab": {
          "base_uri": "https://localhost:8080/"
        },
        "id": "ATCNzamWRR4j",
        "outputId": "a6316f4a-9928-4235-cc13-1764aef27c58"
      },
      "execution_count": null,
      "outputs": [
        {
          "output_type": "stream",
          "name": "stdout",
          "text": [
            "b\n",
            "c\n"
          ]
        }
      ]
    },
    {
      "cell_type": "markdown",
      "source": [
        "- 이름의 첫 글자를 대문자로 변경해서 출력하라."
      ],
      "metadata": {
        "id": "nzqn8pqxSDYk"
      }
    },
    {
      "cell_type": "code",
      "source": [
        "list3 = ['dog', 'cat', 'parrot']\n",
        "\n",
        "for word in list3:\n",
        "  print(word[0].upper()+word[1:])"
      ],
      "metadata": {
        "colab": {
          "base_uri": "https://localhost:8080/"
        },
        "id": "s52jbW_1Qt6o",
        "outputId": "95b633dc-7fe8-4124-c749-97d42a2d0229"
      },
      "execution_count": null,
      "outputs": [
        {
          "output_type": "stream",
          "name": "stdout",
          "text": [
            "Dog\n",
            "Cat\n",
            "Parrot\n"
          ]
        }
      ]
    },
    {
      "cell_type": "markdown",
      "source": [
        "- 파일 이름이 저장된 리스트에서 확장자를 제거하고 파일 이름만 화면에 출력하라. (힌트: split() 메서드)"
      ],
      "metadata": {
        "id": "1oqH5LD_SHZl"
      }
    },
    {
      "cell_type": "code",
      "source": [
        "list4 = ['hello.py', 'ex01.py', 'intro.hwp']\n",
        "\n",
        "for word in list4:\n",
        "  print(word.split('.')[0])"
      ],
      "metadata": {
        "colab": {
          "base_uri": "https://localhost:8080/"
        },
        "id": "GZb-37udSJ7L",
        "outputId": "0fd03e3b-e9ba-4a74-e997-c0694c43ab99"
      },
      "execution_count": null,
      "outputs": [
        {
          "output_type": "stream",
          "name": "stdout",
          "text": [
            "hello\n",
            "ex01\n",
            "intro\n"
          ]
        }
      ]
    },
    {
      "cell_type": "markdown",
      "source": [
        "- 파일 이름이 저장된 리스트에서 확장자가 .h인 파일 이름을 출력하라."
      ],
      "metadata": {
        "id": "YwJ_YhaqS5E2"
      }
    },
    {
      "cell_type": "code",
      "source": [
        "list5 = ['intra.h', 'intra.c', 'define.h', 'run.py']\n",
        "\n",
        "for f in list5:\n",
        "  if f.split('.')[1] == 'h':\n",
        "    print(f)\n"
      ],
      "metadata": {
        "colab": {
          "base_uri": "https://localhost:8080/"
        },
        "id": "Jl0q6421S4je",
        "outputId": "2fe7f84f-d2e7-4160-d738-c75d3bdbf0be"
      },
      "execution_count": null,
      "outputs": [
        {
          "output_type": "stream",
          "name": "stdout",
          "text": [
            "intra.h\n",
            "define.h\n"
          ]
        }
      ]
    },
    {
      "cell_type": "markdown",
      "source": [
        "- 파일 이름이 저장된 리스트에서 확장자가 .h나 .c인 파일을 화면에 출력하라."
      ],
      "metadata": {
        "id": "5oN5Xh0TTgRD"
      }
    },
    {
      "cell_type": "code",
      "source": [
        "for f in list5:\n",
        "  if f.split('.')[1] == 'h' or f.split('.')[1] == 'c' :\n",
        "    print(f) "
      ],
      "metadata": {
        "colab": {
          "base_uri": "https://localhost:8080/"
        },
        "id": "11_oIeNETf_I",
        "outputId": "6693b653-894e-4440-a2f5-9dd99882057d"
      },
      "execution_count": null,
      "outputs": [
        {
          "output_type": "stream",
          "name": "stdout",
          "text": [
            "intra.h\n",
            "intra.c\n",
            "define.h\n"
          ]
        }
      ]
    },
    {
      "cell_type": "markdown",
      "source": [
        "- for문과 range 구문을 사용해서 0~99까지 한 라인에 하나씩 순차적으로 출력하는 프로그램을 작성하라."
      ],
      "metadata": {
        "id": "Q7NNQdthU8O_"
      }
    },
    {
      "cell_type": "code",
      "source": [
        "for i in range(100):\n",
        "  print(i)"
      ],
      "metadata": {
        "id": "i3-GV23IU7wx"
      },
      "execution_count": null,
      "outputs": []
    },
    {
      "cell_type": "markdown",
      "source": [
        "- 월드컵은 4년에 한 번 개최된다. range()를 사용하여 2002~2050년까지 중 월드컵이 개최되는 연도를 출력하라"
      ],
      "metadata": {
        "id": "8koZNsCjVJiH"
      }
    },
    {
      "cell_type": "code",
      "source": [
        "for worldcup in range(2002,2051,4):\n",
        "  print(worldcup)"
      ],
      "metadata": {
        "colab": {
          "base_uri": "https://localhost:8080/"
        },
        "id": "OkL4I4w0VMn-",
        "outputId": "399748db-3862-48ba-e341-55a884dfdba7"
      },
      "execution_count": null,
      "outputs": [
        {
          "output_type": "stream",
          "name": "stdout",
          "text": [
            "2002\n",
            "2006\n",
            "2010\n",
            "2014\n",
            "2018\n",
            "2022\n",
            "2026\n",
            "2030\n",
            "2034\n",
            "2038\n",
            "2042\n",
            "2046\n",
            "2050\n"
          ]
        }
      ]
    },
    {
      "cell_type": "markdown",
      "source": [
        "- 1부터 30까지의 숫자 중 3의 배수를 출력하라."
      ],
      "metadata": {
        "id": "GnYlL97KV0El"
      }
    },
    {
      "cell_type": "code",
      "source": [
        "for i in range(1,31): \n",
        "  if i%3 ==0:\n",
        "    print(i)"
      ],
      "metadata": {
        "colab": {
          "base_uri": "https://localhost:8080/"
        },
        "id": "WdNcoFxAVziA",
        "outputId": "511eace6-b5c4-4329-9e87-df17c4957682"
      },
      "execution_count": null,
      "outputs": [
        {
          "output_type": "stream",
          "name": "stdout",
          "text": [
            "3\n",
            "6\n",
            "9\n",
            "12\n",
            "15\n",
            "18\n",
            "21\n",
            "24\n",
            "27\n",
            "30\n"
          ]
        }
      ]
    },
    {
      "cell_type": "markdown",
      "source": [
        "- 99부터 0까지 1씩 감소하는 숫자들을, 한 라인에 하나씩 출력하라"
      ],
      "metadata": {
        "id": "YUxKoSgGbRYl"
      }
    },
    {
      "cell_type": "code",
      "source": [
        "for i in range(100,0,-1):\n",
        "  print(i)"
      ],
      "metadata": {
        "id": "ehTZ03CVbOdx"
      },
      "execution_count": null,
      "outputs": []
    },
    {
      "cell_type": "markdown",
      "source": [
        "- for문을 사용해서 아래와 같이 출력하라."
      ],
      "metadata": {
        "id": "xyzQzhS6bNrc"
      }
    },
    {
      "cell_type": "code",
      "source": [
        "# step 은 정수만 . float 으로 하려면 numpy로..\n",
        "\n",
        "for i in range(0,10):\n",
        "  print(i/10)"
      ],
      "metadata": {
        "colab": {
          "base_uri": "https://localhost:8080/"
        },
        "id": "ffcnl4jbb5Cq",
        "outputId": "2d78ae9b-1393-4114-9a59-957070d15402"
      },
      "execution_count": null,
      "outputs": [
        {
          "output_type": "stream",
          "name": "stdout",
          "text": [
            "0.0\n",
            "0.1\n",
            "0.2\n",
            "0.3\n",
            "0.4\n",
            "0.5\n",
            "0.6\n",
            "0.7\n",
            "0.8\n",
            "0.9\n"
          ]
        }
      ]
    },
    {
      "cell_type": "markdown",
      "source": [
        "- 구구단 3단을 출력하라. "
      ],
      "metadata": {
        "id": "tcQiL2BpdC-_"
      }
    },
    {
      "cell_type": "code",
      "source": [
        "for i in range(1,10):\n",
        "  print(f' 3 x {i} = {3*i}')"
      ],
      "metadata": {
        "colab": {
          "base_uri": "https://localhost:8080/"
        },
        "id": "Kmkls9ssdCgy",
        "outputId": "2d2d44e9-eae8-45bb-90e1-9b0839c4ecd2"
      },
      "execution_count": null,
      "outputs": [
        {
          "output_type": "stream",
          "name": "stdout",
          "text": [
            " 3 x 1 = 3\n",
            " 3 x 2 = 6\n",
            " 3 x 3 = 9\n",
            " 3 x 4 = 12\n",
            " 3 x 5 = 15\n",
            " 3 x 6 = 18\n",
            " 3 x 7 = 21\n",
            " 3 x 8 = 24\n",
            " 3 x 9 = 27\n"
          ]
        }
      ]
    },
    {
      "cell_type": "markdown",
      "source": [
        "- 구구단 3단을 출력하라. 단 홀수 번째만 출력한다"
      ],
      "metadata": {
        "id": "j5goiwPvdVfA"
      }
    },
    {
      "cell_type": "code",
      "source": [
        "for i in range(1,10):\n",
        "  if i % 2 != 0 :\n",
        "    print(f' 3 x {i} = {3*i}')"
      ],
      "metadata": {
        "colab": {
          "base_uri": "https://localhost:8080/"
        },
        "id": "zRhcUouSdYvn",
        "outputId": "731275ed-4cd0-4c8e-afc1-79cc2f5ea8e0"
      },
      "execution_count": null,
      "outputs": [
        {
          "output_type": "stream",
          "name": "stdout",
          "text": [
            " 3 x 1 = 3\n",
            " 3 x 3 = 9\n",
            " 3 x 5 = 15\n",
            " 3 x 7 = 21\n",
            " 3 x 9 = 27\n"
          ]
        }
      ]
    },
    {
      "cell_type": "markdown",
      "source": [
        "- 1~10까지의 숫자에 대해 모두 더한 값을 출력하는 프로그램을 for 문을 사용하여 작성하라."
      ],
      "metadata": {
        "id": "dptJJlCFeYyL"
      }
    },
    {
      "cell_type": "code",
      "source": [
        "sum = 0\n",
        "for i in range(0,11):\n",
        "  sum = sum + i\n",
        "print(sum)"
      ],
      "metadata": {
        "colab": {
          "base_uri": "https://localhost:8080/"
        },
        "id": "z89XcRQ8eoNN",
        "outputId": "9c95016c-eadc-4159-a0d4-711a893add66"
      },
      "execution_count": null,
      "outputs": [
        {
          "output_type": "stream",
          "name": "stdout",
          "text": [
            "55\n"
          ]
        }
      ]
    },
    {
      "cell_type": "markdown",
      "source": [
        "- 1~10까지의 숫자 중 모든 홀수의 합을 출력하는 프로그램을 for 문을 사용하여 작성하라."
      ],
      "metadata": {
        "id": "5_VBbxQ1iO-F"
      }
    },
    {
      "cell_type": "code",
      "source": [
        "odd_sum = 0\n",
        "\n",
        "for o in range(1,10,2):\n",
        "  odd_sum += o\n",
        "\n",
        "print(odd_sum)\n"
      ],
      "metadata": {
        "colab": {
          "base_uri": "https://localhost:8080/"
        },
        "id": "i7rn17a5iOOt",
        "outputId": "1bfc16b3-6b80-43a8-cac8-74b4b0e5ec0e"
      },
      "execution_count": null,
      "outputs": [
        {
          "output_type": "stream",
          "name": "stdout",
          "text": [
            "25\n"
          ]
        }
      ]
    },
    {
      "cell_type": "markdown",
      "source": [
        "- 1~10까지의 숫자를 모두 곱한 값을 출력하는 프로그램을 for 문을 사용하여 작성하라."
      ],
      "metadata": {
        "id": "vtYw5o3yiu1D"
      }
    },
    {
      "cell_type": "code",
      "source": [
        "mul = 1\n",
        "\n",
        "for n in range(1,11):\n",
        "  mul *= n\n",
        "\n",
        "print(mul)"
      ],
      "metadata": {
        "colab": {
          "base_uri": "https://localhost:8080/"
        },
        "id": "qMxWGJ9ziuUz",
        "outputId": "a2c890b6-04d4-4d08-88eb-57cd1515ff91"
      },
      "execution_count": null,
      "outputs": [
        {
          "output_type": "stream",
          "name": "stdout",
          "text": [
            "3628800\n"
          ]
        }
      ]
    },
    {
      "cell_type": "markdown",
      "source": [
        "- 아래와 같이 리스트의 데이터를 출력하라. 단, for문과 range문을 사용하라."
      ],
      "metadata": {
        "id": "7Ul2nttPjdNv"
      }
    },
    {
      "cell_type": "code",
      "source": [
        "price_list = [32100, 32150, 32000, 32500]\n",
        "\n",
        "for i in range(len(price_list)):\n",
        "  print(price_list[i])"
      ],
      "metadata": {
        "colab": {
          "base_uri": "https://localhost:8080/"
        },
        "id": "QP6ArQrVjk1P",
        "outputId": "1526105c-2ce2-471c-a066-47927400af0e"
      },
      "execution_count": null,
      "outputs": [
        {
          "output_type": "stream",
          "name": "stdout",
          "text": [
            "32100\n",
            "32150\n",
            "32000\n",
            "32500\n"
          ]
        }
      ]
    },
    {
      "cell_type": "markdown",
      "source": [
        "- 아래와 같이 리스트의 데이터를 출력하라. 단, for문과 range문을 사용하라."
      ],
      "metadata": {
        "id": "sSk1T9wtkFPi"
      }
    },
    {
      "cell_type": "code",
      "source": [
        "# 위 price_list 참조\n",
        "\n",
        "for idx , p in enumerate(price_list):\n",
        "  print ( idx , p )"
      ],
      "metadata": {
        "colab": {
          "base_uri": "https://localhost:8080/"
        },
        "id": "MNwxibv5kNYL",
        "outputId": "7a48c6bd-daab-40fb-daea-928003faeccb"
      },
      "execution_count": null,
      "outputs": [
        {
          "output_type": "stream",
          "name": "stdout",
          "text": [
            "0 32100\n",
            "1 32150\n",
            "2 32000\n",
            "3 32500\n"
          ]
        }
      ]
    },
    {
      "cell_type": "markdown",
      "source": [
        "- 아래와 같이 리스트의 데이터를 출력하라. 단, for문과 range문을 사용하라."
      ],
      "metadata": {
        "id": "nTfbykOwkvmt"
      }
    },
    {
      "cell_type": "code",
      "source": [
        "# 인덱스만 역순으로\n",
        "\n",
        "for idx, p in enumerate(price_list):\n",
        "  print(3-idx,p)"
      ],
      "metadata": {
        "colab": {
          "base_uri": "https://localhost:8080/"
        },
        "id": "q21ytk0ckvJi",
        "outputId": "0f988396-6931-4031-b945-0bc12f4ae1fd"
      },
      "execution_count": null,
      "outputs": [
        {
          "output_type": "stream",
          "name": "stdout",
          "text": [
            "3 32100\n",
            "2 32150\n",
            "1 32000\n",
            "0 32500\n"
          ]
        }
      ]
    },
    {
      "cell_type": "markdown",
      "source": [
        "- 아래와 같이 리스트의 데이터를 출력하라. 단, for문과 range문을 사용하라."
      ],
      "metadata": {
        "id": "b0BEnLjYn_kf"
      }
    },
    {
      "cell_type": "code",
      "source": [
        "for idx, p in enumerate(price_list):\n",
        "  print((idx*10)+90,p)\n"
      ],
      "metadata": {
        "colab": {
          "base_uri": "https://localhost:8080/"
        },
        "id": "4bXrn5PboETC",
        "outputId": "37958e1f-69c0-4bde-aa24-22d0c3ad967e"
      },
      "execution_count": null,
      "outputs": [
        {
          "output_type": "stream",
          "name": "stdout",
          "text": [
            "90 32100\n",
            "100 32150\n",
            "110 32000\n",
            "120 32500\n"
          ]
        }
      ]
    },
    {
      "cell_type": "code",
      "source": [
        "my_list = [\"가\", \"나\", \"다\", \"라\"]\n",
        "\n",
        "for i in range(len(my_list)-1):\n",
        "  print(my_list[i],my_list[i+1])"
      ],
      "metadata": {
        "colab": {
          "base_uri": "https://localhost:8080/"
        },
        "id": "FiYHr25logmy",
        "outputId": "7ce5c714-06f0-4f58-f55c-488c3c4b1cb4"
      },
      "execution_count": null,
      "outputs": [
        {
          "output_type": "stream",
          "name": "stdout",
          "text": [
            "가 나\n",
            "나 다\n",
            "다 라\n"
          ]
        }
      ]
    },
    {
      "cell_type": "markdown",
      "source": [
        "- 리스트를 아래와 같이 출력하라."
      ],
      "metadata": {
        "id": "DaRXtrp9qcfv"
      }
    },
    {
      "cell_type": "code",
      "source": [
        "my_list = [\"가\", \"나\", \"다\", \"라\", \"마\"]\n",
        "\n",
        "for i in range(len(my_list)-2):\n",
        "  print(my_list[i],my_list[i+1],my_list[i+2])"
      ],
      "metadata": {
        "colab": {
          "base_uri": "https://localhost:8080/"
        },
        "id": "EAOE3KKDqjAE",
        "outputId": "08e31057-c340-41c8-9475-7c589f3b5bf5"
      },
      "execution_count": null,
      "outputs": [
        {
          "output_type": "stream",
          "name": "stdout",
          "text": [
            "가 나 다\n",
            "나 다 라\n",
            "다 라 마\n"
          ]
        }
      ]
    },
    {
      "cell_type": "markdown",
      "source": [
        "- 반복문과 range 함수를 사용해서 my_list를 아래와 같이 출력하라."
      ],
      "metadata": {
        "id": "bcQwDazpqxdb"
      }
    },
    {
      "cell_type": "code",
      "source": [
        "my_list = [\"가\", \"나\", \"다\", \"라\"]\n",
        "\n",
        "for i in range(len(my_list)-1,0,-1 ):\n",
        "  print(my_list[i],my_list[i-1])"
      ],
      "metadata": {
        "colab": {
          "base_uri": "https://localhost:8080/"
        },
        "id": "offvvtjlq0QA",
        "outputId": "916a65e2-fec6-4d53-ba1e-07bd05c0166e"
      },
      "execution_count": null,
      "outputs": [
        {
          "output_type": "stream",
          "name": "stdout",
          "text": [
            "라 다\n",
            "다 나\n",
            "나 가\n"
          ]
        }
      ]
    },
    {
      "cell_type": "markdown",
      "source": [
        "리스트에는 네 개의 정수가 저장되어 있다. 각각의 데이터에 대해서 자신과 우측값과의 차분값을 화면에 출력하라.\n",
        "\n",
        "```\n",
        "my_list = [100, 200, 400, 800]\n",
        "```\n",
        "\n",
        "예를들어 100을 기준으로 우측에 위치한 200과의 차분 값를 화면에 출력하고, 200을 기준으로 우측에 위치한 400과의 차분값을 화면에 출력한다. 이어서 400을 기준으로 우측에 위치한 800과의 차분값을 화면에 출력한다."
      ],
      "metadata": {
        "id": "tz-x-Mo-sG-Y"
      }
    },
    {
      "cell_type": "code",
      "source": [
        "my_list = [100, 200, 400, 800]\n",
        "\n",
        "for i in range(len(my_list)-1):\n",
        "  diff = my_list[i+1] - my_list[i]\n",
        "  print(diff)\n"
      ],
      "metadata": {
        "colab": {
          "base_uri": "https://localhost:8080/"
        },
        "id": "JzSKpL8BsS5U",
        "outputId": "53e7e3e9-86aa-42ea-fd4e-7edf1088b836"
      },
      "execution_count": null,
      "outputs": [
        {
          "output_type": "stream",
          "name": "stdout",
          "text": [
            "100\n",
            "200\n",
            "400\n"
          ]
        }
      ]
    },
    {
      "cell_type": "markdown",
      "source": [
        "리스트에는 6일 간의 종가 데이터가 저장되어 있다. 종가 데이터의 3일 이동 평균을 계산하고 이를 화면에 출력하라.\n",
        "```\n",
        "my_list = [100, 200, 400, 800, 1000, 1300]\n",
        "```\n",
        "첫 번째 줄에는 100, 200, 400의 평균값이 출력된다. 두 번째 줄에는 200, 400, 800의 평균값이 출력된다. 같은 방식으로 나머지 데이터의 평균을 출력한다."
      ],
      "metadata": {
        "id": "tSyVL-h8tUGl"
      }
    },
    {
      "cell_type": "code",
      "source": [
        "my_list = [100, 200, 400, 800, 1000, 1300]\n",
        "for i in range(len(my_list)-2):\n",
        "  sum = my_list[i] + my_list[i+1] + my_list[i+2]\n",
        "  avg = sum / 3 \n",
        "  print(avg)"
      ],
      "metadata": {
        "colab": {
          "base_uri": "https://localhost:8080/"
        },
        "id": "JQ2u-GFtteUD",
        "outputId": "aa3844a8-e082-44d9-ae6a-f184d38dde19"
      },
      "execution_count": null,
      "outputs": [
        {
          "output_type": "stream",
          "name": "stdout",
          "text": [
            "233.33333333333334\n",
            "466.6666666666667\n",
            "733.3333333333334\n",
            "1033.3333333333333\n"
          ]
        }
      ]
    },
    {
      "cell_type": "markdown",
      "source": [
        "- 리스트에 5일간의 저가, 고가 정보가 저장돼 있다. 고가와 저가의 차를 변동폭이라고 정의할 때, low, high 두 개의 리스트를 사용해서 5일간의 변동폭을 volatility 리스트에 저장하라."
      ],
      "metadata": {
        "id": "lj78vbx-vM4b"
      }
    },
    {
      "cell_type": "code",
      "source": [
        "low_prices  = [100, 200, 400, 800, 1000]\n",
        "high_prices = [150, 300, 430, 880, 1000]\n",
        "\n",
        "volatility = []\n",
        "for i in range(len(low_prices)):\n",
        "  vol = high_prices[i] - low_prices[i]\n",
        "  volatility.append(vol)\n",
        "\n",
        "print(volatility)"
      ],
      "metadata": {
        "colab": {
          "base_uri": "https://localhost:8080/"
        },
        "id": "hvgpUORDvP0B",
        "outputId": "e0b62c32-3244-44c6-f639-8e0301a68de5"
      },
      "execution_count": null,
      "outputs": [
        {
          "output_type": "stream",
          "name": "stdout",
          "text": [
            "[50, 100, 30, 80, 0]\n"
          ]
        }
      ]
    },
    {
      "cell_type": "markdown",
      "source": [
        "- 아래 표에서 하나의 행을 하나의 리스트로, 총 3개의 리스트를 갖는 이차원 리스트 apart를 정의하라."
      ],
      "metadata": {
        "id": "M3xdBudOHtkb"
      }
    },
    {
      "cell_type": "code",
      "source": [
        "apart = [[101,201,301],[102,202,302]]"
      ],
      "metadata": {
        "id": "KW3UW6K5HqlR"
      },
      "execution_count": null,
      "outputs": []
    },
    {
      "cell_type": "markdown",
      "source": [
        "- 아래 표에서 하나의 열을 하나의 리스트로, 총 2개의 리스트를 갖는 이차원 리스트 stock을 정의하라."
      ],
      "metadata": {
        "id": "JPO4OpDyH_48"
      }
    },
    {
      "cell_type": "code",
      "source": [
        "stock = [[100,200,300],[80,210,330]]"
      ],
      "metadata": {
        "id": "fVlkGPzJIDDm"
      },
      "execution_count": null,
      "outputs": []
    },
    {
      "cell_type": "markdown",
      "source": [
        "- 아래 표를 stock 이름의 딕셔너리로 표현하라.시가를 key로 저장하고, 나머지 같은 열의 데이터를 리스트로 저장해서 value로 저장한다. 종가 역시 key로 저장하고 나머지 같은 열의 데이터를 리스트로 저장해서 value로 저장한다."
      ],
      "metadata": {
        "id": "xg5RnRm3IUO7"
      }
    },
    {
      "cell_type": "code",
      "source": [
        "column = ['시가','종가']\n",
        "\n",
        "dict_stock = dict(zip(column,stock))\n",
        "dict_stock"
      ],
      "metadata": {
        "colab": {
          "base_uri": "https://localhost:8080/"
        },
        "id": "0oO94LGCITuo",
        "outputId": "fee4324e-793e-4035-974d-c4f5a9acf1d6"
      },
      "execution_count": null,
      "outputs": [
        {
          "output_type": "execute_result",
          "data": {
            "text/plain": [
              "{'시가': [100, 200, 300], '종가': [80, 210, 330]}"
            ]
          },
          "metadata": {},
          "execution_count": 76
        }
      ]
    },
    {
      "cell_type": "markdown",
      "source": [
        "- 아래 표를 stock 이라는 이름의 딕셔너리로 표현하라. 날짜를 key로 저장하고, 나머지 같은 행의 데이터를 리스트로 저장해서 value로 저장한다. 첫 열이 날짜이다."
      ],
      "metadata": {
        "id": "qF06xKURIxUH"
      }
    },
    {
      "cell_type": "code",
      "source": [
        "date = ('10/10','10/11')\n",
        "\n",
        "dict_date = dict(zip(date,stock))\n",
        "dict_date"
      ],
      "metadata": {
        "colab": {
          "base_uri": "https://localhost:8080/"
        },
        "id": "hKdPBU9fI0nF",
        "outputId": "1e43d3ab-fc46-4910-8166-ffa642e1d7f9"
      },
      "execution_count": null,
      "outputs": [
        {
          "output_type": "execute_result",
          "data": {
            "text/plain": [
              "{'10/10': [100, 200, 300], '10/11': [80, 210, 330]}"
            ]
          },
          "metadata": {},
          "execution_count": 77
        }
      ]
    },
    {
      "cell_type": "markdown",
      "source": [
        "- 리스트에 저장된 데이터를 아래와 같이 출력하라."
      ],
      "metadata": {
        "id": "NnX3Qml7JY-1"
      }
    },
    {
      "cell_type": "code",
      "source": [
        "apart = [ [101, 102], [201, 202], [301, 302] ]\n",
        "\n",
        "for line in apart:\n",
        "  for n in line:\n",
        "    print(f'{n}호')\n",
        "    "
      ],
      "metadata": {
        "colab": {
          "base_uri": "https://localhost:8080/"
        },
        "id": "xi_0FuI0JYcI",
        "outputId": "3db0e857-7742-492f-87f8-8b64145dc5d4"
      },
      "execution_count": null,
      "outputs": [
        {
          "output_type": "stream",
          "name": "stdout",
          "text": [
            "101호\n",
            "102호\n",
            "201호\n",
            "202호\n",
            "301호\n",
            "302호\n"
          ]
        }
      ]
    },
    {
      "cell_type": "markdown",
      "source": [
        "-리스트에 저장된 데이터를 아래와 같이 출력하라."
      ],
      "metadata": {
        "id": "a3dMQ57zJ3HV"
      }
    },
    {
      "cell_type": "code",
      "source": [
        "apart = [ [101, 102], [201, 202], [301, 302] ]\n",
        "\n",
        "for i in range(len(apart),0,-1):\n",
        "  for n in apart[i-1]:\n",
        "    print(f'{n}호')"
      ],
      "metadata": {
        "colab": {
          "base_uri": "https://localhost:8080/"
        },
        "id": "Qvh5VVVLJ5Lg",
        "outputId": "56315667-28a0-4325-fe9d-ee87be7b780d"
      },
      "execution_count": null,
      "outputs": [
        {
          "output_type": "stream",
          "name": "stdout",
          "text": [
            "301호\n",
            "302호\n",
            "201호\n",
            "202호\n",
            "101호\n",
            "102호\n"
          ]
        }
      ]
    },
    {
      "cell_type": "markdown",
      "source": [
        "- 리스트에 저장된 데이터를 아래와 같이 출력하라.\n"
      ],
      "metadata": {
        "id": "CYLmMHKRM4q4"
      }
    },
    {
      "cell_type": "code",
      "source": [
        "apart = [ [101, 102], [201, 202], [301, 302] ]\n",
        "\n",
        "for line in apart[::-1]:\n",
        "  for n in line[::-1]:\n",
        "    print (f'{n}호')"
      ],
      "metadata": {
        "colab": {
          "base_uri": "https://localhost:8080/"
        },
        "id": "flrkho_lM7SM",
        "outputId": "7b853a61-7bd3-460c-d54a-a346ba8fbb5b"
      },
      "execution_count": null,
      "outputs": [
        {
          "output_type": "stream",
          "name": "stdout",
          "text": [
            "302호\n",
            "301호\n",
            "202호\n",
            "201호\n",
            "102호\n",
            "101호\n"
          ]
        }
      ]
    },
    {
      "cell_type": "markdown",
      "source": [
        "- 리스트에 저장된 데이터를 아래와 같이 출력하라."
      ],
      "metadata": {
        "id": "Atq4AzkoPmOY"
      }
    },
    {
      "cell_type": "code",
      "source": [
        "for line in apart:\n",
        "  for n in line:\n",
        "    print(f\"{n} 호 \")\n",
        "    print('-'*20)"
      ],
      "metadata": {
        "colab": {
          "base_uri": "https://localhost:8080/"
        },
        "id": "3RkAGhRtPotK",
        "outputId": "7d23d7ac-4f4e-48e3-a7a1-240c35607b98"
      },
      "execution_count": null,
      "outputs": [
        {
          "output_type": "stream",
          "name": "stdout",
          "text": [
            "101 호 \n",
            "--------------------\n",
            "102 호 \n",
            "--------------------\n",
            "201 호 \n",
            "--------------------\n",
            "202 호 \n",
            "--------------------\n",
            "301 호 \n",
            "--------------------\n",
            "302 호 \n",
            "--------------------\n"
          ]
        }
      ]
    },
    {
      "cell_type": "markdown",
      "source": [
        "- 리스트에 저장된 데이터를 아래와 같이 출력하라."
      ],
      "metadata": {
        "id": "EsGdp3qtQRAp"
      }
    },
    {
      "cell_type": "code",
      "source": [
        "for line in apart:\n",
        "  for n in line:\n",
        "    print(f\"{n} 호 \")\n",
        "  print('-'*20)\n"
      ],
      "metadata": {
        "colab": {
          "base_uri": "https://localhost:8080/"
        },
        "id": "7MtJY7XFQT5Q",
        "outputId": "c4a7645d-d730-4702-c766-a127ac8d0040"
      },
      "execution_count": null,
      "outputs": [
        {
          "output_type": "stream",
          "name": "stdout",
          "text": [
            "101 호 \n",
            "102 호 \n",
            "--------------------\n",
            "201 호 \n",
            "202 호 \n",
            "--------------------\n",
            "301 호 \n",
            "302 호 \n",
            "--------------------\n"
          ]
        }
      ]
    },
    {
      "cell_type": "markdown",
      "source": [
        "- 리스트에 저장된 데이터를 아래와 같이 출력하라."
      ],
      "metadata": {
        "id": "2gNF-6mhQ1rZ"
      }
    },
    {
      "cell_type": "code",
      "source": [
        "for line in apart:\n",
        "  for n in line:\n",
        "    print(f\"{n} 호 \")\n",
        "print('-'*20)"
      ],
      "metadata": {
        "colab": {
          "base_uri": "https://localhost:8080/"
        },
        "id": "o46aKXYbQ6ai",
        "outputId": "02e5140e-2bd3-4054-f620-03b6a5936f94"
      },
      "execution_count": null,
      "outputs": [
        {
          "output_type": "stream",
          "name": "stdout",
          "text": [
            "101 호 \n",
            "102 호 \n",
            "201 호 \n",
            "202 호 \n",
            "301 호 \n",
            "302 호 \n",
            "--------------------\n"
          ]
        }
      ]
    },
    {
      "cell_type": "markdown",
      "source": [
        "data에는 매수한 종목들의 OHLC (open/high/low/close) 가격 정보가 바인딩 되어있다.\n",
        "```\n",
        "data = [\n",
        "    [ 2000,  3050,  2050,  1980],\n",
        "    [ 7500,  2050,  2050,  1980],\n",
        "    [15450, 15050, 15550, 14900]\n",
        "]\n",
        "```\n",
        "수수료를 0.014 %로 가정할 때, 각 가격에 수수료를 포함한 가격을 한라인에 하나씩 출력하라.\n",
        "```\n",
        "2000.28\n",
        "3050.427\n",
        "2050.2870000000003\n",
        "...\n",
        "```"
      ],
      "metadata": {
        "id": "AZvswJT9RP9w"
      }
    },
    {
      "cell_type": "code",
      "source": [
        "data = [\n",
        "    [ 2000,  3050,  2050,  1980],\n",
        "    [ 7500,  2050,  2050,  1980],\n",
        "    [15450, 15050, 15550, 14900]\n",
        "]\n",
        "\n",
        "for bind in data:\n",
        "  for price in bind:\n",
        "    print(price+price*0.00014)\n"
      ],
      "metadata": {
        "colab": {
          "base_uri": "https://localhost:8080/"
        },
        "id": "dti973oXRgRI",
        "outputId": "e04e187a-852a-488b-9593-ff84cda0bacd"
      },
      "execution_count": null,
      "outputs": [
        {
          "output_type": "stream",
          "name": "stdout",
          "text": [
            "2000.28\n",
            "3050.427\n",
            "2050.287\n",
            "1980.2772\n",
            "7501.05\n",
            "2050.287\n",
            "2050.287\n",
            "1980.2772\n",
            "15452.163\n",
            "15052.107\n",
            "15552.177\n",
            "14902.086\n"
          ]
        }
      ]
    },
    {
      "cell_type": "markdown",
      "source": [
        "191번의 출력 결과에 행단위로 \"----\" 구분자를 추가하라."
      ],
      "metadata": {
        "id": "F5xueNXSScUh"
      }
    },
    {
      "cell_type": "code",
      "source": [
        "for bind in data:\n",
        "  for price in bind:\n",
        "    print(price+price*0.00014)\n",
        "  print('='*10)"
      ],
      "metadata": {
        "colab": {
          "base_uri": "https://localhost:8080/"
        },
        "id": "1djJ-z9HShcg",
        "outputId": "6e82f29a-3a1c-49e2-96c2-1c155dd82790"
      },
      "execution_count": null,
      "outputs": [
        {
          "output_type": "stream",
          "name": "stdout",
          "text": [
            "2000.28\n",
            "3050.427\n",
            "2050.287\n",
            "1980.2772\n",
            "==========\n",
            "7501.05\n",
            "2050.287\n",
            "2050.287\n",
            "1980.2772\n",
            "==========\n",
            "15452.163\n",
            "15052.107\n",
            "15552.177\n",
            "14902.086\n",
            "==========\n"
          ]
        }
      ]
    },
    {
      "cell_type": "markdown",
      "source": [
        "- 192 번 문제의 결괏값을 result 이름의 리스트에 1차원 배열로 저장하라."
      ],
      "metadata": {
        "id": "1b1fkDC0SuSu"
      }
    },
    {
      "cell_type": "code",
      "source": [
        "result = [price+price*0.00014 for bind in data for price in bind]"
      ],
      "metadata": {
        "id": "y2zQb86gSyvU"
      },
      "execution_count": null,
      "outputs": []
    },
    {
      "cell_type": "markdown",
      "source": [
        "- 191번 문제의 결괏값을 result 이름의 리스트에 2차원 배열로 저장하라. 저장 포맷은 아래와 같다. 각 행에 대한 데이터끼리 리스트에 저장되어야 한다."
      ],
      "metadata": {
        "id": "ZS97SWOMTUPE"
      }
    },
    {
      "cell_type": "code",
      "source": [
        "result = []\n",
        "\n",
        "for bind in data:\n",
        "  temp1 =[]\n",
        "  for price in bind:\n",
        "    temp=price+price*0.00014\n",
        "    temp1.append(temp)\n",
        "  result.append(temp1)\n",
        "result"
      ],
      "metadata": {
        "colab": {
          "base_uri": "https://localhost:8080/"
        },
        "id": "O1-EliG9TqAy",
        "outputId": "a0a39c44-6970-4cfb-9553-6b15f1995938"
      },
      "execution_count": null,
      "outputs": [
        {
          "output_type": "execute_result",
          "data": {
            "text/plain": [
              "[[2000.28, 3050.427, 2050.287, 1980.2772],\n",
              " [7501.05, 2050.287, 2050.287, 1980.2772],\n",
              " [15452.163, 15052.107, 15552.177, 14902.086]]"
            ]
          },
          "metadata": {},
          "execution_count": 127
        }
      ]
    },
    {
      "cell_type": "markdown",
      "source": [
        "ohlc 리스트에는 시가(open), 고가 (high), 저가 (low) , 종가(close)가 날짜별로 저장돼 있다. 화면에 종가데이터를 출력하라.\n",
        "```\n",
        "ohlc = [[\"open\", \"high\", \"low\", \"close\"],\n",
        "        [100, 110, 70, 100],\n",
        "        [200, 210, 180, 190],\n",
        "        [300, 310, 300, 310]]\n",
        "100\n",
        "190\n",
        "310\n",
        "```\n"
      ],
      "metadata": {
        "id": "-etkO5T1WBeY"
      }
    },
    {
      "cell_type": "code",
      "source": [
        "ohlc = [[\"open\", \"high\", \"low\", \"close\"],\n",
        "        [100, 110, 70, 100],\n",
        "        [200, 210, 180, 190],\n",
        "        [300, 310, 300, 310]]\n",
        "\n",
        "for i  in ohlc[1:]:\n",
        "  print(i[-1])"
      ],
      "metadata": {
        "colab": {
          "base_uri": "https://localhost:8080/"
        },
        "id": "NPjAnGzvWLck",
        "outputId": "311f5d9b-0683-4d2b-89bc-a5eb7b1fac1f"
      },
      "execution_count": null,
      "outputs": [
        {
          "output_type": "stream",
          "name": "stdout",
          "text": [
            "100\n",
            "190\n",
            "310\n"
          ]
        }
      ]
    },
    {
      "cell_type": "markdown",
      "source": [],
      "metadata": {
        "id": "O_1HH-GjZFj-"
      }
    },
    {
      "cell_type": "code",
      "source": [
        "ohlc = [[\"open\", \"high\", \"low\", \"close\"],\n",
        "        [100, 110, 70, 100],\n",
        "        [200, 210, 180, 190],\n",
        "        [300, 310, 300, 310]]\n",
        "\n",
        "for i in ohlc[1::]:\n",
        "  if i[-1] > 150:\n",
        "    print(i[-1])"
      ],
      "metadata": {
        "colab": {
          "base_uri": "https://localhost:8080/"
        },
        "id": "u0i_VO36ZE5v",
        "outputId": "8942777d-9f2b-4490-da86-738920ea85b8"
      },
      "execution_count": 1,
      "outputs": [
        {
          "output_type": "stream",
          "name": "stdout",
          "text": [
            "190\n",
            "310\n"
          ]
        }
      ]
    },
    {
      "cell_type": "markdown",
      "source": [
        "- ohlc 리스트에는 시가(open), 고가 (high), 저가 \n",
        "\n",
        "(low) , 종가(close)가 날짜별로 저장돼 있다. 종가가 시가 보다 크거나 같은 경우에만 종가를 출력하라."
      ],
      "metadata": {
        "id": "wVHBFbSQZdhp"
      }
    },
    {
      "cell_type": "code",
      "source": [
        "for i in ohlc[1::]:\n",
        "  if i[-1] >= i[0]:\n",
        "    print(i[-1])"
      ],
      "metadata": {
        "colab": {
          "base_uri": "https://localhost:8080/"
        },
        "id": "3v-dHNsmZc-D",
        "outputId": "17078b38-3fdd-4e1c-9417-74efe0041174"
      },
      "execution_count": 2,
      "outputs": [
        {
          "output_type": "stream",
          "name": "stdout",
          "text": [
            "100\n",
            "310\n"
          ]
        }
      ]
    },
    {
      "cell_type": "markdown",
      "source": [
        "- ohlc 리스트에는 시가(open), 고가 (high), 저가 (low) , 종가(close)가 날짜별로 저장돼 있다. 고가와 저가의 차이를 변동폭으로 정의할 때 변동폭을 volatility 이름의 리스트에 저장하라."
      ],
      "metadata": {
        "id": "51LymtQTZ5gS"
      }
    },
    {
      "cell_type": "code",
      "source": [
        "volatility = [ i[1] - i[2] for i in ohlc[1::]]\n",
        "print(volatility)"
      ],
      "metadata": {
        "colab": {
          "base_uri": "https://localhost:8080/"
        },
        "id": "-LgSTho8Z9ub",
        "outputId": "d5098274-b03d-40b9-b5cc-00195d89e1dd"
      },
      "execution_count": 3,
      "outputs": [
        {
          "output_type": "stream",
          "name": "stdout",
          "text": [
            "[40, 30, 10]\n"
          ]
        }
      ]
    },
    {
      "cell_type": "markdown",
      "source": [
        "- 리스트에는 3일 간의 ohlc 데이터가 저장돼 있다. 종가가 시가보다 높은 날의 변동성 (고가 - 저가)을 화면에 출력하라."
      ],
      "metadata": {
        "id": "yeQZY1BubC0f"
      }
    },
    {
      "cell_type": "code",
      "source": [
        "volatility = [ i[1] - i[2] for i in ohlc[1::] if i[-1] > i[0]]\n",
        "print(volatility)"
      ],
      "metadata": {
        "colab": {
          "base_uri": "https://localhost:8080/"
        },
        "id": "JrN9snp0acWD",
        "outputId": "aba26965-bda7-42e4-8bfb-6bf601e1a51b"
      },
      "execution_count": 4,
      "outputs": [
        {
          "output_type": "stream",
          "name": "stdout",
          "text": [
            "[10]\n"
          ]
        }
      ]
    },
    {
      "cell_type": "markdown",
      "source": [
        "- 리스트에는 3일 간의 ohlc 데이터가 저장돼 있다. 시가에 매수해서 종가에 매도 했을 경우 총 수익금을 계산하라."
      ],
      "metadata": {
        "id": "g8cbZk4AbGoz"
      }
    },
    {
      "cell_type": "code",
      "source": [
        "diff_list = []\n",
        "for i in ohlc[1::]:\n",
        "  diff = i[-1] - i[0]\n",
        "  diff_list.append(diff)\n",
        "sum(diff_list)"
      ],
      "metadata": {
        "colab": {
          "base_uri": "https://localhost:8080/"
        },
        "id": "XpCpnFbSbGQJ",
        "outputId": "67c57902-ab85-48c9-cb0b-dbb29883b5ba"
      },
      "execution_count": 10,
      "outputs": [
        {
          "output_type": "execute_result",
          "data": {
            "text/plain": [
              "0"
            ]
          },
          "metadata": {},
          "execution_count": 10
        }
      ]
    }
  ]
}