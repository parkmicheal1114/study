{
  "nbformat": 4,
  "nbformat_minor": 0,
  "metadata": {
    "colab": {
      "provenance": [],
      "authorship_tag": "ABX9TyP8xc9fHoN1xSSVl3pn4KsI",
      "include_colab_link": true
    },
    "kernelspec": {
      "name": "python3",
      "display_name": "Python 3"
    },
    "language_info": {
      "name": "python"
    }
  },
  "cells": [
    {
      "cell_type": "markdown",
      "metadata": {
        "id": "view-in-github",
        "colab_type": "text"
      },
      "source": [
        "<a href=\"https://colab.research.google.com/github/parkmicheal1114/study/blob/main/python/python_practice_2023_05__5.ipynb\" target=\"_parent\"><img src=\"https://colab.research.google.com/assets/colab-badge.svg\" alt=\"Open In Colab\"/></a>"
      ]
    },
    {
      "cell_type": "markdown",
      "source": [
        "- \"비트코인\" 문자열을 화면에 출력하는 print_coin() 함수를 정의하라"
      ],
      "metadata": {
        "id": "FdA2GzW1Oe9r"
      }
    },
    {
      "cell_type": "code",
      "source": [
        "def print_coin():\n",
        "  print(\"비트코인\")"
      ],
      "metadata": {
        "id": "R2UUmYLoOeUG"
      },
      "execution_count": 10,
      "outputs": []
    },
    {
      "cell_type": "code",
      "execution_count": 11,
      "metadata": {
        "colab": {
          "base_uri": "https://localhost:8080/"
        },
        "id": "oWnsSknOOUrc",
        "outputId": "6e861d73-e8f4-4c2f-fa54-0da26afacecf"
      },
      "outputs": [
        {
          "output_type": "stream",
          "name": "stdout",
          "text": [
            "비트코인\n"
          ]
        }
      ],
      "source": [
        "print_coin()"
      ]
    },
    {
      "cell_type": "code",
      "source": [
        "for i in range(100):\n",
        "  print_coin()\n"
      ],
      "metadata": {
        "id": "IcjstsSCO1ZX"
      },
      "execution_count": null,
      "outputs": []
    },
    {
      "cell_type": "markdown",
      "source": [
        "- \"비트코인\" 문자열을 100번 화면에 출력하는 print_coins() 함수를 정의하라"
      ],
      "metadata": {
        "id": "Ez8W4-DfPj9C"
      }
    },
    {
      "cell_type": "code",
      "source": [
        "def print_coins():\n",
        "  for i in range(100):\n",
        "    print('비트코인')\n",
        "print_coins()"
      ],
      "metadata": {
        "id": "RYoN_FKJPmnw"
      },
      "execution_count": null,
      "outputs": []
    },
    {
      "cell_type": "markdown",
      "source": [
        "- 하나의 문자를 입력받아 문자열 끝에 \":D\" 스마일 문자열을 이어 붙여 출력하는 print_with_smile 함수를 정의하라."
      ],
      "metadata": {
        "id": "i63XTF8iRVJD"
      }
    },
    {
      "cell_type": "code",
      "source": [
        "def print_with_smile(str1):\n",
        "  print(str1+\":D\")\n",
        "\n",
        "print_with_smile('hello')"
      ],
      "metadata": {
        "colab": {
          "base_uri": "https://localhost:8080/"
        },
        "id": "tNhaUKQoRXV4",
        "outputId": "7590d9ac-476b-404d-d462-a795f29d9237"
      },
      "execution_count": 14,
      "outputs": [
        {
          "output_type": "stream",
          "name": "stdout",
          "text": [
            "hello:D\n"
          ]
        }
      ]
    },
    {
      "cell_type": "markdown",
      "source": [
        "- 현재 가격을 입력 받아 상한가 (30%)를 출력하는 print_upper_price 함수를 정의하라."
      ],
      "metadata": {
        "id": "H2XGDs4hRzGk"
      }
    },
    {
      "cell_type": "code",
      "source": [
        "def print_upper_price():\n",
        "  price = int(input())\n",
        "  print(price*1.3)\n",
        "\n",
        "print_upper_price()"
      ],
      "metadata": {
        "colab": {
          "base_uri": "https://localhost:8080/"
        },
        "id": "455YaJtVRxon",
        "outputId": "35ecd2fd-1c04-449e-afca-341c3d5f895d"
      },
      "execution_count": 21,
      "outputs": [
        {
          "output_type": "stream",
          "name": "stdout",
          "text": [
            "5000\n",
            "6500.0\n"
          ]
        }
      ]
    },
    {
      "cell_type": "markdown",
      "source": [
        "- 두 개의 숫자를 입력받아 두 수의 합을 출력하는 print_sum 함수를 정의하라."
      ],
      "metadata": {
        "id": "AFl_K3qXTSny"
      }
    },
    {
      "cell_type": "code",
      "source": [
        "def print_sum(a,b):\n",
        "  print(a+b)\n",
        "\n",
        "print_sum(3 ,4)"
      ],
      "metadata": {
        "colab": {
          "base_uri": "https://localhost:8080/"
        },
        "id": "vlUUF6pYTRAs",
        "outputId": "ed22e26a-9ecc-40d7-f09d-dba47320566f"
      },
      "execution_count": 29,
      "outputs": [
        {
          "output_type": "stream",
          "name": "stdout",
          "text": [
            "7\n"
          ]
        }
      ]
    },
    {
      "cell_type": "markdown",
      "source": [
        "- 두 개의 숫자를 입력받아 합/차/곱/나눗셈을 출력하는 print_arithmetic_operation 함수를 작성하라."
      ],
      "metadata": {
        "id": "LAWQ9mh0Ukw1"
      }
    },
    {
      "cell_type": "code",
      "source": [
        "def print_arithmetic_operation():\n",
        "  a = int(input())\n",
        "  b = int(input())\n",
        "  print (f'{a} + {b} = {a+b} ')\n",
        "  print (f'{a} * {b} = {a*b} ')\n",
        "  print (f'{a} - {b} = {a-b} ')\n",
        "  print (f'{a} / {b} = {a/b} ')\n",
        "\n",
        "print_arithmetic_operation()"
      ],
      "metadata": {
        "colab": {
          "base_uri": "https://localhost:8080/"
        },
        "id": "rjR3BbdoUjy_",
        "outputId": "332bc2b1-6429-498b-94d0-ec21a57732e6"
      },
      "execution_count": 31,
      "outputs": [
        {
          "output_type": "stream",
          "name": "stdout",
          "text": [
            "5\n",
            "2\n",
            "5 + 2 = 7 \n",
            "5 * 2 = 10 \n",
            "5 - 2 = 3 \n",
            "5 / 2 = 2.5 \n"
          ]
        }
      ]
    },
    {
      "cell_type": "markdown",
      "source": [
        "- 세 개의 숫자를 입력받아 가장 큰수를 출력하는 print_max 함수를 정의하라. 단 if 문을 사용해서 수를 비교하라."
      ],
      "metadata": {
        "id": "ZTtFgWtnVVrj"
      }
    },
    {
      "cell_type": "code",
      "source": [
        "def print_arithmetic_operation():\n",
        "  a = int(input())\n",
        "  b = int(input())\n",
        "  c = int(input())\n",
        "  \n",
        "  if  a > b and a > c:\n",
        "    print(a)\n",
        "  elif b > a and b > c:\n",
        "    print(b)\n",
        "  else:\n",
        "    print(c)\n",
        "\n",
        "print_arithmetic_operation()"
      ],
      "metadata": {
        "colab": {
          "base_uri": "https://localhost:8080/"
        },
        "id": "5gVGQk_qVa_m",
        "outputId": "e3d46dc8-b787-4630-e5da-33707fd1ea0b"
      },
      "execution_count": 33,
      "outputs": [
        {
          "output_type": "stream",
          "name": "stdout",
          "text": [
            "5\n",
            "7\n",
            "9\n",
            "9\n"
          ]
        }
      ]
    },
    {
      "cell_type": "markdown",
      "source": [
        "- 입력된 문자열을 역순으로 출력하는 print_reverse 함수를 정의하라."
      ],
      "metadata": {
        "id": "-vALdAeoWaPF"
      }
    },
    {
      "cell_type": "code",
      "source": [
        "text = \"python\"\n",
        "def print_reverse(text):\n",
        "  print(text[::-1])\n",
        "\n",
        "print_reverse(text)"
      ],
      "metadata": {
        "colab": {
          "base_uri": "https://localhost:8080/"
        },
        "id": "vA5t_HzwWZnW",
        "outputId": "d3954b24-86a2-4f20-a5d8-bd67ec15c82c"
      },
      "execution_count": 35,
      "outputs": [
        {
          "output_type": "stream",
          "name": "stdout",
          "text": [
            "nohtyp\n"
          ]
        }
      ]
    },
    {
      "cell_type": "markdown",
      "source": [
        "- 성적 리스트를 입력 받아 평균을 출력하는 print_score 함수를 정의하라."
      ],
      "metadata": {
        "id": "O38wGyTEWzuf"
      }
    },
    {
      "cell_type": "code",
      "source": [
        "def print_score(score):\n",
        "  mean = sum(score)/len(score)\n",
        "  return mean\n",
        "\n",
        "score = [1, 2, 3]\n",
        "print_score(score)"
      ],
      "metadata": {
        "colab": {
          "base_uri": "https://localhost:8080/"
        },
        "id": "9UZ4hBiLW3S6",
        "outputId": "90094d2d-fc33-44dc-ee98-0118250dc473"
      },
      "execution_count": 36,
      "outputs": [
        {
          "output_type": "execute_result",
          "data": {
            "text/plain": [
              "2.0"
            ]
          },
          "metadata": {},
          "execution_count": 36
        }
      ]
    },
    {
      "cell_type": "markdown",
      "source": [
        "- 하나의 리스트를 입력받아 짝수만 화면에 출력하는 print_even 함수를 정의하라."
      ],
      "metadata": {
        "id": "TnEv8WhbXVsQ"
      }
    },
    {
      "cell_type": "code",
      "source": [
        "def print_even(nums):\n",
        "  [print (num) for num in nums if num % 2 == 0]\n",
        "\n",
        "b = [1, 3, 2, 10, 12, 11, 15]\n",
        "print_even(b)"
      ],
      "metadata": {
        "colab": {
          "base_uri": "https://localhost:8080/"
        },
        "id": "haSmekBxXZoV",
        "outputId": "44936a51-2bb3-4b79-fde6-db85b4e4673e"
      },
      "execution_count": 37,
      "outputs": [
        {
          "output_type": "stream",
          "name": "stdout",
          "text": [
            "2\n",
            "10\n",
            "12\n"
          ]
        }
      ]
    },
    {
      "cell_type": "markdown",
      "source": [
        "- 하나의 딕셔너리를 입력받아 딕셔너리의 key 값을 화면에 출력하는 print_keys 함수를 정의하라."
      ],
      "metadata": {
        "id": "gaSSJVNqYBF1"
      }
    },
    {
      "cell_type": "code",
      "source": [
        "#print_keys ({\"이름\":\"김말똥\", \"나이\":30, \"성별\":0})\n",
        "\n",
        "# \n",
        "\n",
        "def print_keys(dic):\n",
        "  [print(key) for key in dic.keys()]\n",
        "\n",
        "a = {\"이름\":\"김말똥\", \"나이\":30, \"성별\":0}\n",
        "\n",
        "print_keys(a)"
      ],
      "metadata": {
        "colab": {
          "base_uri": "https://localhost:8080/"
        },
        "id": "YEOWBbgWX7Q0",
        "outputId": "5744a39d-f82d-4d29-d565-1f653af3d7ea"
      },
      "execution_count": 40,
      "outputs": [
        {
          "output_type": "stream",
          "name": "stdout",
          "text": [
            "이름\n",
            "나이\n",
            "성별\n"
          ]
        }
      ]
    },
    {
      "cell_type": "markdown",
      "source": [
        "my_dict에는 날짜를 키값으로 OHLC가 리스트로 저장돼 있다.\n",
        "~~~\n",
        "my_dict = {\"10/26\" : [100, 130, 100, 100],\n",
        "           \"10/27\" : [10, 12, 10, 11]}\n",
        "~~~\n",
        "my_dict와 날짜 키값을 입력받아 OHLC 리스트를 출력하는 print_value_by_key 함수를 정의하라."
      ],
      "metadata": {
        "id": "CTvzteAFZL_C"
      }
    },
    {
      "cell_type": "code",
      "source": [
        "# print_value_by_key  (my_dict, \"10/26\")\n",
        "\n",
        "def print_value_by_key(dic,date):\n",
        "  print(dic[date])\n",
        "\n",
        "my_dict = {\"10/26\" : [100, 130, 100, 100],\n",
        "           \"10/27\" : [10, 12, 10, 11]}\n",
        "print_value_by_key(my_dict, \"10/26\")"
      ],
      "metadata": {
        "colab": {
          "base_uri": "https://localhost:8080/"
        },
        "id": "1PIheQwCZQTY",
        "outputId": "94379289-bfd5-4c60-eb38-eee7992aecbf"
      },
      "execution_count": 41,
      "outputs": [
        {
          "output_type": "stream",
          "name": "stdout",
          "text": [
            "[100, 130, 100, 100]\n"
          ]
        }
      ]
    },
    {
      "cell_type": "markdown",
      "source": [
        "- 입력 문자열을 한 줄에 다섯글자씩 출력하는 print_5xn(string) 함수를 작성하라."
      ],
      "metadata": {
        "id": "_KiBoWWbaCZs"
      }
    },
    {
      "cell_type": "code",
      "source": [
        "# print_5xn(\"아이엠어보이유알어걸\")\n",
        "#### not solve\n",
        "def print_5xn(line):\n",
        "    chunk_num = int(len(line) / 5)\n",
        "    for x in range(chunk_num + 1) :\n",
        "        print(line[x * 5: x * 5 + 5])\n",
        "\n",
        "print_5xn(\"아이엠어보이유알어걸\")"
      ],
      "metadata": {
        "colab": {
          "base_uri": "https://localhost:8080/"
        },
        "id": "Xk45MxZnaGxN",
        "outputId": "5c860915-11c3-45ed-b90a-f6c9dd49f584"
      },
      "execution_count": 61,
      "outputs": [
        {
          "output_type": "stream",
          "name": "stdout",
          "text": [
            "아이엠어보\n",
            "이유알어ㅇ\n",
            "걸\n"
          ]
        }
      ]
    },
    {
      "cell_type": "markdown",
      "source": [
        "- 연봉을 입력받아 월급을 계산하는 calc_monthly_salary(annual_salary) 함수를 정의하라. 회사는 연봉을 12개월로 나누어 분할 지급하며, 이 때 1원 미만은 버림한다."
      ],
      "metadata": {
        "id": "au-_Gjbsdf4w"
      }
    },
    {
      "cell_type": "code",
      "source": [
        " # calc_monthly_salary(annual_salary) \n",
        "\n",
        "def calc_monthly_salary(annual_salary):\n",
        "  month_salary = int(annual_salary / 12)\n",
        "  return month_salary\n",
        "\n",
        "calc_monthly_salary(1200000)"
      ],
      "metadata": {
        "colab": {
          "base_uri": "https://localhost:8080/"
        },
        "id": "FTIpRDdKdEiZ",
        "outputId": "034ce916-10c0-4e2a-aca4-d3ead6daf3d0"
      },
      "execution_count": 63,
      "outputs": [
        {
          "output_type": "execute_result",
          "data": {
            "text/plain": [
              "100000"
            ]
          },
          "metadata": {},
          "execution_count": 63
        }
      ]
    },
    {
      "cell_type": "markdown",
      "source": [
        "- 문자열 하나를 입력받아 인터넷 주소를 반환하는 make_url 함수를 정의하라."
      ],
      "metadata": {
        "id": "juCmdJxpetOj"
      }
    },
    {
      "cell_type": "code",
      "source": [
        "def make_url(name):\n",
        "  return f\"www.{name}.com\"\n",
        "\n",
        "make_url('naver')"
      ],
      "metadata": {
        "colab": {
          "base_uri": "https://localhost:8080/",
          "height": 35
        },
        "id": "q7h9B5NVesT4",
        "outputId": "c2bfc307-6d36-4768-bbab-10de2d19c79b"
      },
      "execution_count": 64,
      "outputs": [
        {
          "output_type": "execute_result",
          "data": {
            "text/plain": [
              "'www.naver.com'"
            ],
            "application/vnd.google.colaboratory.intrinsic+json": {
              "type": "string"
            }
          },
          "metadata": {},
          "execution_count": 64
        }
      ]
    },
    {
      "cell_type": "markdown",
      "source": [
        "- 문자열을 입력받아 각 문자들로 구성된 리스트로 반환하는 make_list 함수를 정의하라."
      ],
      "metadata": {
        "id": "cSEUkbINfIBd"
      }
    },
    {
      "cell_type": "code",
      "source": [
        "def make_list(word):\n",
        "  return list(word)\n",
        "\n",
        "make_list(\"abcd\")"
      ],
      "metadata": {
        "colab": {
          "base_uri": "https://localhost:8080/"
        },
        "id": "HTmrTWI_fKnP",
        "outputId": "e9fc52b4-49a2-4139-851f-f055af83cb05"
      },
      "execution_count": 66,
      "outputs": [
        {
          "output_type": "execute_result",
          "data": {
            "text/plain": [
              "['a', 'b', 'c', 'd']"
            ]
          },
          "metadata": {},
          "execution_count": 66
        }
      ]
    },
    {
      "cell_type": "markdown",
      "source": [
        "- 숫자로 구성된 하나의 리스트를 입력받아, 짝수들을 추출하여 리스트로 반환하는 pickup_even 함수를 구현하라."
      ],
      "metadata": {
        "id": "F5l2T2YWfsM7"
      }
    },
    {
      "cell_type": "code",
      "source": [
        "# pickup_even([3, 4, 5, 6, 7, 8])\n",
        "\n",
        "def pickup_even(lst):\n",
        "  even_num = [num for num in lst if num % 2==0]\n",
        "  return even_num\n",
        "\n",
        "pickup_even([3, 4, 5, 6, 7, 8])"
      ],
      "metadata": {
        "colab": {
          "base_uri": "https://localhost:8080/"
        },
        "id": "Qt7xu_8Af5Ia",
        "outputId": "e751e9b3-574e-4177-d1d6-3e8726e5be9c"
      },
      "execution_count": 67,
      "outputs": [
        {
          "output_type": "execute_result",
          "data": {
            "text/plain": [
              "[4, 6, 8]"
            ]
          },
          "metadata": {},
          "execution_count": 67
        }
      ]
    },
    {
      "cell_type": "markdown",
      "source": [
        "- 콤마가 포함된 문자열 숫자를 입력받아 정수로 변환하는 convert_int 함수를 정의하라."
      ],
      "metadata": {
        "id": "TlbPF9vlgjSQ"
      }
    },
    {
      "cell_type": "code",
      "source": [
        "# convert_int(\"1,234,567\")\n",
        "\n",
        "def convert_int(num):\n",
        "  nums = int(num.replace(',',''))\n",
        "  return nums\n",
        "\n",
        "convert_int(\"1,234,567\")"
      ],
      "metadata": {
        "colab": {
          "base_uri": "https://localhost:8080/"
        },
        "id": "1p-JO8cSgmVW",
        "outputId": "ac6846d9-2a17-41df-dbd0-86ae059008ee"
      },
      "execution_count": 71,
      "outputs": [
        {
          "output_type": "execute_result",
          "data": {
            "text/plain": [
              "1234567"
            ]
          },
          "metadata": {},
          "execution_count": 71
        }
      ]
    },
    {
      "cell_type": "code",
      "source": [],
      "metadata": {
        "id": "p5_GC0tGhSin"
      },
      "execution_count": null,
      "outputs": []
    }
  ]
}