{
  "nbformat": 4,
  "nbformat_minor": 0,
  "metadata": {
    "colab": {
      "provenance": [],
      "authorship_tag": "ABX9TyMIW8tk/AwpciS7AAol9ZON",
      "include_colab_link": true
    },
    "kernelspec": {
      "name": "python3",
      "display_name": "Python 3"
    },
    "language_info": {
      "name": "python"
    }
  },
  "cells": [
    {
      "cell_type": "markdown",
      "metadata": {
        "id": "view-in-github",
        "colab_type": "text"
      },
      "source": [
        "<a href=\"https://colab.research.google.com/github/parkmicheal1114/study/blob/main/python/python_practice_2023_05__2.ipynb\" target=\"_parent\"><img src=\"https://colab.research.google.com/assets/colab-badge.svg\" alt=\"Open In Colab\"/></a>"
      ]
    },
    {
      "cell_type": "markdown",
      "source": [
        "1. 새학기가 되어 이름을 가나다 순서대로 배정하고 번호를 매기려고 합니다.\n",
        "\n",
        " 입력받은 명단 리스트를 처리하여, 이름과 번호를 아래와 같이 출력하는 코드를 작성해주세요."
      ],
      "metadata": {
        "id": "VCannOsgv3wk"
      }
    },
    {
      "cell_type": "code",
      "source": [
        "student = ['강은지','김유정','박현서','최성훈','홍유진',\n",
        "           '박지호','권윤일','김채리','한지호','김진이',\n",
        "           '김민호','강채연']\n",
        "\n",
        "for i,idx in enumerate(student):\n",
        "  print(f\"번호: {i+1}, 이름: {idx} \\n\" )"
      ],
      "metadata": {
        "colab": {
          "base_uri": "https://localhost:8080/"
        },
        "id": "VbY5VXGfv3Fk",
        "outputId": "c1b4cbb5-9045-4bf0-81af-e9436f46aa5c"
      },
      "execution_count": null,
      "outputs": [
        {
          "output_type": "stream",
          "name": "stdout",
          "text": [
            "번호: 1, 이름: 강은지 \n",
            "\n",
            "번호: 2, 이름: 김유정 \n",
            "\n",
            "번호: 3, 이름: 박현서 \n",
            "\n",
            "번호: 4, 이름: 최성훈 \n",
            "\n",
            "번호: 5, 이름: 홍유진 \n",
            "\n",
            "번호: 6, 이름: 박지호 \n",
            "\n",
            "번호: 7, 이름: 권윤일 \n",
            "\n",
            "번호: 8, 이름: 김채리 \n",
            "\n",
            "번호: 9, 이름: 한지호 \n",
            "\n",
            "번호: 10, 이름: 김진이 \n",
            "\n",
            "번호: 11, 이름: 김민호 \n",
            "\n",
            "번호: 12, 이름: 강채연 \n",
            "\n"
          ]
        }
      ]
    },
    {
      "cell_type": "markdown",
      "source": [
        "- 숫자가 공백으로 구분되어 주어지면, 이 숫자의 배열이 연속수인지 아닌지 True/False 로 판별하는 코드를 작성해주세요. (단, 자연수와 음수를 포함한 정수를 입력으로 받으며, 연속인지 아닌지의 기준은 정수를 기준으로 한다.)\n",
        "\n"
      ],
      "metadata": {
        "id": "5KYzmhJdnaGQ"
      }
    },
    {
      "cell_type": "code",
      "source": [
        "while True:\n",
        "    try:\n",
        "        nums = list(map(int, input().split()))\n",
        "        sorted_nums = sorted(nums)\n",
        "        if sorted_nums == nums:\n",
        "          print(True)\n",
        "        else:\n",
        "          print(False)\n",
        "    except ValueError:\n",
        "        print('정수가 아닙니다')\n",
        "        break\n",
        "\n"
      ],
      "metadata": {
        "colab": {
          "base_uri": "https://localhost:8080/"
        },
        "id": "XbWhIP-2nWAr",
        "outputId": "a594b869-a166-430a-ee1e-1ec05603fe57"
      },
      "execution_count": 25,
      "outputs": [
        {
          "output_type": "stream",
          "name": "stdout",
          "text": [
            "-2 -1 0 1 2\n",
            "True\n",
            "1 4 2 6\n",
            "False\n",
            "99 100 101\n",
            "True\n",
            "1 1.5 2\n",
            "정수가 아닙니다\n"
          ]
        }
      ]
    },
    {
      "cell_type": "markdown",
      "source": [
        "* 리스트에서 고유하지 않은(non-unique) 값들을 제거하는 코드를 작성하세요."
      ],
      "metadata": {
        "id": "cQLPi0cAW5N4"
      }
    },
    {
      "cell_type": "code",
      "source": [
        "from collections  import Counter\n",
        "lst = [1,2,2,3,4,4,5]\n",
        "\n",
        "\n",
        "def filter_non_unique(lst):\n",
        "  unique = [i for i,val in Counter(lst).items() if val == 1]\n",
        "  return unique\n",
        "\n",
        "filter_non_unique(lst)\n"
      ],
      "metadata": {
        "colab": {
          "base_uri": "https://localhost:8080/"
        },
        "id": "dpDNs9xDW108",
        "outputId": "236f9578-35c5-4018-9c4b-10e54720f4a8"
      },
      "execution_count": 15,
      "outputs": [
        {
          "output_type": "execute_result",
          "data": {
            "text/plain": [
              "[1, 3, 5]"
            ]
          },
          "metadata": {},
          "execution_count": 15
        }
      ]
    },
    {
      "cell_type": "markdown",
      "source": [
        "- 리스트에서 고유한(unique) 값들만 제거하는 코드를 작성하세요."
      ],
      "metadata": {
        "id": "hFuXx5YIdRlY"
      }
    },
    {
      "cell_type": "code",
      "source": [
        "from collections  import Counter\n",
        "lst = [1,2,2,3,4,4,5]\n",
        "\n",
        "\n",
        "def filter_unique(lst):\n",
        "  non_unique = [i for i,val in Counter(lst).items() if val != 1]\n",
        "  return non_unique\n",
        "\n",
        "filter_unique(lst)"
      ],
      "metadata": {
        "colab": {
          "base_uri": "https://localhost:8080/"
        },
        "id": "7xdH2YQVdO-D",
        "outputId": "d215428d-15cb-4f31-885c-8e247e09c32a"
      },
      "execution_count": 16,
      "outputs": [
        {
          "output_type": "execute_result",
          "data": {
            "text/plain": [
              "[2, 4]"
            ]
          },
          "metadata": {},
          "execution_count": 16
        }
      ]
    },
    {
      "cell_type": "markdown",
      "source": [
        "- itr 리스트의 각 원소에 주어진 함수 fn를 실행하는 함수를 작성하세요."
      ],
      "metadata": {
        "id": "SHFRhCvld5Gv"
      }
    },
    {
      "cell_type": "code",
      "source": [
        "itr = [1,2,3]\n",
        "fn = print\n",
        "\n",
        "def for_each(itr, fn):\n",
        "  for i in itr: \n",
        "    fn(i)\n",
        "\n",
        "for_each(itr, fn)"
      ],
      "metadata": {
        "colab": {
          "base_uri": "https://localhost:8080/"
        },
        "id": "BtPr008pdek8",
        "outputId": "c8691c93-b6cb-4173-b73a-96c0ec076297"
      },
      "execution_count": 17,
      "outputs": [
        {
          "output_type": "stream",
          "name": "stdout",
          "text": [
            "1\n",
            "2\n",
            "3\n"
          ]
        }
      ]
    },
    {
      "cell_type": "markdown",
      "source": [
        "- itr 리스트의 각 원소에 주어진 함수 fn를 리스트의 마지막 값부터 실행하는 함수를 작성하세요."
      ],
      "metadata": {
        "id": "lTCFka89eS24"
      }
    },
    {
      "cell_type": "code",
      "source": [
        "itr = [1,2,3]\n",
        "\n",
        "def for_each_right(itr, fn):\n",
        "    for i in itr[::-1]: \n",
        "      fn(i)\n",
        "\n",
        "\n",
        "for_each_right(itr, print)"
      ],
      "metadata": {
        "colab": {
          "base_uri": "https://localhost:8080/"
        },
        "id": "KjeUsPpVeQCR",
        "outputId": "c4dc7c3b-ad4a-42aa-9432-79e269ea8f6f"
      },
      "execution_count": 18,
      "outputs": [
        {
          "output_type": "stream",
          "name": "stdout",
          "text": [
            "3\n",
            "2\n",
            "1\n"
          ]
        }
      ]
    },
    {
      "cell_type": "markdown",
      "source": [
        "- 리스트에 중복된 값이 있다면 True를 없다면 False를 반환하는 코드를 작성하세요."
      ],
      "metadata": {
        "id": "44dMmWkIesHa"
      }
    },
    {
      "cell_type": "code",
      "source": [
        "lst = [1,2,3]\n",
        "\n",
        "def has_duplicates(lst):\n",
        "  return lst == list(set(lst))\n",
        "\n",
        "has_duplicates(lst)"
      ],
      "metadata": {
        "colab": {
          "base_uri": "https://localhost:8080/"
        },
        "id": "X4hcGJmVeryi",
        "outputId": "b0a85c33-c7fb-4db6-fb3c-125d314cfb16"
      },
      "execution_count": 24,
      "outputs": [
        {
          "output_type": "execute_result",
          "data": {
            "text/plain": [
              "True"
            ]
          },
          "metadata": {},
          "execution_count": 24
        }
      ]
    },
    {
      "cell_type": "markdown",
      "source": [
        "- 리스트의 첫번째 값을 반환하는 코드를 작성하세요."
      ],
      "metadata": {
        "id": "shtBM3yYgCeT"
      }
    },
    {
      "cell_type": "code",
      "source": [
        "lst = [1,2,3]\n",
        "\n",
        "def head(lst):\n",
        "  return lst[0]\n",
        "\n",
        "head(lst)"
      ],
      "metadata": {
        "colab": {
          "base_uri": "https://localhost:8080/"
        },
        "id": "BXM2aTtsf_px",
        "outputId": "b394c796-37ee-4e70-e09d-57fc8e7cf46d"
      },
      "execution_count": 25,
      "outputs": [
        {
          "output_type": "execute_result",
          "data": {
            "text/plain": [
              "1"
            ]
          },
          "metadata": {},
          "execution_count": 25
        }
      ]
    },
    {
      "cell_type": "markdown",
      "source": [
        "- n이 start 와 end 사이에 있는 값인지 확인하는 코드를 작성하세요.\n",
        "\n",
        "(단, end 를 지정하지 않을 경우, 0 부터 start 까지로 간주하도록 하세요.)"
      ],
      "metadata": {
        "id": "UcSy1twGhXtC"
      }
    },
    {
      "cell_type": "code",
      "source": [
        "def in_range(n, start, end=0):\n",
        "  return end < n <start or start < n < end \n",
        "\n",
        "in_range(3,2,5) , in_range(3,4) , in_range(2,3,5) , in_range(3,2)"
      ],
      "metadata": {
        "colab": {
          "base_uri": "https://localhost:8080/"
        },
        "id": "qDD3Sk-lginz",
        "outputId": "51b2d6e3-867d-43b6-d02b-c178a19d0466"
      },
      "execution_count": 28,
      "outputs": [
        {
          "output_type": "execute_result",
          "data": {
            "text/plain": [
              "(True, True, False, False)"
            ]
          },
          "metadata": {},
          "execution_count": 28
        }
      ]
    }
  ]
}