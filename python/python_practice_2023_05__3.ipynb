{
  "nbformat": 4,
  "nbformat_minor": 0,
  "metadata": {
    "colab": {
      "provenance": [],
      "authorship_tag": "ABX9TyPP54hRHu+BTN57OU5hzu8i",
      "include_colab_link": true
    },
    "kernelspec": {
      "name": "python3",
      "display_name": "Python 3"
    },
    "language_info": {
      "name": "python"
    }
  },
  "cells": [
    {
      "cell_type": "markdown",
      "metadata": {
        "id": "view-in-github",
        "colab_type": "text"
      },
      "source": [
        "<a href=\"https://colab.research.google.com/github/parkmicheal1114/study/blob/main/python/python_practice_2023_05__3.ipynb\" target=\"_parent\"><img src=\"https://colab.research.google.com/assets/colab-badge.svg\" alt=\"Open In Colab\"/></a>"
      ]
    },
    {
      "cell_type": "markdown",
      "source": [
        "- 리스트의 마지막 원소 를 제외한 나머지 모든 원소를 반환하는 코드를 작성하세요."
      ],
      "metadata": {
        "id": "1LBKCKNX6euK"
      }
    },
    {
      "cell_type": "code",
      "execution_count": null,
      "metadata": {
        "colab": {
          "base_uri": "https://localhost:8080/"
        },
        "id": "B9LWlTd_6Lb0",
        "outputId": "ce1e912f-3e7e-4a63-e0e1-b70980856af5"
      },
      "outputs": [
        {
          "output_type": "execute_result",
          "data": {
            "text/plain": [
              "[1, 2, 3, 4]"
            ]
          },
          "metadata": {},
          "execution_count": 7
        }
      ],
      "source": [
        "lst = [1,2,3,4,5]\n",
        "\n",
        "def initial(lst):\n",
        "  return lst[:-1]\n",
        "\n",
        "initial(lst)"
      ]
    },
    {
      "cell_type": "markdown",
      "source": [
        "- 주어진 범위 만큼의 리스트를 생성하는 코드를 작성하세요.\n",
        "\n",
        "단, start 와 end 는 범위를 지정하며, step 은 원소간의 간격을 의미합니다"
      ],
      "metadata": {
        "id": "cUVJo1H07QZ0"
      }
    },
    {
      "cell_type": "code",
      "source": [
        "def initialize_list_with_range(end, start=0, step=1):\n",
        "  return list(range(start,end+1,step))\n",
        "\n",
        "initialize_list_with_range(5) , initialize_list_with_range(7,3) ,initialize_list_with_range(9,0,2)"
      ],
      "metadata": {
        "colab": {
          "base_uri": "https://localhost:8080/"
        },
        "id": "-BPMWGGh7QAS",
        "outputId": "e504a3c6-6e97-4609-b966-7930c38ec0dd"
      },
      "execution_count": null,
      "outputs": [
        {
          "output_type": "execute_result",
          "data": {
            "text/plain": [
              "([0, 1, 2, 3, 4, 5], [3, 4, 5, 6, 7], [0, 2, 4, 6, 8])"
            ]
          },
          "metadata": {},
          "execution_count": 12
        }
      ]
    },
    {
      "cell_type": "markdown",
      "source": [
        "- 주어진 값으로 채워진 리스트를 생성하는 코드를 작성하세요."
      ],
      "metadata": {
        "id": "jbemgFn08Pnd"
      }
    },
    {
      "cell_type": "code",
      "source": [
        "def initialize_list_with_values(n, val=0):\n",
        "  return [ val for i in range(n) ]\n",
        "\n",
        "initialize_list_with_values(3,3)"
      ],
      "metadata": {
        "colab": {
          "base_uri": "https://localhost:8080/"
        },
        "id": "mA5kxpE58O5o",
        "outputId": "0f940334-443f-4866-e732-a44439a499a0"
      },
      "execution_count": null,
      "outputs": [
        {
          "output_type": "execute_result",
          "data": {
            "text/plain": [
              "[3, 3, 3]"
            ]
          },
          "metadata": {},
          "execution_count": 26
        }
      ]
    },
    {
      "cell_type": "markdown",
      "source": [
        "- 두 리스트에 모두 존재하는 값을 반환하는 코드를 작성하세요."
      ],
      "metadata": {
        "id": "eBJTA8hb9y19"
      }
    },
    {
      "cell_type": "code",
      "source": [
        "lst1 = [1,2,3]\n",
        "lst2 = [2,3,4] \n",
        "\n",
        "def intersection(a,b):\n",
        "  return set(a) & set(b)\n",
        "\n",
        "intersection(lst1,lst2)"
      ],
      "metadata": {
        "colab": {
          "base_uri": "https://localhost:8080/"
        },
        "id": "_AaNxLMb9yjx",
        "outputId": "d308dc59-cc5d-4f77-bdc0-3406ea5239a3"
      },
      "execution_count": null,
      "outputs": [
        {
          "output_type": "execute_result",
          "data": {
            "text/plain": [
              "{2, 3}"
            ]
          },
          "metadata": {},
          "execution_count": 27
        }
      ]
    },
    {
      "cell_type": "markdown",
      "source": [
        "- 첫번째 숫자(dividend)가 두번째 숫자(divisor)로 나누어 떨어지는지 확인하는 코드를 작성하세요."
      ],
      "metadata": {
        "id": "J-7pMM2d-Lom"
      }
    },
    {
      "cell_type": "code",
      "source": [
        "a = 9\n",
        "b = 3\n",
        "\n",
        "def is_divisible(dividend, divisor):\n",
        "  return dividend % divisor == 0\n",
        "\n",
        "is_divisible(a, b)"
      ],
      "metadata": {
        "colab": {
          "base_uri": "https://localhost:8080/"
        },
        "id": "SBCvIDAO-K_-",
        "outputId": "e48cc23f-a71d-4542-c67a-29f8a7f56294"
      },
      "execution_count": null,
      "outputs": [
        {
          "output_type": "execute_result",
          "data": {
            "text/plain": [
              "True"
            ]
          },
          "metadata": {},
          "execution_count": 33
        }
      ]
    },
    {
      "cell_type": "markdown",
      "source": [
        "- 주어진 리스트에서 짝수만 필터링하고, 각 요소를 제곱한 리스트를 반환하는 함수를 람다 함수를 사용하여 작성해보세요."
      ],
      "metadata": {
        "id": "jpIQ1pK1bAe8"
      }
    },
    {
      "cell_type": "code",
      "source": [
        "input_list = [1, 2, 3, 4, 5, 6, 7, 8, 9, 10]\n",
        "\n",
        "\n",
        "list(map(lambda x: x**2 , [i for i in input_list if i%2 == 0])) \n",
        "\n",
        "# 코드를 작성해주세요.\n",
        "# 출력: [4, 16, 36, 64, 100]\n",
        "# 이렇게도 가능. \n",
        "# list(map(lambda x: x**2, filter(lambda x: x%2==0, input_list)))\n"
      ],
      "metadata": {
        "colab": {
          "base_uri": "https://localhost:8080/"
        },
        "id": "CRveQ95VbEou",
        "outputId": "6d0a2f9b-535f-4380-f0f4-a2c9bea5f484"
      },
      "execution_count": null,
      "outputs": [
        {
          "output_type": "execute_result",
          "data": {
            "text/plain": [
              "[4, 16, 36, 64, 100]"
            ]
          },
          "metadata": {},
          "execution_count": 52
        }
      ]
    },
    {
      "cell_type": "markdown",
      "source": [
        "- 람다 함수를 사용하여 리스트에서 가장 큰 수를 찾아내는 함수를 작성해보세요"
      ],
      "metadata": {
        "id": "qEmnbby5dMqm"
      }
    },
    {
      "cell_type": "code",
      "source": [
        "input_list = [1, 5, 9, 2, 3, 7, 8, 4, 6]\n",
        "\n",
        "add = lambda x : max(x)\n",
        "add(input_list)\n",
        "\n",
        "# 코드를 작성해주세요.\n",
        "# 출력: 9"
      ],
      "metadata": {
        "colab": {
          "base_uri": "https://localhost:8080/"
        },
        "id": "V2ta0XDQdQVN",
        "outputId": "25393c57-d978-4941-99bd-af720c75b44d"
      },
      "execution_count": null,
      "outputs": [
        {
          "output_type": "execute_result",
          "data": {
            "text/plain": [
              "9"
            ]
          },
          "metadata": {},
          "execution_count": 53
        }
      ]
    },
    {
      "cell_type": "markdown",
      "source": [
        "- 다음과 같은 사전이 주어졌을 때, 값(value)을 기준으로 내림차순으로 정렬된 튜플의 리스트를 반환하는 함수를 람다 함수를 사용하여 작성해보세요"
      ],
      "metadata": {
        "id": "IWKY8sW4jkYe"
      }
    },
    {
      "cell_type": "code",
      "source": [
        "input_dict = {'apple': 20, 'banana': 5, 'orange': 15, 'kiwi': 30, 'grape': 10}\n",
        "\n",
        "sorted(input_dict.items(),key = lambda x : x[1] ,reverse=True )\n",
        "\n",
        "## key 값을 X[1] 로 받게 되면 , values 를 기준으로 정렬 한다. , 반대로 x[0] 이면  \n",
        "## key 값을 기준으로 정렬한다.\n",
        "# 코드를 작성해주세요.\n",
        "# 출력: [('kiwi', 30), ('apple', 20), ('orange', 15), ('grape', 10), ('banana', 5)]"
      ],
      "metadata": {
        "colab": {
          "base_uri": "https://localhost:8080/"
        },
        "id": "R6wJajh3jnv3",
        "outputId": "b1695751-0c7e-4d8c-b2c8-a63dc4b904b3"
      },
      "execution_count": null,
      "outputs": [
        {
          "output_type": "execute_result",
          "data": {
            "text/plain": [
              "[('kiwi', 30), ('apple', 20), ('orange', 15), ('grape', 10), ('banana', 5)]"
            ]
          },
          "metadata": {},
          "execution_count": 29
        }
      ]
    },
    {
      "cell_type": "markdown",
      "source": [
        "- 다음과 같은 두 리스트가 주어졌을 때, 두 리스트의 요소를 곱한 새로운 리스트를 반환하는 함수를 람다 함수를 사용하여 작성해보세요"
      ],
      "metadata": {
        "id": "eAinJNLnjuyX"
      }
    },
    {
      "cell_type": "code",
      "source": [
        "list1 = [1, 2, 3, 4, 5]\n",
        "list2 = [10, 9, 8, 7, 6]\n",
        "\n",
        "list_mul= map(lambda x : list2[x] * list1[x] , [i for i in range(5)])\n",
        "list(list_mul)\n",
        "# 코드를 작성해주세요.\n",
        "# 출력: [10, 18, 24, 28, 30]"
      ],
      "metadata": {
        "colab": {
          "base_uri": "https://localhost:8080/"
        },
        "id": "vDm4Fcyhjwgt",
        "outputId": "35d47b68-4eb2-462c-bf80-6046fd6a3abf"
      },
      "execution_count": null,
      "outputs": [
        {
          "output_type": "execute_result",
          "data": {
            "text/plain": [
              "[10, 18, 24, 28, 30]"
            ]
          },
          "metadata": {},
          "execution_count": 40
        }
      ]
    },
    {
      "cell_type": "markdown",
      "source": [
        "- 다음과 같은 리스트가 주어졌을 때, 중복된 요소를 제거하고, 리스트의 요소를 문자열로 조합하여 반환하는 함수를 람다 함수를 사용하여 작성해보세요."
      ],
      "metadata": {
        "id": "Fk1XSmKej05c"
      }
    },
    {
      "cell_type": "code",
      "source": [
        "# input_list = ['hello', 'world', 'python', 'hello', 'data', 'world']\n",
        "# temp = [input_list[i] for i in range(0,len(input_list)-1) if input_list[i] != input_list[i+1]]\n",
        "# temp\n",
        " \n",
        "# input_list = ['hello', 'world', 'python', 'hello', 'data', 'world']\n",
        "# temp = [input_list[0]] + [input_list[i+1] for i in range(len(input_list)-1) if input_list[i] != input_list[i+1]]\n",
        "# temp\n",
        "from functools import reduce\n",
        "\n",
        "input_list = ['hello', 'world', 'python', 'hello', 'data', 'world']\n",
        "temp = reduce(lambda x, y: x + y if y not in x else x, input_list)\n",
        "\n",
        "print(temp)\n",
        "\n",
        "\n",
        "# 코드를 작성해주세요.\n",
        "# 출력: 'helloworldpythondata'"
      ],
      "metadata": {
        "colab": {
          "base_uri": "https://localhost:8080/"
        },
        "id": "JE2Z_oobj7Bh",
        "outputId": "cac0d12d-2207-44a3-c00d-0827d232f28e"
      },
      "execution_count": null,
      "outputs": [
        {
          "output_type": "stream",
          "name": "stdout",
          "text": [
            "helloworldpythondata\n"
          ]
        }
      ]
    },
    {
      "cell_type": "markdown",
      "source": [
        "- 사용자로부터 값을 입력받은 후 해당 값에 20을 더한 값을 출력하라. 단 사용자가 입력한 값과 20을 더한 계산 값이 255를 초과하는 경우 255를 출력해야 한다."
      ],
      "metadata": {
        "id": "jlk2HuZRf9Rz"
      }
    },
    {
      "cell_type": "code",
      "source": [
        "val = int(input())\n",
        "\n",
        "if val+20 <= 255 :\n",
        "  print(val+20)\n",
        "else:\n",
        "  print(255)"
      ],
      "metadata": {
        "colab": {
          "base_uri": "https://localhost:8080/"
        },
        "id": "zAMgCcAvgATc",
        "outputId": "d6add2ad-a535-4eec-ccd8-e2e8b2311b5e"
      },
      "execution_count": null,
      "outputs": [
        {
          "output_type": "stream",
          "name": "stdout",
          "text": [
            "250\n",
            "255\n"
          ]
        }
      ]
    },
    {
      "cell_type": "markdown",
      "source": [
        "-사용자로부터 하나의 값을 입력받은 후 해당 값에 20을 뺀 값을 출력하라. 단 출력 값의 범위는 0~255이다. 예를 들어 결괏값이 0보다 작은 값이되는 경우 0을 출력하고 255보다 큰 값이 되는 경우 255를 출력해야 한다."
      ],
      "metadata": {
        "id": "E6BQANtUgp5Q"
      }
    },
    {
      "cell_type": "code",
      "source": [
        "val = int(input())\n",
        "\n",
        "def cal(val):\n",
        "  return val-20\n",
        "\n",
        "if 0<= cal(val) <= 255:\n",
        "  print(cal(val))\n",
        "elif cal(val) <0 :\n",
        "  print(0)\n",
        "else : \n",
        "  print(255)\n"
      ],
      "metadata": {
        "colab": {
          "base_uri": "https://localhost:8080/"
        },
        "id": "3kpbW91wgt5W",
        "outputId": "7332f20b-cd2e-415e-85cf-53d31cf18372"
      },
      "execution_count": null,
      "outputs": [
        {
          "output_type": "stream",
          "name": "stdout",
          "text": [
            "-1\n",
            "0\n"
          ]
        }
      ]
    },
    {
      "cell_type": "markdown",
      "source": [
        "-사용자로부터 입력 받은 시간이 정각인지 판별하라."
      ],
      "metadata": {
        "id": "wzahtMujhkMX"
      }
    },
    {
      "cell_type": "code",
      "source": [
        "time = input(\"현재시간:\")\n",
        "time1= time.split(\":\")\n",
        "\n",
        "if time1[1] == \"00\":\n",
        "  print(\"정각입니다.\")\n",
        "else: \n",
        "  print(\"정각이 아닙니다.\")"
      ],
      "metadata": {
        "colab": {
          "base_uri": "https://localhost:8080/"
        },
        "id": "_FX0IQBohqAx",
        "outputId": "fcce069b-6cfa-4f80-f8d0-c824b01ed720"
      },
      "execution_count": null,
      "outputs": [
        {
          "output_type": "stream",
          "name": "stdout",
          "text": [
            "현재시간:02:01\n",
            "정각이 아닙니다.\n"
          ]
        }
      ]
    },
    {
      "cell_type": "markdown",
      "source": [
        "-사용자로 입력받은 단어가 아래 fruit 리스트에 포함되어 있는지를 확인하라. 포함되었다면 \"정답입니다\"를 아닐 경우 \"오답입니다\" 출력하라."
      ],
      "metadata": {
        "id": "FMVKaR-njHqd"
      }
    },
    {
      "cell_type": "code",
      "source": [
        "fruits = [\"사과\", \"포도\", \"홍시\"]\n",
        "\n",
        "fruit = input()\n",
        "if fruit in fruits:\n",
        "  print(\"정답입니다.\")\n",
        "else:\n",
        "  print(\"오답입니다.\")"
      ],
      "metadata": {
        "colab": {
          "base_uri": "https://localhost:8080/"
        },
        "id": "FYp8tqUKjHDb",
        "outputId": "37d0c7ff-e1dc-415d-85ae-3727f80719af"
      },
      "execution_count": null,
      "outputs": [
        {
          "output_type": "stream",
          "name": "stdout",
          "text": [
            "배\n",
            "오답입니다.\n"
          ]
        }
      ]
    },
    {
      "cell_type": "markdown",
      "source": [
        "- 투자 경고 종목 리스트가 있을 때 사용자로부터 종목명을 입력 받은 후 해당 종목이 투자 경고 종목이라면 '투자 경고 종목입니다'를 아니면 \"투자 경고 종목이 아닙니다.\"를 출력하는 프로그램을 작성하라"
      ],
      "metadata": {
        "id": "3_gfUDY0j6IL"
      }
    },
    {
      "cell_type": "code",
      "source": [
        "warn_investment_list = [\"Microsoft\", \"Google\", \"Naver\", \"Kakao\", \"SAMSUNG\", \"LG\"]\n",
        "\n",
        "invest = input()\n",
        "\n",
        "if invest in warn_investment_list:\n",
        "  print(\"투자 경고 종목 입니다.\")\n",
        "else:\n",
        "  print(\"투자 경고 종목이 아닙니다.\")"
      ],
      "metadata": {
        "colab": {
          "base_uri": "https://localhost:8080/"
        },
        "id": "RLIV-kaWj_yv",
        "outputId": "60859b2f-4096-4bc4-c93c-946d36eb2fd0"
      },
      "execution_count": null,
      "outputs": [
        {
          "output_type": "stream",
          "name": "stdout",
          "text": [
            "Buydo\n",
            "투자 경고 종목이 아닙니다.\n"
          ]
        }
      ]
    },
    {
      "cell_type": "markdown",
      "source": [
        "- 아래와 같이 fruit 딕셔너리가 정의되어 있다. 사용자가 입력한 값이 딕셔너리 키 (key) 값에 포함되었다면 \"정답입니다\"를 아닐 경우 \"오답입니다\" 출력하라."
      ],
      "metadata": {
        "id": "ePewzACOkpiR"
      }
    },
    {
      "cell_type": "code",
      "source": [
        "fruit = {\"봄\" : \"딸기\", \"여름\" : \"토마토\", \"가을\" : \"사과\"}\n",
        "\n",
        "key = input(\"제가 좋아하는 계절은?\")\n",
        "\n",
        "if key in fruit.keys():\n",
        "  print(\"정답\")\n",
        "else:\n",
        "  print(\"오답\")"
      ],
      "metadata": {
        "colab": {
          "base_uri": "https://localhost:8080/"
        },
        "id": "kacE1pQUkoD5",
        "outputId": "74ab85e8-ceff-4462-c0d2-2b5392fb7663"
      },
      "execution_count": null,
      "outputs": [
        {
          "output_type": "stream",
          "name": "stdout",
          "text": [
            "봄\n",
            "정답\n"
          ]
        }
      ]
    },
    {
      "cell_type": "markdown",
      "source": [
        "- 아래와 같이 fruit 딕셔너리가 정의되어 있다. 사용자가 입력한 값이 딕셔너리 값 (value)에 포함되었다면 \"정답입니다\"를 아닐 경우 \"오답입니다\" 출력하라."
      ],
      "metadata": {
        "id": "sb47J1xxlhjl"
      }
    },
    {
      "cell_type": "code",
      "source": [
        "fruit = {\"봄\" : \"딸기\", \"여름\" : \"토마토\", \"가을\" : \"사과\"}\n",
        "\n",
        "key = input(\"제가 좋아하는 과일은?\")\n",
        "\n",
        "if key in fruit.values():\n",
        "  print(\"정답\")\n",
        "else:\n",
        "  print(\"오답\")"
      ],
      "metadata": {
        "colab": {
          "base_uri": "https://localhost:8080/"
        },
        "id": "IMPmCkQplg5K",
        "outputId": "9f2e5a58-340d-472c-d2c2-a635b8bc7864"
      },
      "execution_count": null,
      "outputs": [
        {
          "output_type": "stream",
          "name": "stdout",
          "text": [
            "제가 좋아하는 과일은?딸기\n",
            "정답\n"
          ]
        }
      ]
    },
    {
      "cell_type": "markdown",
      "source": [
        "- 사용자로부터 문자 한 개를 입력 받고, 소문자일 경우 대문자로, 대문자 일 경우, 소문자로 변경해서 출력하라"
      ],
      "metadata": {
        "id": "acwBRgcbl9I7"
      }
    },
    {
      "cell_type": "code",
      "source": [
        "word = input()\n",
        "\n",
        "if word.islower():\n",
        "  print(word.upper())\n",
        "else:\n",
        "  print(word.lower())"
      ],
      "metadata": {
        "colab": {
          "base_uri": "https://localhost:8080/"
        },
        "id": "I1jic7AimAiG",
        "outputId": "81660568-c55f-46e3-cf8f-744c3931a6c2"
      },
      "execution_count": null,
      "outputs": [
        {
          "output_type": "stream",
          "name": "stdout",
          "text": [
            "b\n",
            "B\n"
          ]
        }
      ]
    },
    {
      "cell_type": "markdown",
      "source": [
        "-사용자로부터 달러, 엔, 유로, 또는 위안 금액을 입력받은 후 이를 원으로 변환하는 프로그램을 작성하라. 각 통화별 환율은 다음과 같다. 사용자는 100 달러, 1000 엔, 13 유로, 100 위안과 같이 금액과 통화명 사이에 공백을 넣어 입력한다고 가정한다."
      ],
      "metadata": {
        "id": "sggPSkxhnD4o"
      }
    },
    {
      "cell_type": "code",
      "source": [
        "money = input(\"입력(예시:100 달러)\")\n",
        "\n",
        "val = float(money.split(\" \")[0])\n",
        "exc = money.split(\" \")[1]\n",
        "\n",
        "if exc == \"달러\":\n",
        "  print(f\"{val*1167}원\")\n",
        "elif exc == \"엔\":\n",
        "  print(f\"{val*1.096}원\")\n",
        "elif exc == \"유로\":\n",
        "  print(f\"{val*1268}원\")\n",
        "elif exc == \"위안\":\n",
        "  print(f\"{val*171}원\")\n"
      ],
      "metadata": {
        "colab": {
          "base_uri": "https://localhost:8080/"
        },
        "id": "AWsZagjKnCz3",
        "outputId": "35bb7358-f985-4469-8344-ed94d15bc9bf"
      },
      "execution_count": null,
      "outputs": [
        {
          "output_type": "stream",
          "name": "stdout",
          "text": [
            "입력(예시:100 달러)200 달러\n",
            "233400.0원\n"
          ]
        }
      ]
    },
    {
      "cell_type": "code",
      "source": [
        "number1 = input()\n",
        "number2 = input()\n",
        "number3 = input()\n",
        "\n",
        "int(max([number1,number2,number3]))"
      ],
      "metadata": {
        "colab": {
          "base_uri": "https://localhost:8080/"
        },
        "id": "8SFP7wD9p3EL",
        "outputId": "f3d3d743-597d-416e-9e6d-1a18e9987501"
      },
      "execution_count": null,
      "outputs": [
        {
          "name": "stdout",
          "output_type": "stream",
          "text": [
            "20\n",
            "50\n",
            "700\n"
          ]
        },
        {
          "output_type": "execute_result",
          "data": {
            "text/plain": [
              "700"
            ]
          },
          "metadata": {},
          "execution_count": 34
        }
      ]
    },
    {
      "cell_type": "code",
      "source": [
        "telecom = {'011':'SKT','016':'KT','019':'LGU','010':'unknown'}\n",
        "\n",
        "number = input(\"h.p number?(e.f 010-0000-000) :\")\n",
        "num=number.split(\"-\")[0]\n",
        "\n",
        "print(f\"you're {telecom[num]} user \")"
      ],
      "metadata": {
        "colab": {
          "base_uri": "https://localhost:8080/"
        },
        "id": "kR-9MkUox2W2",
        "outputId": "dbf6dcf1-a7d9-438a-8cef-3cea247432f0"
      },
      "execution_count": null,
      "outputs": [
        {
          "output_type": "stream",
          "name": "stdout",
          "text": [
            "h.p number?(e.f 010-0000-000) :011-269-7855\n",
            "you're SKT user \n"
          ]
        }
      ]
    },
    {
      "cell_type": "markdown",
      "source": [
        "-우편번호는 5자리로 구성되는데, 앞의 세자리는 구를 나타낸다. 예를들어, 강북구의 경우 010, 011, 012 세 자리로 시작한다."
      ],
      "metadata": {
        "id": "x9N7Et5_zaGy"
      }
    },
    {
      "cell_type": "code",
      "source": [
        "num = input('우편번호:')\n",
        "\n",
        "if num[2] in ['0','1','2']:\n",
        "  print('강북구')\n",
        "elif num[2] in ['3','4','5']:\n",
        "  print('도봉구')\n",
        "elif num[2] in ['6','7','8','9']:\n",
        "  print('노원구')\n",
        "  "
      ],
      "metadata": {
        "colab": {
          "base_uri": "https://localhost:8080/"
        },
        "id": "JQy07EJUzZqQ",
        "outputId": "b5748af2-9f1c-40ee-99b4-09ecc5bada84"
      },
      "execution_count": null,
      "outputs": [
        {
          "output_type": "stream",
          "name": "stdout",
          "text": [
            "우편번호:01700\n",
            "노원구\n"
          ]
        }
      ]
    },
    {
      "cell_type": "markdown",
      "source": [
        "- 주민등록번호 뒷 자리 7자리 중 첫째 자리는 성별을 나타내는데, 1, 3은 남자 2, 4는 여자를 의미한다. 사용자로부터 13자리의 주민등록번호를 입력 받은 후 성별 (남자, 여자)를 출력하는 프로그램을 작성하라."
      ],
      "metadata": {
        "id": "4baf8S0Y3BL2"
      }
    },
    {
      "cell_type": "code",
      "source": [
        "id = input()\n",
        "\n",
        "if id[7] in ['1','3']:\n",
        "  print('man')\n",
        "elif id[7] in ['2','4']:\n",
        "  print('woman')"
      ],
      "metadata": {
        "colab": {
          "base_uri": "https://localhost:8080/"
        },
        "id": "mjC51WUw3AQ-",
        "outputId": "448967f2-7ab5-4c96-bcef-809be378b3de"
      },
      "execution_count": null,
      "outputs": [
        {
          "output_type": "stream",
          "name": "stdout",
          "text": [
            "121212-4234567\n",
            "woman\n"
          ]
        }
      ]
    },
    {
      "cell_type": "code",
      "source": [
        "id = input()\n",
        "\n",
        "id_birth = id.split('-')[0]\n",
        "id_info = id.split('-')[1]\n",
        "\n",
        "if id_info[1:3] in ['00','01','02','03','04','05','06','07','08','09']:\n",
        "  print(\"서울입니다\")\n",
        "else :\n",
        "  print(\"서울이 아닙니다\")\n"
      ],
      "metadata": {
        "colab": {
          "base_uri": "https://localhost:8080/"
        },
        "id": "zYOwXvh_8STP",
        "outputId": "66f1db64-ff02-4f2b-9901-33f837869a31"
      },
      "execution_count": 1,
      "outputs": [
        {
          "output_type": "stream",
          "name": "stdout",
          "text": [
            "821010-1635210\n",
            "서울이 아닙니다\n"
          ]
        }
      ]
    },
    {
      "cell_type": "markdown",
      "source": [
        "-주민등록번호는 13자리로 구성되는데 마지막 자리수는 주민등록번호의 유효성을 체크하는데 사용된다. 먼저 앞에서부터 12자리의 숫자에 2, 3, 4, 5, 6, 7, 8, 9, 2, 3, 4, 5를 차례로 곱한 뒤 그 값을 전부 더한다. 연산 결과 값을 11로 나누면 나머지가 나오는데 11에서 나머지를 뺀 값이 주민등록번호의 마지막 번호가 된다."
      ],
      "metadata": {
        "id": "Jtu0MqSm9tGR"
      }
    },
    {
      "cell_type": "code",
      "source": [
        "id = input()\n",
        "\n",
        "id_temp = id.split('-')[0] + id.split('-')[1]\n",
        "id_int = [int(id_temp[i]) for i in range(len(id_temp))]\n",
        "\n",
        "val_num = [2, 3, 4, 5, 6, 7, 8, 9, 2, 3, 4, 5 ,1]\n",
        "cal1 = sum([id_int[i]*val_num[i] for i in range(len(id_int))])\n",
        "\n",
        "if (11-cal1%11) == id_int[-1]:\n",
        "  print('yes')\n",
        "else : \n",
        "  print('no')\n",
        "\n",
        "## 결과는 맞는데 내것은 안되는 걸로 봐서 , 다른 이유가 있는듯 "
      ],
      "metadata": {
        "colab": {
          "base_uri": "https://localhost:8080/"
        },
        "id": "urN0PU-z9s33",
        "outputId": "f0ff9438-88fe-4cad-d2c1-9c52658b5086"
      },
      "execution_count": 25,
      "outputs": [
        {
          "output_type": "stream",
          "name": "stdout",
          "text": [
            "821010-1635210\n",
            "no\n"
          ]
        }
      ]
    },
    {
      "cell_type": "markdown",
      "source": [
        "-아래 코드는 비트코인의 가격 정보를 딕셔너리로 가져오는 코드이다.\n",
        "\n",
        "-btc 딕셔너리 안에는 시가, 종가, 최고가, 최저가 등이 저장되어 있다. 최고가와 최저가의 차이를 변동폭으로 정의할 때 (시가 + 변동폭)이 최고가 보다 높을 경우 \"상승장\", 그렇지 않은 경우 \"하락장\" 문자열을 출력하라."
      ],
      "metadata": {
        "id": "SpH7oflAFMq2"
      }
    },
    {
      "cell_type": "code",
      "source": [
        "import requests\n",
        "btc = requests.get(\"https://api.bithumb.com/public/ticker/\").json()['data']\n",
        "\n",
        "# 시작금액: int(btc['opening_price'])\n",
        "# 마지막 거래 금액 :int(btc['closing_price'])\n",
        "# 최저 거래 금액 : int(btc['min_price'])\n",
        "# 최고 거래 금액 : int(btc['max_price'])\n",
        "\n",
        "price_variance = int(btc['max_price']) - int(btc['min_price']) \n",
        "open_close = int(btc['opening_price']) + price_variance\n",
        "\n",
        "if open_close > int(btc['max_price']) :\n",
        "  print(\"RED\")\n",
        "else:\n",
        "  print(\"BLUE\")\n",
        "\n"
      ],
      "metadata": {
        "colab": {
          "base_uri": "https://localhost:8080/"
        },
        "id": "se2vYYCiFTNX",
        "outputId": "3effcd51-1b53-400a-84d5-6e83cae73f7a"
      },
      "execution_count": 34,
      "outputs": [
        {
          "output_type": "stream",
          "name": "stdout",
          "text": [
            "RED\n"
          ]
        }
      ]
    }
  ]
}