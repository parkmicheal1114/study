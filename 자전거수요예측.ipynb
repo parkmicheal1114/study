{
  "nbformat": 4,
  "nbformat_minor": 0,
  "metadata": {
    "colab": {
      "provenance": [],
      "mount_file_id": "1j3FbM34sa2g-fchWVElDxyj9zoYMetkE",
      "authorship_tag": "ABX9TyMgV3EVycryUcZz4pevuP6b",
      "include_colab_link": true
    },
    "kernelspec": {
      "name": "python3",
      "display_name": "Python 3"
    },
    "language_info": {
      "name": "python"
    }
  },
  "cells": [
    {
      "cell_type": "markdown",
      "metadata": {
        "id": "view-in-github",
        "colab_type": "text"
      },
      "source": [
        "<a href=\"https://colab.research.google.com/github/parkmicheal1114/study/blob/main/%EC%9E%90%EC%A0%84%EA%B1%B0%EC%88%98%EC%9A%94%EC%98%88%EC%B8%A1.ipynb\" target=\"_parent\"><img src=\"https://colab.research.google.com/assets/colab-badge.svg\" alt=\"Open In Colab\"/></a>"
      ]
    },
    {
      "cell_type": "markdown",
      "source": [
        "# 개요 \n",
        " -  https://www.kaggle.com/competitions/bike-sharing-demand/overview\n",
        " -  대회 참가자는 워싱턴 DC의 Captal BikeShare 프로그램에서 과거 사용 패턴과 날씨 데이터를 결합해야 한다고 한다.\n",
        " - 이번 실습의 목표는 단순히 여러 회귀를 구현하고 익히기 위함이라서 위의 데이터 결합은 추후에 시도 한다.\n",
        " - 이번 실습은 파이썬 머신 러닝 가이드에 따른다."
      ],
      "metadata": {
        "id": "PYTOx3gA66QY"
      }
    },
    {
      "cell_type": "markdown",
      "source": [
        "# 데이터 설명\n",
        " \n",
        "1. 데이터 경로\n",
        " - https://www.kaggle.com/competitions/bike-sharing-demand/data?select=train.csv\n",
        " \n",
        "2. 변수 \n",
        " - datetime - hourly date + timestamp  \n",
        " - season -  1 = spring, 2 = summer, 3 = fall, 4 = winter \n",
        " - holiday - 해당 요일을 휴일\n",
        " - workingday - whether the day is neither a weekend nor holiday\n",
        " - weather  \n",
        "    1: 맑음, 약간 구름, 부분 흐림, 부분 흐림\n",
        "    \n",
        "    2: 안개 + 흐림, 안개 + 부서진 구름, 안개 + 약간 구름, 안개\n",
        "    \n",
        "    3: 가벼운 눈, 약한 비 + 뇌우 + 흩어진 구름, 약한 비 + 흩어진 구름\n",
        "    \n",
        "    4: 폭우 + 얼음 팔레트 + 뇌우 + 안개, 눈 + 안개\n",
        "\n",
        " - temp - temperature in Celsius\n",
        " - atemp - \"feels like\" temperature in Celsius ( 체감온도 )\n",
        " - humidity - relative humidity ( 습도 ) \n",
        " - windspeed - wind speed ( 풍속 )\n",
        " - casual - number of non-registered user rentals initiated ( 미예약 대여 초기값 )\n",
        " - registered - number of registered user rentals initiated ( 예약 대여 초기값 )\n",
        " - count - number of total rentals"
      ],
      "metadata": {
        "id": "vxraqGEu7xlF"
      }
    },
    {
      "cell_type": "markdown",
      "source": [
        "# 데이터 확인."
      ],
      "metadata": {
        "id": "Uutb3TfN-9Gp"
      }
    },
    {
      "cell_type": "code",
      "source": [
        "from io import IncrementalNewlineDecoder\n",
        "import pandas as pd\n",
        "import numpy as np\n",
        "import matplotlib.pyplot as plt\n",
        "import seaborn as sns\n",
        "import warnings\n",
        "warnings.filterwarnings('ignore', category=RuntimeWarning)\n",
        "\n",
        "%matplotlib Inline\n",
        "\n",
        "\n",
        "df_bike = pd.read_csv('/content/drive/MyDrive/Colab Notebooks/study_dataset/bike_share/train.csv')\n",
        "df_bike.head(5)"
      ],
      "metadata": {
        "colab": {
          "base_uri": "https://localhost:8080/",
          "height": 206
        },
        "id": "_BI2XqRP8_cF",
        "outputId": "a0418b0e-038a-4da1-ff35-0c7a20376927"
      },
      "execution_count": 1,
      "outputs": [
        {
          "output_type": "execute_result",
          "data": {
            "text/plain": [
              "              datetime  season  holiday  workingday  weather  temp   atemp  \\\n",
              "0  2011-01-01 00:00:00       1        0           0        1  9.84  14.395   \n",
              "1  2011-01-01 01:00:00       1        0           0        1  9.02  13.635   \n",
              "2  2011-01-01 02:00:00       1        0           0        1  9.02  13.635   \n",
              "3  2011-01-01 03:00:00       1        0           0        1  9.84  14.395   \n",
              "4  2011-01-01 04:00:00       1        0           0        1  9.84  14.395   \n",
              "\n",
              "   humidity  windspeed  casual  registered  count  \n",
              "0        81        0.0       3          13     16  \n",
              "1        80        0.0       8          32     40  \n",
              "2        80        0.0       5          27     32  \n",
              "3        75        0.0       3          10     13  \n",
              "4        75        0.0       0           1      1  "
            ],
            "text/html": [
              "\n",
              "  <div id=\"df-0239d650-0fbd-4be0-803b-6a5541b562c1\">\n",
              "    <div class=\"colab-df-container\">\n",
              "      <div>\n",
              "<style scoped>\n",
              "    .dataframe tbody tr th:only-of-type {\n",
              "        vertical-align: middle;\n",
              "    }\n",
              "\n",
              "    .dataframe tbody tr th {\n",
              "        vertical-align: top;\n",
              "    }\n",
              "\n",
              "    .dataframe thead th {\n",
              "        text-align: right;\n",
              "    }\n",
              "</style>\n",
              "<table border=\"1\" class=\"dataframe\">\n",
              "  <thead>\n",
              "    <tr style=\"text-align: right;\">\n",
              "      <th></th>\n",
              "      <th>datetime</th>\n",
              "      <th>season</th>\n",
              "      <th>holiday</th>\n",
              "      <th>workingday</th>\n",
              "      <th>weather</th>\n",
              "      <th>temp</th>\n",
              "      <th>atemp</th>\n",
              "      <th>humidity</th>\n",
              "      <th>windspeed</th>\n",
              "      <th>casual</th>\n",
              "      <th>registered</th>\n",
              "      <th>count</th>\n",
              "    </tr>\n",
              "  </thead>\n",
              "  <tbody>\n",
              "    <tr>\n",
              "      <th>0</th>\n",
              "      <td>2011-01-01 00:00:00</td>\n",
              "      <td>1</td>\n",
              "      <td>0</td>\n",
              "      <td>0</td>\n",
              "      <td>1</td>\n",
              "      <td>9.84</td>\n",
              "      <td>14.395</td>\n",
              "      <td>81</td>\n",
              "      <td>0.0</td>\n",
              "      <td>3</td>\n",
              "      <td>13</td>\n",
              "      <td>16</td>\n",
              "    </tr>\n",
              "    <tr>\n",
              "      <th>1</th>\n",
              "      <td>2011-01-01 01:00:00</td>\n",
              "      <td>1</td>\n",
              "      <td>0</td>\n",
              "      <td>0</td>\n",
              "      <td>1</td>\n",
              "      <td>9.02</td>\n",
              "      <td>13.635</td>\n",
              "      <td>80</td>\n",
              "      <td>0.0</td>\n",
              "      <td>8</td>\n",
              "      <td>32</td>\n",
              "      <td>40</td>\n",
              "    </tr>\n",
              "    <tr>\n",
              "      <th>2</th>\n",
              "      <td>2011-01-01 02:00:00</td>\n",
              "      <td>1</td>\n",
              "      <td>0</td>\n",
              "      <td>0</td>\n",
              "      <td>1</td>\n",
              "      <td>9.02</td>\n",
              "      <td>13.635</td>\n",
              "      <td>80</td>\n",
              "      <td>0.0</td>\n",
              "      <td>5</td>\n",
              "      <td>27</td>\n",
              "      <td>32</td>\n",
              "    </tr>\n",
              "    <tr>\n",
              "      <th>3</th>\n",
              "      <td>2011-01-01 03:00:00</td>\n",
              "      <td>1</td>\n",
              "      <td>0</td>\n",
              "      <td>0</td>\n",
              "      <td>1</td>\n",
              "      <td>9.84</td>\n",
              "      <td>14.395</td>\n",
              "      <td>75</td>\n",
              "      <td>0.0</td>\n",
              "      <td>3</td>\n",
              "      <td>10</td>\n",
              "      <td>13</td>\n",
              "    </tr>\n",
              "    <tr>\n",
              "      <th>4</th>\n",
              "      <td>2011-01-01 04:00:00</td>\n",
              "      <td>1</td>\n",
              "      <td>0</td>\n",
              "      <td>0</td>\n",
              "      <td>1</td>\n",
              "      <td>9.84</td>\n",
              "      <td>14.395</td>\n",
              "      <td>75</td>\n",
              "      <td>0.0</td>\n",
              "      <td>0</td>\n",
              "      <td>1</td>\n",
              "      <td>1</td>\n",
              "    </tr>\n",
              "  </tbody>\n",
              "</table>\n",
              "</div>\n",
              "      <button class=\"colab-df-convert\" onclick=\"convertToInteractive('df-0239d650-0fbd-4be0-803b-6a5541b562c1')\"\n",
              "              title=\"Convert this dataframe to an interactive table.\"\n",
              "              style=\"display:none;\">\n",
              "        \n",
              "  <svg xmlns=\"http://www.w3.org/2000/svg\" height=\"24px\"viewBox=\"0 0 24 24\"\n",
              "       width=\"24px\">\n",
              "    <path d=\"M0 0h24v24H0V0z\" fill=\"none\"/>\n",
              "    <path d=\"M18.56 5.44l.94 2.06.94-2.06 2.06-.94-2.06-.94-.94-2.06-.94 2.06-2.06.94zm-11 1L8.5 8.5l.94-2.06 2.06-.94-2.06-.94L8.5 2.5l-.94 2.06-2.06.94zm10 10l.94 2.06.94-2.06 2.06-.94-2.06-.94-.94-2.06-.94 2.06-2.06.94z\"/><path d=\"M17.41 7.96l-1.37-1.37c-.4-.4-.92-.59-1.43-.59-.52 0-1.04.2-1.43.59L10.3 9.45l-7.72 7.72c-.78.78-.78 2.05 0 2.83L4 21.41c.39.39.9.59 1.41.59.51 0 1.02-.2 1.41-.59l7.78-7.78 2.81-2.81c.8-.78.8-2.07 0-2.86zM5.41 20L4 18.59l7.72-7.72 1.47 1.35L5.41 20z\"/>\n",
              "  </svg>\n",
              "      </button>\n",
              "      \n",
              "  <style>\n",
              "    .colab-df-container {\n",
              "      display:flex;\n",
              "      flex-wrap:wrap;\n",
              "      gap: 12px;\n",
              "    }\n",
              "\n",
              "    .colab-df-convert {\n",
              "      background-color: #E8F0FE;\n",
              "      border: none;\n",
              "      border-radius: 50%;\n",
              "      cursor: pointer;\n",
              "      display: none;\n",
              "      fill: #1967D2;\n",
              "      height: 32px;\n",
              "      padding: 0 0 0 0;\n",
              "      width: 32px;\n",
              "    }\n",
              "\n",
              "    .colab-df-convert:hover {\n",
              "      background-color: #E2EBFA;\n",
              "      box-shadow: 0px 1px 2px rgba(60, 64, 67, 0.3), 0px 1px 3px 1px rgba(60, 64, 67, 0.15);\n",
              "      fill: #174EA6;\n",
              "    }\n",
              "\n",
              "    [theme=dark] .colab-df-convert {\n",
              "      background-color: #3B4455;\n",
              "      fill: #D2E3FC;\n",
              "    }\n",
              "\n",
              "    [theme=dark] .colab-df-convert:hover {\n",
              "      background-color: #434B5C;\n",
              "      box-shadow: 0px 1px 3px 1px rgba(0, 0, 0, 0.15);\n",
              "      filter: drop-shadow(0px 1px 2px rgba(0, 0, 0, 0.3));\n",
              "      fill: #FFFFFF;\n",
              "    }\n",
              "  </style>\n",
              "\n",
              "      <script>\n",
              "        const buttonEl =\n",
              "          document.querySelector('#df-0239d650-0fbd-4be0-803b-6a5541b562c1 button.colab-df-convert');\n",
              "        buttonEl.style.display =\n",
              "          google.colab.kernel.accessAllowed ? 'block' : 'none';\n",
              "\n",
              "        async function convertToInteractive(key) {\n",
              "          const element = document.querySelector('#df-0239d650-0fbd-4be0-803b-6a5541b562c1');\n",
              "          const dataTable =\n",
              "            await google.colab.kernel.invokeFunction('convertToInteractive',\n",
              "                                                     [key], {});\n",
              "          if (!dataTable) return;\n",
              "\n",
              "          const docLinkHtml = 'Like what you see? Visit the ' +\n",
              "            '<a target=\"_blank\" href=https://colab.research.google.com/notebooks/data_table.ipynb>data table notebook</a>'\n",
              "            + ' to learn more about interactive tables.';\n",
              "          element.innerHTML = '';\n",
              "          dataTable['output_type'] = 'display_data';\n",
              "          await google.colab.output.renderOutput(dataTable, element);\n",
              "          const docLink = document.createElement('div');\n",
              "          docLink.innerHTML = docLinkHtml;\n",
              "          element.appendChild(docLink);\n",
              "        }\n",
              "      </script>\n",
              "    </div>\n",
              "  </div>\n",
              "  "
            ]
          },
          "metadata": {},
          "execution_count": 1
        }
      ]
    },
    {
      "cell_type": "code",
      "source": [
        "df_bike.info()"
      ],
      "metadata": {
        "colab": {
          "base_uri": "https://localhost:8080/"
        },
        "id": "2n_csIsBAjMQ",
        "outputId": "4499334e-cc50-4590-9a78-6a139c56dd6f"
      },
      "execution_count": 2,
      "outputs": [
        {
          "output_type": "stream",
          "name": "stdout",
          "text": [
            "<class 'pandas.core.frame.DataFrame'>\n",
            "RangeIndex: 10886 entries, 0 to 10885\n",
            "Data columns (total 12 columns):\n",
            " #   Column      Non-Null Count  Dtype  \n",
            "---  ------      --------------  -----  \n",
            " 0   datetime    10886 non-null  object \n",
            " 1   season      10886 non-null  int64  \n",
            " 2   holiday     10886 non-null  int64  \n",
            " 3   workingday  10886 non-null  int64  \n",
            " 4   weather     10886 non-null  int64  \n",
            " 5   temp        10886 non-null  float64\n",
            " 6   atemp       10886 non-null  float64\n",
            " 7   humidity    10886 non-null  int64  \n",
            " 8   windspeed   10886 non-null  float64\n",
            " 9   casual      10886 non-null  int64  \n",
            " 10  registered  10886 non-null  int64  \n",
            " 11  count       10886 non-null  int64  \n",
            "dtypes: float64(3), int64(8), object(1)\n",
            "memory usage: 1020.7+ KB\n"
          ]
        }
      ]
    },
    {
      "cell_type": "code",
      "source": [
        "df_bike.isnull().sum()"
      ],
      "metadata": {
        "colab": {
          "base_uri": "https://localhost:8080/"
        },
        "id": "LFDBNdswBEV9",
        "outputId": "5827e723-831b-48c3-8ffa-0e7c31091dca"
      },
      "execution_count": 3,
      "outputs": [
        {
          "output_type": "execute_result",
          "data": {
            "text/plain": [
              "datetime      0\n",
              "season        0\n",
              "holiday       0\n",
              "workingday    0\n",
              "weather       0\n",
              "temp          0\n",
              "atemp         0\n",
              "humidity      0\n",
              "windspeed     0\n",
              "casual        0\n",
              "registered    0\n",
              "count         0\n",
              "dtype: int64"
            ]
          },
          "metadata": {},
          "execution_count": 3
        }
      ]
    },
    {
      "cell_type": "markdown",
      "source": [
        " - 10886 x rows , 12 x columns \n",
        " - 결측치는 관측 되지 않음.\n",
        " - 대여 수를 예측 하고자 하는 것이기 때문에 counts 종속 변수가 됨.\n",
        " - datetime 은 date형 으로 자료 변환 후 진행."
      ],
      "metadata": {
        "id": "M7vezfjqAn7C"
      }
    },
    {
      "cell_type": "markdown",
      "source": [
        "# 데이터 클렌징 및 가공과 데이터 시각화"
      ],
      "metadata": {
        "id": "52vr4JsbB1hW"
      }
    },
    {
      "cell_type": "markdown",
      "source": [
        "1. datetime"
      ],
      "metadata": {
        "id": "WH4mLyXVCGql"
      }
    },
    {
      "cell_type": "code",
      "source": [
        "# datatime 컬럼 data type 변환\n",
        "df_bike.datetime = pd.to_datetime(df_bike.datetime)\n",
        "\n",
        "# datatime 에서 년,월,일,시간 추출\n",
        "df_bike['Year'] = df_bike['datetime'].dt.year\n",
        "df_bike['Month'] = df_bike['datetime'].dt.month\n",
        "df_bike['Day'] = df_bike['datetime'].dt.day\n",
        "df_bike['Hour'] = df_bike['datetime'].dt.hour\n",
        "df_bike.head(5)"
      ],
      "metadata": {
        "colab": {
          "base_uri": "https://localhost:8080/",
          "height": 206
        },
        "id": "ZTMJvisCCF4b",
        "outputId": "6b3365ff-df5c-4b65-9d5c-77cac3479a45"
      },
      "execution_count": 4,
      "outputs": [
        {
          "output_type": "execute_result",
          "data": {
            "text/plain": [
              "             datetime  season  holiday  workingday  weather  temp   atemp  \\\n",
              "0 2011-01-01 00:00:00       1        0           0        1  9.84  14.395   \n",
              "1 2011-01-01 01:00:00       1        0           0        1  9.02  13.635   \n",
              "2 2011-01-01 02:00:00       1        0           0        1  9.02  13.635   \n",
              "3 2011-01-01 03:00:00       1        0           0        1  9.84  14.395   \n",
              "4 2011-01-01 04:00:00       1        0           0        1  9.84  14.395   \n",
              "\n",
              "   humidity  windspeed  casual  registered  count  Year  Month  Day  Hour  \n",
              "0        81        0.0       3          13     16  2011      1    1     0  \n",
              "1        80        0.0       8          32     40  2011      1    1     1  \n",
              "2        80        0.0       5          27     32  2011      1    1     2  \n",
              "3        75        0.0       3          10     13  2011      1    1     3  \n",
              "4        75        0.0       0           1      1  2011      1    1     4  "
            ],
            "text/html": [
              "\n",
              "  <div id=\"df-9145f126-22ff-46ba-9a4e-5282770642e6\">\n",
              "    <div class=\"colab-df-container\">\n",
              "      <div>\n",
              "<style scoped>\n",
              "    .dataframe tbody tr th:only-of-type {\n",
              "        vertical-align: middle;\n",
              "    }\n",
              "\n",
              "    .dataframe tbody tr th {\n",
              "        vertical-align: top;\n",
              "    }\n",
              "\n",
              "    .dataframe thead th {\n",
              "        text-align: right;\n",
              "    }\n",
              "</style>\n",
              "<table border=\"1\" class=\"dataframe\">\n",
              "  <thead>\n",
              "    <tr style=\"text-align: right;\">\n",
              "      <th></th>\n",
              "      <th>datetime</th>\n",
              "      <th>season</th>\n",
              "      <th>holiday</th>\n",
              "      <th>workingday</th>\n",
              "      <th>weather</th>\n",
              "      <th>temp</th>\n",
              "      <th>atemp</th>\n",
              "      <th>humidity</th>\n",
              "      <th>windspeed</th>\n",
              "      <th>casual</th>\n",
              "      <th>registered</th>\n",
              "      <th>count</th>\n",
              "      <th>Year</th>\n",
              "      <th>Month</th>\n",
              "      <th>Day</th>\n",
              "      <th>Hour</th>\n",
              "    </tr>\n",
              "  </thead>\n",
              "  <tbody>\n",
              "    <tr>\n",
              "      <th>0</th>\n",
              "      <td>2011-01-01 00:00:00</td>\n",
              "      <td>1</td>\n",
              "      <td>0</td>\n",
              "      <td>0</td>\n",
              "      <td>1</td>\n",
              "      <td>9.84</td>\n",
              "      <td>14.395</td>\n",
              "      <td>81</td>\n",
              "      <td>0.0</td>\n",
              "      <td>3</td>\n",
              "      <td>13</td>\n",
              "      <td>16</td>\n",
              "      <td>2011</td>\n",
              "      <td>1</td>\n",
              "      <td>1</td>\n",
              "      <td>0</td>\n",
              "    </tr>\n",
              "    <tr>\n",
              "      <th>1</th>\n",
              "      <td>2011-01-01 01:00:00</td>\n",
              "      <td>1</td>\n",
              "      <td>0</td>\n",
              "      <td>0</td>\n",
              "      <td>1</td>\n",
              "      <td>9.02</td>\n",
              "      <td>13.635</td>\n",
              "      <td>80</td>\n",
              "      <td>0.0</td>\n",
              "      <td>8</td>\n",
              "      <td>32</td>\n",
              "      <td>40</td>\n",
              "      <td>2011</td>\n",
              "      <td>1</td>\n",
              "      <td>1</td>\n",
              "      <td>1</td>\n",
              "    </tr>\n",
              "    <tr>\n",
              "      <th>2</th>\n",
              "      <td>2011-01-01 02:00:00</td>\n",
              "      <td>1</td>\n",
              "      <td>0</td>\n",
              "      <td>0</td>\n",
              "      <td>1</td>\n",
              "      <td>9.02</td>\n",
              "      <td>13.635</td>\n",
              "      <td>80</td>\n",
              "      <td>0.0</td>\n",
              "      <td>5</td>\n",
              "      <td>27</td>\n",
              "      <td>32</td>\n",
              "      <td>2011</td>\n",
              "      <td>1</td>\n",
              "      <td>1</td>\n",
              "      <td>2</td>\n",
              "    </tr>\n",
              "    <tr>\n",
              "      <th>3</th>\n",
              "      <td>2011-01-01 03:00:00</td>\n",
              "      <td>1</td>\n",
              "      <td>0</td>\n",
              "      <td>0</td>\n",
              "      <td>1</td>\n",
              "      <td>9.84</td>\n",
              "      <td>14.395</td>\n",
              "      <td>75</td>\n",
              "      <td>0.0</td>\n",
              "      <td>3</td>\n",
              "      <td>10</td>\n",
              "      <td>13</td>\n",
              "      <td>2011</td>\n",
              "      <td>1</td>\n",
              "      <td>1</td>\n",
              "      <td>3</td>\n",
              "    </tr>\n",
              "    <tr>\n",
              "      <th>4</th>\n",
              "      <td>2011-01-01 04:00:00</td>\n",
              "      <td>1</td>\n",
              "      <td>0</td>\n",
              "      <td>0</td>\n",
              "      <td>1</td>\n",
              "      <td>9.84</td>\n",
              "      <td>14.395</td>\n",
              "      <td>75</td>\n",
              "      <td>0.0</td>\n",
              "      <td>0</td>\n",
              "      <td>1</td>\n",
              "      <td>1</td>\n",
              "      <td>2011</td>\n",
              "      <td>1</td>\n",
              "      <td>1</td>\n",
              "      <td>4</td>\n",
              "    </tr>\n",
              "  </tbody>\n",
              "</table>\n",
              "</div>\n",
              "      <button class=\"colab-df-convert\" onclick=\"convertToInteractive('df-9145f126-22ff-46ba-9a4e-5282770642e6')\"\n",
              "              title=\"Convert this dataframe to an interactive table.\"\n",
              "              style=\"display:none;\">\n",
              "        \n",
              "  <svg xmlns=\"http://www.w3.org/2000/svg\" height=\"24px\"viewBox=\"0 0 24 24\"\n",
              "       width=\"24px\">\n",
              "    <path d=\"M0 0h24v24H0V0z\" fill=\"none\"/>\n",
              "    <path d=\"M18.56 5.44l.94 2.06.94-2.06 2.06-.94-2.06-.94-.94-2.06-.94 2.06-2.06.94zm-11 1L8.5 8.5l.94-2.06 2.06-.94-2.06-.94L8.5 2.5l-.94 2.06-2.06.94zm10 10l.94 2.06.94-2.06 2.06-.94-2.06-.94-.94-2.06-.94 2.06-2.06.94z\"/><path d=\"M17.41 7.96l-1.37-1.37c-.4-.4-.92-.59-1.43-.59-.52 0-1.04.2-1.43.59L10.3 9.45l-7.72 7.72c-.78.78-.78 2.05 0 2.83L4 21.41c.39.39.9.59 1.41.59.51 0 1.02-.2 1.41-.59l7.78-7.78 2.81-2.81c.8-.78.8-2.07 0-2.86zM5.41 20L4 18.59l7.72-7.72 1.47 1.35L5.41 20z\"/>\n",
              "  </svg>\n",
              "      </button>\n",
              "      \n",
              "  <style>\n",
              "    .colab-df-container {\n",
              "      display:flex;\n",
              "      flex-wrap:wrap;\n",
              "      gap: 12px;\n",
              "    }\n",
              "\n",
              "    .colab-df-convert {\n",
              "      background-color: #E8F0FE;\n",
              "      border: none;\n",
              "      border-radius: 50%;\n",
              "      cursor: pointer;\n",
              "      display: none;\n",
              "      fill: #1967D2;\n",
              "      height: 32px;\n",
              "      padding: 0 0 0 0;\n",
              "      width: 32px;\n",
              "    }\n",
              "\n",
              "    .colab-df-convert:hover {\n",
              "      background-color: #E2EBFA;\n",
              "      box-shadow: 0px 1px 2px rgba(60, 64, 67, 0.3), 0px 1px 3px 1px rgba(60, 64, 67, 0.15);\n",
              "      fill: #174EA6;\n",
              "    }\n",
              "\n",
              "    [theme=dark] .colab-df-convert {\n",
              "      background-color: #3B4455;\n",
              "      fill: #D2E3FC;\n",
              "    }\n",
              "\n",
              "    [theme=dark] .colab-df-convert:hover {\n",
              "      background-color: #434B5C;\n",
              "      box-shadow: 0px 1px 3px 1px rgba(0, 0, 0, 0.15);\n",
              "      filter: drop-shadow(0px 1px 2px rgba(0, 0, 0, 0.3));\n",
              "      fill: #FFFFFF;\n",
              "    }\n",
              "  </style>\n",
              "\n",
              "      <script>\n",
              "        const buttonEl =\n",
              "          document.querySelector('#df-9145f126-22ff-46ba-9a4e-5282770642e6 button.colab-df-convert');\n",
              "        buttonEl.style.display =\n",
              "          google.colab.kernel.accessAllowed ? 'block' : 'none';\n",
              "\n",
              "        async function convertToInteractive(key) {\n",
              "          const element = document.querySelector('#df-9145f126-22ff-46ba-9a4e-5282770642e6');\n",
              "          const dataTable =\n",
              "            await google.colab.kernel.invokeFunction('convertToInteractive',\n",
              "                                                     [key], {});\n",
              "          if (!dataTable) return;\n",
              "\n",
              "          const docLinkHtml = 'Like what you see? Visit the ' +\n",
              "            '<a target=\"_blank\" href=https://colab.research.google.com/notebooks/data_table.ipynb>data table notebook</a>'\n",
              "            + ' to learn more about interactive tables.';\n",
              "          element.innerHTML = '';\n",
              "          dataTable['output_type'] = 'display_data';\n",
              "          await google.colab.output.renderOutput(dataTable, element);\n",
              "          const docLink = document.createElement('div');\n",
              "          docLink.innerHTML = docLinkHtml;\n",
              "          element.appendChild(docLink);\n",
              "        }\n",
              "      </script>\n",
              "    </div>\n",
              "  </div>\n",
              "  "
            ]
          },
          "metadata": {},
          "execution_count": 4
        }
      ]
    },
    {
      "cell_type": "code",
      "source": [
        "# datetime 과 casual , resgistered 제거\n",
        "# datetime 은 분해 되었음\n",
        "# casual + resgistered = count 라서 count 하나만 사용 하겠음.\n",
        "\n",
        "df_bike.drop(['datetime','registered','casual'],axis =1 , inplace=True)"
      ],
      "metadata": {
        "id": "ugnX3gQWB1Rt"
      },
      "execution_count": 5,
      "outputs": []
    },
    {
      "cell_type": "code",
      "source": [
        "df_bike.columns"
      ],
      "metadata": {
        "colab": {
          "base_uri": "https://localhost:8080/"
        },
        "id": "FeKPd4kBJfAf",
        "outputId": "e512b444-e758-4f9d-f7c2-0d5d7135a789"
      },
      "execution_count": 6,
      "outputs": [
        {
          "output_type": "execute_result",
          "data": {
            "text/plain": [
              "Index(['season', 'holiday', 'workingday', 'weather', 'temp', 'atemp',\n",
              "       'humidity', 'windspeed', 'count', 'Year', 'Month', 'Day', 'Hour'],\n",
              "      dtype='object')"
            ]
          },
          "metadata": {},
          "execution_count": 6
        }
      ]
    },
    {
      "cell_type": "code",
      "source": [
        "# count 분포 시각화 (#1)\n",
        "fig , axs  = plt.subplots(figsize=(16,8) , ncols= 4, nrows = 2)\n",
        "features = ['season', 'holiday', 'workingday', 'weather']\n",
        "\n",
        "for i , feature in enumerate(features):\n",
        "  row = int(i/4)\n",
        "  col = i%4\n",
        "  sns.barplot(x=feature , y='count', data = df_bike , ax = axs[row][col])"
      ],
      "metadata": {
        "colab": {
          "base_uri": "https://localhost:8080/",
          "height": 678
        },
        "id": "_ctXsCKjILAk",
        "outputId": "9afee4af-9205-42b2-8473-b98f0fa7b4c8"
      },
      "execution_count": 7,
      "outputs": [
        {
          "output_type": "display_data",
          "data": {
            "text/plain": [
              "<Figure size 1600x800 with 8 Axes>"
            ],
            "image/png": "[encoded data removed]"
          },
          "metadata": {}
        }
      ]
    },
    {
      "cell_type": "markdown",
      "source": [
        " - season : 여름 / 가을에 대여가 많은 것을 알 수 있다. \n",
        " - holoyday , working day 에서 휴일 보다는 주중에 더 대여 수가 조금 늘어 남 을 알수 있다.\n",
        " - 날씨는  1 - 2 - 4  - 3 순으로 상식적로 생각 했던 것 처럼 날씨가 좋은 경우에 대여 수가 많다는 것은 알 수 있었다. 다만 날씨가 제일 안 좋았던 4번의 경우가 3번의 경우보다 대여가 많다는 것과 2번의 경우와 대비 해 봐도 차이가 크지 않다는 점은 눈여겨 볼만 하다."
      ],
      "metadata": {
        "id": "X4uEA4mrLnKZ"
      }
    },
    {
      "cell_type": "code",
      "source": [
        "# count 분포 시각화 (#2 - 날짜 )\n",
        "fig , axs  = plt.subplots(figsize=(20,8) , ncols= 4, nrows = 2)\n",
        "features = ['Year', 'Month', 'Day', 'Hour']\n",
        "\n",
        "for i , feature in enumerate(features):\n",
        "  row = 0\n",
        "  col = i%4\n",
        "  sns.barplot(x=feature , y='count', data = df_bike , ax = axs[row][col])"
      ],
      "metadata": {
        "colab": {
          "base_uri": "https://localhost:8080/",
          "height": 671
        },
        "id": "WoucG-4MM1_g",
        "outputId": "c4ff5b49-4f5a-4165-ea63-5711f4b46920"
      },
      "execution_count": 8,
      "outputs": [
        {
          "output_type": "display_data",
          "data": {
            "text/plain": [
              "<Figure size 2000x800 with 8 Axes>"
            ],
            "image/png": "[encoded data removed]"
          },
          "metadata": {}
        }
      ]
    },
    {
      "cell_type": "markdown",
      "source": [
        " - 2011 대비해서 2012 년 대여 수가 증가. \n",
        " - 계절에 따른 대여수의 차이에서 알수 있듯이 여름/가을에 해당하는 month 에 대여수가 늘어 난다. \n",
        " - Day 는 크게 무관한듯 하다.\n",
        " - Hour 는 생각 했던 것 처럼 07~20시에 많이 몰려 있으며 , 제일 대여가 많은 시간은 17시 , 제일 대여가 적은 시간은 04:00 이다. 주로 출/퇴근 시간의 대여수가 많음을 알 수 있다."
      ],
      "metadata": {
        "id": "10719WIBOeN2"
      }
    },
    {
      "cell_type": "markdown",
      "source": [
        "# 회귀 모델 적용"
      ],
      "metadata": {
        "id": "7Cd4w2HqS2OU"
      }
    },
    {
      "cell_type": "markdown",
      "source": [
        " - RMSE , RMSLE , MSE 평가 함수"
      ],
      "metadata": {
        "id": "E5mcD_EwS9Nh"
      }
    },
    {
      "cell_type": "code",
      "source": [
        "from sklearn.metrics import mean_squared_error , mean_absolute_error\n",
        "\n",
        "# log 값 변환시 NaN(언더플로 혹은 오버플로)이슈로 인하여 log 가 아닌 log1p() 를 이용해서 RMSLE 계산\n",
        "def rmsle(y,pred):\n",
        "  log_y = np.log1p(y)\n",
        "  log_pred = np.log1p(pred)\n",
        "  squared_error = (log_y-log_pred)**2\n",
        "  rmsle = np.sqrt(np.mean(squared_error))\n",
        "  return rmsle\n",
        "\n",
        "# mean_sqaure_erroe 계산\n",
        "def rmse(y,pred):\n",
        "  return np.sqrt(mean_squared_error(y,pred))\n",
        "\n",
        "# MAE,RMSE,RMLE 를 모두 계산 \n",
        "def evaluate_regar(y,pred):\n",
        "  rmsle_val = rmsle(y,pred)\n",
        "  rmse_val = rmse(y,pred)\n",
        "  # MAE \n",
        "  mae_val = mean_absolute_error(y,pred)\n",
        "  print(f'RMSLE : {rmsle_val:.3f} , RMSE : {rmse_val:.3f} , MAE : {mae_val: .3f}')\n"
      ],
      "metadata": {
        "id": "SGL2SfHISz-o"
      },
      "execution_count": 9,
      "outputs": []
    },
    {
      "cell_type": "markdown",
      "source": [
        "- 회귀 모델 적용 (전처리 전)"
      ],
      "metadata": {
        "id": "DrlBgUgxXXbz"
      }
    },
    {
      "cell_type": "code",
      "source": [
        "from sklearn.model_selection import train_test_split, GridSearchCV\n",
        "from sklearn.linear_model import LinearRegression , Ridge , Lasso\n",
        "\n",
        "# target , feature 분리 \n",
        "target = df_bike['count']\n",
        "feature = df_bike.drop(['count'],axis = 1)\n",
        "\n",
        "# 학습셋 , 테스트셋 분리 ( 7:3 )\n",
        "X_train , X_test , y_train , y_test = train_test_split ( feature , target , test_size= 0.3 , random_state=1114)\n",
        "\n",
        "# LinearRegression 모델 적용\n",
        "model_lr = LinearRegression()\n",
        "model_lr.fit(X_train , y_train)\n",
        "# 예측값\n",
        "pred_lr = model_lr.predict(X_test)\n",
        "\n",
        "# 검증값\n",
        "evaluate_regar(y_test , pred_lr)\n"
      ],
      "metadata": {
        "colab": {
          "base_uri": "https://localhost:8080/"
        },
        "id": "NBmCxr3zWtPP",
        "outputId": "e4b8f625-1af9-4e46-f489-b61c66ed0360"
      },
      "execution_count": 10,
      "outputs": [
        {
          "output_type": "stream",
          "name": "stdout",
          "text": [
            "RMSLE : 1.200 , RMSE : 142.176 , MAE :  106.735\n"
          ]
        }
      ]
    },
    {
      "cell_type": "code",
      "source": [
        "# 실제 값과 예측값이 어느 정도 차이가 나는지 비교.\n",
        "\n",
        "def top5_error_data(y_test,pred , n_top=5):\n",
        "  df_result = pd.DataFrame(y_test.values , columns = ['real'])\n",
        "  df_result['predict'] = np.round(pred)\n",
        "  df_result['diff'] = np.abs(df_result.real - df_result.predict)\n",
        "  # 예측값과 실제 값이 큰 데이터 순으로 출력\n",
        "  print(df_result.sort_values('diff',ascending = False)[:n_top])\n",
        "\n",
        "top5_error_data(y_test , pred_lr , n_top = 5)"
      ],
      "metadata": {
        "colab": {
          "base_uri": "https://localhost:8080/"
        },
        "id": "4pAlieDPaDe_",
        "outputId": "0d50e9bb-da40-4846-c327-1a59ca4bdf69"
      },
      "execution_count": 11,
      "outputs": [
        {
          "output_type": "stream",
          "name": "stdout",
          "text": [
            "      real  predict   diff\n",
            "66     834    185.0  649.0\n",
            "2277   839    200.0  639.0\n",
            "1598   809    196.0  613.0\n",
            "1889   948    359.0  589.0\n",
            "461    917    339.0  578.0\n"
          ]
        }
      ]
    },
    {
      "cell_type": "markdown",
      "source": [
        "- 회귀에서 이렇게 큰 예측 오류가 발생 하는 경우 가장 먼저 살펴 볼 것은 Target 의 분포를 살펴 보자. target 의 분포는 정규 분포가 좋다 .\n",
        "- log1p 를 적용한 경우 를 확인 해 보자 "
      ],
      "metadata": {
        "id": "Tosq2uS_btaP"
      }
    },
    {
      "cell_type": "code",
      "source": [
        "#  타깃 컬럼인 count 를 log1p로 로그 변환.\n",
        "target_log = np.log1p(target)\n",
        "\n",
        "# 로그 변환 반영하여 학습/테스트 데이터 셋 분리\n",
        "X_train , X_test , y_train , y_test = train_test_split ( feature , target_log , test_size= 0.3 , random_state=1114)\n",
        "\n",
        "# LinearRegression 모델 적용\n",
        "model_lr = LinearRegression()\n",
        "model_lr.fit(X_train , y_train)\n",
        "# 예측값\n",
        "pred_lr = model_lr.predict(X_test)\n",
        "\n",
        "# 테스트 데이터 세트의 target 값은 로그 변환 하였으므로 , 다시 expm1 을 이용해 원래 스케일로 변환 (테스트셋)\n",
        "y_test_exp = np.expm1(y_test)\n",
        "\n",
        "# 테스트 데이터 세트의 target 값은 로그 변환 하였으므로 , 다시 expm1 을 이용해 원래 스케일로 변환 (예측값)\n",
        "pred_exp = np.expm1(pred_lr)\n",
        "\n",
        "# 검증값\n",
        "evaluate_regar(y_test_exp , pred_exp)\n"
      ],
      "metadata": {
        "colab": {
          "base_uri": "https://localhost:8080/"
        },
        "id": "5q5uZwtHbsgH",
        "outputId": "a6313f82-6a77-4b66-d893-ecb7ff3f4240"
      },
      "execution_count": 12,
      "outputs": [
        {
          "output_type": "stream",
          "name": "stdout",
          "text": [
            "RMSLE : 1.013 , RMSE : 159.704 , MAE :  107.087\n"
          ]
        }
      ]
    },
    {
      "cell_type": "markdown",
      "source": [
        "- scaling을 하기 전과 크게 향상 된 느낌은 아니다.\n",
        "- 그래서 개별 피처들의 인코딩을 적용 해 보기로 하며 , 각 피처의 회귀 계수 값은 시각화 해서 살펴 보자 ."
      ],
      "metadata": {
        "id": "cLwpTVC0i4AE"
      }
    },
    {
      "cell_type": "code",
      "source": [
        "# 회귀 계수 시각화\n",
        "coef = pd.Series(model_lr.coef_ , index = feature.columns)\n",
        "sort_coef = coef.sort_values(ascending=False) \n",
        "sns.barplot(x=sort_coef.values , y = sort_coef.index)"
      ],
      "metadata": {
        "colab": {
          "base_uri": "https://localhost:8080/",
          "height": 448
        },
        "id": "FpNRydJ1jZIh",
        "outputId": "9858d5a1-91cb-4547-ff3d-9a41b4dc6b46"
      },
      "execution_count": 13,
      "outputs": [
        {
          "output_type": "execute_result",
          "data": {
            "text/plain": [
              "<Axes: >"
            ]
          },
          "metadata": {},
          "execution_count": 13
        },
        {
          "output_type": "display_data",
          "data": {
            "text/plain": [
              "<Figure size 640x480 with 1 Axes>"
            ],
            "image/png": "[encoded data removed]"
          },
          "metadata": {}
        }
      ]
    },
    {
      "cell_type": "markdown",
      "source": [
        " - year , hour , month 등의 회귀 계수가 상대 적으 높은 것으로 보이는데 명목형 변수 이기 때문라서 이런 영향력은 옳지 않은 것으로 보인다. \n",
        " - 이 변수들을 단순한 값이 아닌 , 원-핫 인코딩을 통해서 명목형으로 변환 해야 한다."
      ],
      "metadata": {
        "id": "Ii_FUKfTlQ9i"
      }
    },
    {
      "cell_type": "code",
      "source": [
        "# 명목형 변수들에 대한 원-핫 인코딩 \n",
        "# feature_cat = ['season', 'holiday', 'workingday', 'weather', 'Year', 'Month', 'Day', 'Hour']\n",
        "feature_ohe = pd.get_dummies(feature, columns = ['season', 'holiday', 'workingday', 'weather', 'Year', 'Month', 'Day', 'Hour'])\n",
        "feature_ohe.head(5)"
      ],
      "metadata": {
        "colab": {
          "base_uri": "https://localhost:8080/",
          "height": 235
        },
        "id": "HzJFyXt7lRH_",
        "outputId": "b7959770-da6b-4521-e0fc-d4595f6b4c9f"
      },
      "execution_count": 14,
      "outputs": [
        {
          "output_type": "execute_result",
          "data": {
            "text/plain": [
              "   temp   atemp  humidity  windspeed  season_1  season_2  season_3  season_4  \\\n",
              "0  9.84  14.395        81        0.0         1         0         0         0   \n",
              "1  9.02  13.635        80        0.0         1         0         0         0   \n",
              "2  9.02  13.635        80        0.0         1         0         0         0   \n",
              "3  9.84  14.395        75        0.0         1         0         0         0   \n",
              "4  9.84  14.395        75        0.0         1         0         0         0   \n",
              "\n",
              "   holiday_0  holiday_1  ...  Hour_14  Hour_15  Hour_16  Hour_17  Hour_18  \\\n",
              "0          1          0  ...        0        0        0        0        0   \n",
              "1          1          0  ...        0        0        0        0        0   \n",
              "2          1          0  ...        0        0        0        0        0   \n",
              "3          1          0  ...        0        0        0        0        0   \n",
              "4          1          0  ...        0        0        0        0        0   \n",
              "\n",
              "   Hour_19  Hour_20  Hour_21  Hour_22  Hour_23  \n",
              "0        0        0        0        0        0  \n",
              "1        0        0        0        0        0  \n",
              "2        0        0        0        0        0  \n",
              "3        0        0        0        0        0  \n",
              "4        0        0        0        0        0  \n",
              "\n",
              "[5 rows x 73 columns]"
            ],
            "text/html": [
              "\n",
              "  <div id=\"df-760d1dd1-5151-4ba1-a26a-cd4213f06db5\">\n",
              "    <div class=\"colab-df-container\">\n",
              "      <div>\n",
              "<style scoped>\n",
              "    .dataframe tbody tr th:only-of-type {\n",
              "        vertical-align: middle;\n",
              "    }\n",
              "\n",
              "    .dataframe tbody tr th {\n",
              "        vertical-align: top;\n",
              "    }\n",
              "\n",
              "    .dataframe thead th {\n",
              "        text-align: right;\n",
              "    }\n",
              "</style>\n",
              "<table border=\"1\" class=\"dataframe\">\n",
              "  <thead>\n",
              "    <tr style=\"text-align: right;\">\n",
              "      <th></th>\n",
              "      <th>temp</th>\n",
              "      <th>atemp</th>\n",
              "      <th>humidity</th>\n",
              "      <th>windspeed</th>\n",
              "      <th>season_1</th>\n",
              "      <th>season_2</th>\n",
              "      <th>season_3</th>\n",
              "      <th>season_4</th>\n",
              "      <th>holiday_0</th>\n",
              "      <th>holiday_1</th>\n",
              "      <th>...</th>\n",
              "      <th>Hour_14</th>\n",
              "      <th>Hour_15</th>\n",
              "      <th>Hour_16</th>\n",
              "      <th>Hour_17</th>\n",
              "      <th>Hour_18</th>\n",
              "      <th>Hour_19</th>\n",
              "      <th>Hour_20</th>\n",
              "      <th>Hour_21</th>\n",
              "      <th>Hour_22</th>\n",
              "      <th>Hour_23</th>\n",
              "    </tr>\n",
              "  </thead>\n",
              "  <tbody>\n",
              "    <tr>\n",
              "      <th>0</th>\n",
              "      <td>9.84</td>\n",
              "      <td>14.395</td>\n",
              "      <td>81</td>\n",
              "      <td>0.0</td>\n",
              "      <td>1</td>\n",
              "      <td>0</td>\n",
              "      <td>0</td>\n",
              "      <td>0</td>\n",
              "      <td>1</td>\n",
              "      <td>0</td>\n",
              "      <td>...</td>\n",
              "      <td>0</td>\n",
              "      <td>0</td>\n",
              "      <td>0</td>\n",
              "      <td>0</td>\n",
              "      <td>0</td>\n",
              "      <td>0</td>\n",
              "      <td>0</td>\n",
              "      <td>0</td>\n",
              "      <td>0</td>\n",
              "      <td>0</td>\n",
              "    </tr>\n",
              "    <tr>\n",
              "      <th>1</th>\n",
              "      <td>9.02</td>\n",
              "      <td>13.635</td>\n",
              "      <td>80</td>\n",
              "      <td>0.0</td>\n",
              "      <td>1</td>\n",
              "      <td>0</td>\n",
              "      <td>0</td>\n",
              "      <td>0</td>\n",
              "      <td>1</td>\n",
              "      <td>0</td>\n",
              "      <td>...</td>\n",
              "      <td>0</td>\n",
              "      <td>0</td>\n",
              "      <td>0</td>\n",
              "      <td>0</td>\n",
              "      <td>0</td>\n",
              "      <td>0</td>\n",
              "      <td>0</td>\n",
              "      <td>0</td>\n",
              "      <td>0</td>\n",
              "      <td>0</td>\n",
              "    </tr>\n",
              "    <tr>\n",
              "      <th>2</th>\n",
              "      <td>9.02</td>\n",
              "      <td>13.635</td>\n",
              "      <td>80</td>\n",
              "      <td>0.0</td>\n",
              "      <td>1</td>\n",
              "      <td>0</td>\n",
              "      <td>0</td>\n",
              "      <td>0</td>\n",
              "      <td>1</td>\n",
              "      <td>0</td>\n",
              "      <td>...</td>\n",
              "      <td>0</td>\n",
              "      <td>0</td>\n",
              "      <td>0</td>\n",
              "      <td>0</td>\n",
              "      <td>0</td>\n",
              "      <td>0</td>\n",
              "      <td>0</td>\n",
              "      <td>0</td>\n",
              "      <td>0</td>\n",
              "      <td>0</td>\n",
              "    </tr>\n",
              "    <tr>\n",
              "      <th>3</th>\n",
              "      <td>9.84</td>\n",
              "      <td>14.395</td>\n",
              "      <td>75</td>\n",
              "      <td>0.0</td>\n",
              "      <td>1</td>\n",
              "      <td>0</td>\n",
              "      <td>0</td>\n",
              "      <td>0</td>\n",
              "      <td>1</td>\n",
              "      <td>0</td>\n",
              "      <td>...</td>\n",
              "      <td>0</td>\n",
              "      <td>0</td>\n",
              "      <td>0</td>\n",
              "      <td>0</td>\n",
              "      <td>0</td>\n",
              "      <td>0</td>\n",
              "      <td>0</td>\n",
              "      <td>0</td>\n",
              "      <td>0</td>\n",
              "      <td>0</td>\n",
              "    </tr>\n",
              "    <tr>\n",
              "      <th>4</th>\n",
              "      <td>9.84</td>\n",
              "      <td>14.395</td>\n",
              "      <td>75</td>\n",
              "      <td>0.0</td>\n",
              "      <td>1</td>\n",
              "      <td>0</td>\n",
              "      <td>0</td>\n",
              "      <td>0</td>\n",
              "      <td>1</td>\n",
              "      <td>0</td>\n",
              "      <td>...</td>\n",
              "      <td>0</td>\n",
              "      <td>0</td>\n",
              "      <td>0</td>\n",
              "      <td>0</td>\n",
              "      <td>0</td>\n",
              "      <td>0</td>\n",
              "      <td>0</td>\n",
              "      <td>0</td>\n",
              "      <td>0</td>\n",
              "      <td>0</td>\n",
              "    </tr>\n",
              "  </tbody>\n",
              "</table>\n",
              "<p>5 rows × 73 columns</p>\n",
              "</div>\n",
              "      <button class=\"colab-df-convert\" onclick=\"convertToInteractive('df-760d1dd1-5151-4ba1-a26a-cd4213f06db5')\"\n",
              "              title=\"Convert this dataframe to an interactive table.\"\n",
              "              style=\"display:none;\">\n",
              "        \n",
              "  <svg xmlns=\"http://www.w3.org/2000/svg\" height=\"24px\"viewBox=\"0 0 24 24\"\n",
              "       width=\"24px\">\n",
              "    <path d=\"M0 0h24v24H0V0z\" fill=\"none\"/>\n",
              "    <path d=\"M18.56 5.44l.94 2.06.94-2.06 2.06-.94-2.06-.94-.94-2.06-.94 2.06-2.06.94zm-11 1L8.5 8.5l.94-2.06 2.06-.94-2.06-.94L8.5 2.5l-.94 2.06-2.06.94zm10 10l.94 2.06.94-2.06 2.06-.94-2.06-.94-.94-2.06-.94 2.06-2.06.94z\"/><path d=\"M17.41 7.96l-1.37-1.37c-.4-.4-.92-.59-1.43-.59-.52 0-1.04.2-1.43.59L10.3 9.45l-7.72 7.72c-.78.78-.78 2.05 0 2.83L4 21.41c.39.39.9.59 1.41.59.51 0 1.02-.2 1.41-.59l7.78-7.78 2.81-2.81c.8-.78.8-2.07 0-2.86zM5.41 20L4 18.59l7.72-7.72 1.47 1.35L5.41 20z\"/>\n",
              "  </svg>\n",
              "      </button>\n",
              "      \n",
              "  <style>\n",
              "    .colab-df-container {\n",
              "      display:flex;\n",
              "      flex-wrap:wrap;\n",
              "      gap: 12px;\n",
              "    }\n",
              "\n",
              "    .colab-df-convert {\n",
              "      background-color: #E8F0FE;\n",
              "      border: none;\n",
              "      border-radius: 50%;\n",
              "      cursor: pointer;\n",
              "      display: none;\n",
              "      fill: #1967D2;\n",
              "      height: 32px;\n",
              "      padding: 0 0 0 0;\n",
              "      width: 32px;\n",
              "    }\n",
              "\n",
              "    .colab-df-convert:hover {\n",
              "      background-color: #E2EBFA;\n",
              "      box-shadow: 0px 1px 2px rgba(60, 64, 67, 0.3), 0px 1px 3px 1px rgba(60, 64, 67, 0.15);\n",
              "      fill: #174EA6;\n",
              "    }\n",
              "\n",
              "    [theme=dark] .colab-df-convert {\n",
              "      background-color: #3B4455;\n",
              "      fill: #D2E3FC;\n",
              "    }\n",
              "\n",
              "    [theme=dark] .colab-df-convert:hover {\n",
              "      background-color: #434B5C;\n",
              "      box-shadow: 0px 1px 3px 1px rgba(0, 0, 0, 0.15);\n",
              "      filter: drop-shadow(0px 1px 2px rgba(0, 0, 0, 0.3));\n",
              "      fill: #FFFFFF;\n",
              "    }\n",
              "  </style>\n",
              "\n",
              "      <script>\n",
              "        const buttonEl =\n",
              "          document.querySelector('#df-760d1dd1-5151-4ba1-a26a-cd4213f06db5 button.colab-df-convert');\n",
              "        buttonEl.style.display =\n",
              "          google.colab.kernel.accessAllowed ? 'block' : 'none';\n",
              "\n",
              "        async function convertToInteractive(key) {\n",
              "          const element = document.querySelector('#df-760d1dd1-5151-4ba1-a26a-cd4213f06db5');\n",
              "          const dataTable =\n",
              "            await google.colab.kernel.invokeFunction('convertToInteractive',\n",
              "                                                     [key], {});\n",
              "          if (!dataTable) return;\n",
              "\n",
              "          const docLinkHtml = 'Like what you see? Visit the ' +\n",
              "            '<a target=\"_blank\" href=https://colab.research.google.com/notebooks/data_table.ipynb>data table notebook</a>'\n",
              "            + ' to learn more about interactive tables.';\n",
              "          element.innerHTML = '';\n",
              "          dataTable['output_type'] = 'display_data';\n",
              "          await google.colab.output.renderOutput(dataTable, element);\n",
              "          const docLink = document.createElement('div');\n",
              "          docLink.innerHTML = docLinkHtml;\n",
              "          element.appendChild(docLink);\n",
              "        }\n",
              "      </script>\n",
              "    </div>\n",
              "  </div>\n",
              "  "
            ]
          },
          "metadata": {},
          "execution_count": 14
        }
      ]
    },
    {
      "cell_type": "code",
      "source": [
        "feature_ohe.columns"
      ],
      "metadata": {
        "colab": {
          "base_uri": "https://localhost:8080/"
        },
        "id": "0MRwnYv0wUEg",
        "outputId": "2cde05c2-5bb0-4830-9241-0150ceb7a6d8"
      },
      "execution_count": 15,
      "outputs": [
        {
          "output_type": "execute_result",
          "data": {
            "text/plain": [
              "Index(['temp', 'atemp', 'humidity', 'windspeed', 'season_1', 'season_2',\n",
              "       'season_3', 'season_4', 'holiday_0', 'holiday_1', 'workingday_0',\n",
              "       'workingday_1', 'weather_1', 'weather_2', 'weather_3', 'weather_4',\n",
              "       'Year_2011', 'Year_2012', 'Month_1', 'Month_2', 'Month_3', 'Month_4',\n",
              "       'Month_5', 'Month_6', 'Month_7', 'Month_8', 'Month_9', 'Month_10',\n",
              "       'Month_11', 'Month_12', 'Day_1', 'Day_2', 'Day_3', 'Day_4', 'Day_5',\n",
              "       'Day_6', 'Day_7', 'Day_8', 'Day_9', 'Day_10', 'Day_11', 'Day_12',\n",
              "       'Day_13', 'Day_14', 'Day_15', 'Day_16', 'Day_17', 'Day_18', 'Day_19',\n",
              "       'Hour_0', 'Hour_1', 'Hour_2', 'Hour_3', 'Hour_4', 'Hour_5', 'Hour_6',\n",
              "       'Hour_7', 'Hour_8', 'Hour_9', 'Hour_10', 'Hour_11', 'Hour_12',\n",
              "       'Hour_13', 'Hour_14', 'Hour_15', 'Hour_16', 'Hour_17', 'Hour_18',\n",
              "       'Hour_19', 'Hour_20', 'Hour_21', 'Hour_22', 'Hour_23'],\n",
              "      dtype='object')"
            ]
          },
          "metadata": {},
          "execution_count": 15
        }
      ]
    },
    {
      "cell_type": "markdown",
      "source": [
        "## 회귀 모델 적용 (Linear , Lasso , Ridge , ElasticNET )\n",
        " - 명목형 : 원핫 인코딩 ( feature_ohe )\n",
        " - 타겟 : log1P ( target_log )"
      ],
      "metadata": {
        "id": "uM3ud0tWwmpS"
      }
    },
    {
      "cell_type": "code",
      "source": [
        "# 인코딩 적용된 피처 데이터 세트 기반으로 학습 / 예측 데이터 분할\n",
        "X_train , X_test , y_train , y_test = train_test_split ( feature_ohe , target_log , test_size= 0.3 , random_state=1114)\n",
        "\n",
        "# 모델과 학습 데이터 세트를 입력 하면 성능 평가 수치를 반환 \n",
        "def get_model_predict(model , X_train , X_test , y_train , y_test , is_expm1= False):\n",
        "  model.fit(X_train , y_train)\n",
        "  pred = model.predict(X_test)\n",
        "  if is_expm1:\n",
        "    y_test_expm = np.expm1(y_test)\n",
        "    pred_expm = np.expm1(pred)\n",
        "  print(f'### {model.__class__.__name__} ###')\n",
        "  evaluate_regar(y_test_expm , pred_expm)\n",
        "\n",
        "from sklearn.linear_model import LinearRegression , Lasso , Ridge , ElasticNet\n",
        "\n",
        "# 모델 별로 평가 수행\n",
        "model_lr = LinearRegression()\n",
        "model_lasso = Lasso(alpha = 0.01)\n",
        "model_ridge = Ridge(alpha = 10)\n",
        "model_en = ElasticNet(alpha = 0.01 , l1_ratio = 0.3 )\n",
        "\n",
        "for model in [model_lr , model_lasso , model_ridge , model_en]:\n",
        "  get_model_predict(model, X_train ,X_test , y_train , y_test , is_expm1=True)\n",
        "\n"
      ],
      "metadata": {
        "colab": {
          "base_uri": "https://localhost:8080/"
        },
        "id": "iDrQgBzWwjQb",
        "outputId": "6b71d068-0033-49ee-8811-1c92c3aca2da"
      },
      "execution_count": 16,
      "outputs": [
        {
          "output_type": "stream",
          "name": "stdout",
          "text": [
            "### LinearRegression ###\n",
            "RMSLE : 0.581 , RMSE : 94.708 , MAE :  61.493\n",
            "### Lasso ###\n",
            "RMSLE : 0.632 , RMSE : 111.847 , MAE :  71.715\n",
            "### Ridge ###\n",
            "RMSLE : 0.582 , RMSE : 95.928 , MAE :  62.182\n",
            "### ElasticNet ###\n",
            "RMSLE : 0.632 , RMSE : 107.742 , MAE :  68.570\n"
          ]
        }
      ]
    },
    {
      "cell_type": "markdown",
      "source": [
        " - 인코딩을 적용후에 예측 성능이 많이 향상 됨."
      ],
      "metadata": {
        "id": "-7h-RCb_0YDv"
      }
    },
    {
      "cell_type": "code",
      "source": [
        "# 회귀 계수 시각화\n",
        "coef = pd.Series(model_ridge.coef_ , index = feature_ohe.columns)\n",
        "sort_coef = coef.sort_values(ascending=False)[:25]\n",
        "sns.barplot(x=sort_coef.values , y = sort_coef.index)"
      ],
      "metadata": {
        "colab": {
          "base_uri": "https://localhost:8080/",
          "height": 448
        },
        "id": "L_RmAc4e0hCX",
        "outputId": "a0bbb64c-9c26-411b-e0e6-47d09ffe128a"
      },
      "execution_count": 17,
      "outputs": [
        {
          "output_type": "execute_result",
          "data": {
            "text/plain": [
              "<Axes: >"
            ]
          },
          "metadata": {},
          "execution_count": 17
        },
        {
          "output_type": "display_data",
          "data": {
            "text/plain": [
              "<Figure size 640x480 with 1 Axes>"
            ],
            "image/png": "[encoded data removed]"
          },
          "metadata": {}
        }
      ]
    },
    {
      "cell_type": "markdown",
      "source": [
        " - Year 의 영향력이 여전히 있지만 , 계절이나 , 날씨 등의 변수 들이 인코딩 전보다 회귀식에 영향력을 미치고 있다. "
      ],
      "metadata": {
        "id": "zWm3LPHk1s4b"
      }
    },
    {
      "cell_type": "markdown",
      "source": [
        "# 트리 계열 회귀"
      ],
      "metadata": {
        "id": "pmR0bLFf2iQj"
      }
    },
    {
      "cell_type": "code",
      "source": [
        "from sklearn.ensemble import RandomForestRegressor,GradientBoostingRegressor\n",
        "from xgboost import XGBRegressor\n",
        "from lightgbm import LGBMRegressor\n",
        "\n",
        "# 모델 별로 평가 수행\n",
        "model_rf = RandomForestRegressor(n_estimators = 500)\n",
        "model_gbm = GradientBoostingRegressor(n_estimators = 500)\n",
        "model_xgb = XGBRegressor(n_estimators = 500)\n",
        "model_lgbm = LGBMRegressor(n_estimators = 500)\n",
        "\n",
        "# 앞서 선형회귀에서 생성했던 get_model_predcit 를 사용\n",
        "for model in [model_rf , model_gbm , model_xgb , model_lgbm]:\n",
        "  get_model_predict(model, X_train ,X_test , y_train , y_test , is_expm1=True)"
      ],
      "metadata": {
        "colab": {
          "base_uri": "https://localhost:8080/"
        },
        "id": "XV_MOE-S0g9b",
        "outputId": "db086518-c4bb-490c-f6c4-398c72182df3"
      },
      "execution_count": 18,
      "outputs": [
        {
          "output_type": "stream",
          "name": "stdout",
          "text": [
            "### RandomForestRegressor ###\n",
            "RMSLE : 0.345 , RMSE : 48.426 , MAE :  29.886\n",
            "### GradientBoostingRegressor ###\n",
            "RMSLE : 0.328 , RMSE : 52.096 , MAE :  32.359\n",
            "### XGBRegressor ###\n",
            "RMSLE : 0.334 , RMSE : 52.650 , MAE :  30.248\n",
            "### LGBMRegressor ###\n",
            "RMSLE : 0.304 , RMSE : 45.621 , MAE :  27.447\n"
          ]
        }
      ]
    },
    {
      "cell_type": "code",
      "source": [
        "# feature 중요도 시각화 ( LGBM )\n",
        "# 트리 계열은호귀 계수가 아닌 , feature_importance_ 를 사용.\n",
        "coef = pd.Series(model_lgbm.feature_importances_ , index = feature_ohe.columns)\n",
        "sort_coef = coef.sort_values(ascending=False)[:25]\n",
        "sns.barplot(x=sort_coef.values , y = sort_coef.index)"
      ],
      "metadata": {
        "colab": {
          "base_uri": "https://localhost:8080/",
          "height": 448
        },
        "id": "Ag7I7b854MTq",
        "outputId": "d2be98e3-b363-4ab0-b19d-e51676fd63a2"
      },
      "execution_count": 19,
      "outputs": [
        {
          "output_type": "execute_result",
          "data": {
            "text/plain": [
              "<Axes: >"
            ]
          },
          "metadata": {},
          "execution_count": 19
        },
        {
          "output_type": "display_data",
          "data": {
            "text/plain": [
              "<Figure size 640x480 with 1 Axes>"
            ],
            "image/png": "[encoded data removed]"
          },
          "metadata": {}
        }
      ]
    },
    {
      "cell_type": "markdown",
      "source": [
        "- 데이터셋의 영향이라고 하는데 , 조금 더 학습이 필요한 내용일 것 같다. (선형 이 비해서 트리계열의 정확도가 조금더 좋게 나온 결과에 대해서 )\n",
        "- LGBM 이 제일 평가 점수가 잘 나왔고 , 이를 토대로 하이퍼 파라미터 최적화 와 교차 검증을 진행 한다."
      ],
      "metadata": {
        "id": "J77eB7MJ5C4V"
      }
    },
    {
      "cell_type": "markdown",
      "source": [
        "# LGBM 하이퍼파라미터 최적화 ,"
      ],
      "metadata": {
        "id": "XfxKtMFa4-X0"
      }
    },
    {
      "cell_type": "code",
      "source": [
        "from sklearn.model_selection import GridSearchCV\n",
        "\n",
        "model_lgbm = LGBMRegressor()\n",
        "\n",
        "# 파라미터 설정\n",
        "params = {'n_estimators':[100 ,300] , 'learning_rate':[0.1, 0.01, 0.05],'max_depth':[5,7],'boosting_type':['gbdt'] , 'objective':['regression']}\n",
        "\n",
        "# grid 적용\n",
        "grid = GridSearchCV(model,param_grid=params , cv=3 , refit=True )\n",
        "grid.fit(X_train,y_train)\n",
        "\n",
        "# GridCV 결과를 추출해서 df 로 변환\n",
        "score_df = pd.DataFrame(grid.cv_results_)\n",
        "score_df[['params','mean_test_score','rank_test_score','split0_test_score','split1_test_score']]\n",
        "score_df\n",
        "# grid.best_estimator_\n",
        "# early_stopping_rounds=50\n"
      ],
      "metadata": {
        "colab": {
          "base_uri": "https://localhost:8080/",
          "height": 1000
        },
        "id": "N_0aalOg5nyc",
        "outputId": "207e0aef-7980-46b8-c6f0-bf408a1f98d2"
      },
      "execution_count": 20,
      "outputs": [
        {
          "output_type": "execute_result",
          "data": {
            "text/plain": [
              "    mean_fit_time  std_fit_time  mean_score_time  std_score_time  \\\n",
              "0        0.088285      0.009573         0.011617        0.000182   \n",
              "1        0.250649      0.082502         0.032853        0.005420   \n",
              "2        0.113712      0.013624         0.013943        0.000186   \n",
              "3        0.258282      0.009886         0.038322        0.001670   \n",
              "4        0.092187      0.013624         0.011067        0.000192   \n",
              "5        0.210818      0.007229         0.026036        0.000338   \n",
              "6        0.521792      0.210582         0.026600        0.005281   \n",
              "7        0.818701      0.787164         0.032001        0.000396   \n",
              "8        0.093109      0.007163         0.011702        0.000156   \n",
              "9        0.200526      0.002979         0.028473        0.001620   \n",
              "10       0.110745      0.007678         0.014630        0.001202   \n",
              "11       0.267185      0.014792         0.036868        0.000545   \n",
              "\n",
              "   param_boosting_type param_learning_rate param_max_depth param_n_estimators  \\\n",
              "0                 gbdt                 0.1               5                100   \n",
              "1                 gbdt                 0.1               5                300   \n",
              "2                 gbdt                 0.1               7                100   \n",
              "3                 gbdt                 0.1               7                300   \n",
              "4                 gbdt                0.01               5                100   \n",
              "5                 gbdt                0.01               5                300   \n",
              "6                 gbdt                0.01               7                100   \n",
              "7                 gbdt                0.01               7                300   \n",
              "8                 gbdt                0.05               5                100   \n",
              "9                 gbdt                0.05               5                300   \n",
              "10                gbdt                0.05               7                100   \n",
              "11                gbdt                0.05               7                300   \n",
              "\n",
              "   param_objective                                             params  \\\n",
              "0       regression  {'boosting_type': 'gbdt', 'learning_rate': 0.1...   \n",
              "1       regression  {'boosting_type': 'gbdt', 'learning_rate': 0.1...   \n",
              "2       regression  {'boosting_type': 'gbdt', 'learning_rate': 0.1...   \n",
              "3       regression  {'boosting_type': 'gbdt', 'learning_rate': 0.1...   \n",
              "4       regression  {'boosting_type': 'gbdt', 'learning_rate': 0.0...   \n",
              "5       regression  {'boosting_type': 'gbdt', 'learning_rate': 0.0...   \n",
              "6       regression  {'boosting_type': 'gbdt', 'learning_rate': 0.0...   \n",
              "7       regression  {'boosting_type': 'gbdt', 'learning_rate': 0.0...   \n",
              "8       regression  {'boosting_type': 'gbdt', 'learning_rate': 0.0...   \n",
              "9       regression  {'boosting_type': 'gbdt', 'learning_rate': 0.0...   \n",
              "10      regression  {'boosting_type': 'gbdt', 'learning_rate': 0.0...   \n",
              "11      regression  {'boosting_type': 'gbdt', 'learning_rate': 0.0...   \n",
              "\n",
              "    split0_test_score  split1_test_score  split2_test_score  mean_test_score  \\\n",
              "0            0.920984           0.909900           0.920007         0.916964   \n",
              "1            0.943586           0.936073           0.943515         0.941058   \n",
              "2            0.937512           0.927603           0.936674         0.933930   \n",
              "3            0.944581           0.939936           0.946174         0.943564   \n",
              "4            0.576601           0.542765           0.558293         0.559220   \n",
              "5            0.823399           0.801702           0.809458         0.811520   \n",
              "6            0.662495           0.634529           0.645664         0.647563   \n",
              "7            0.867670           0.847083           0.857244         0.857332   \n",
              "8            0.882308           0.866810           0.878093         0.875737   \n",
              "9            0.935389           0.925097           0.929756         0.930081   \n",
              "10           0.906992           0.892917           0.901732         0.900547   \n",
              "11           0.942723           0.934396           0.942590         0.939903   \n",
              "\n",
              "    std_test_score  rank_test_score  \n",
              "0         0.005010                6  \n",
              "1         0.003525                2  \n",
              "2         0.004487                4  \n",
              "3         0.002646                1  \n",
              "4         0.013829               12  \n",
              "5         0.008977               10  \n",
              "6         0.011496               11  \n",
              "7         0.008405                9  \n",
              "8         0.006543                8  \n",
              "9         0.004208                5  \n",
              "10        0.005807                7  \n",
              "11        0.003894                3  "
            ],
            "text/html": [
              "\n",
              "  <div id=\"df-16b582df-6a53-4957-990d-bd2e4351b313\">\n",
              "    <div class=\"colab-df-container\">\n",
              "      <div>\n",
              "<style scoped>\n",
              "    .dataframe tbody tr th:only-of-type {\n",
              "        vertical-align: middle;\n",
              "    }\n",
              "\n",
              "    .dataframe tbody tr th {\n",
              "        vertical-align: top;\n",
              "    }\n",
              "\n",
              "    .dataframe thead th {\n",
              "        text-align: right;\n",
              "    }\n",
              "</style>\n",
              "<table border=\"1\" class=\"dataframe\">\n",
              "  <thead>\n",
              "    <tr style=\"text-align: right;\">\n",
              "      <th></th>\n",
              "      <th>mean_fit_time</th>\n",
              "      <th>std_fit_time</th>\n",
              "      <th>mean_score_time</th>\n",
              "      <th>std_score_time</th>\n",
              "      <th>param_boosting_type</th>\n",
              "      <th>param_learning_rate</th>\n",
              "      <th>param_max_depth</th>\n",
              "      <th>param_n_estimators</th>\n",
              "      <th>param_objective</th>\n",
              "      <th>params</th>\n",
              "      <th>split0_test_score</th>\n",
              "      <th>split1_test_score</th>\n",
              "      <th>split2_test_score</th>\n",
              "      <th>mean_test_score</th>\n",
              "      <th>std_test_score</th>\n",
              "      <th>rank_test_score</th>\n",
              "    </tr>\n",
              "  </thead>\n",
              "  <tbody>\n",
              "    <tr>\n",
              "      <th>0</th>\n",
              "      <td>0.088285</td>\n",
              "      <td>0.009573</td>\n",
              "      <td>0.011617</td>\n",
              "      <td>0.000182</td>\n",
              "      <td>gbdt</td>\n",
              "      <td>0.1</td>\n",
              "      <td>5</td>\n",
              "      <td>100</td>\n",
              "      <td>regression</td>\n",
              "      <td>{'boosting_type': 'gbdt', 'learning_rate': 0.1...</td>\n",
              "      <td>0.920984</td>\n",
              "      <td>0.909900</td>\n",
              "      <td>0.920007</td>\n",
              "      <td>0.916964</td>\n",
              "      <td>0.005010</td>\n",
              "      <td>6</td>\n",
              "    </tr>\n",
              "    <tr>\n",
              "      <th>1</th>\n",
              "      <td>0.250649</td>\n",
              "      <td>0.082502</td>\n",
              "      <td>0.032853</td>\n",
              "      <td>0.005420</td>\n",
              "      <td>gbdt</td>\n",
              "      <td>0.1</td>\n",
              "      <td>5</td>\n",
              "      <td>300</td>\n",
              "      <td>regression</td>\n",
              "      <td>{'boosting_type': 'gbdt', 'learning_rate': 0.1...</td>\n",
              "      <td>0.943586</td>\n",
              "      <td>0.936073</td>\n",
              "      <td>0.943515</td>\n",
              "      <td>0.941058</td>\n",
              "      <td>0.003525</td>\n",
              "      <td>2</td>\n",
              "    </tr>\n",
              "    <tr>\n",
              "      <th>2</th>\n",
              "      <td>0.113712</td>\n",
              "      <td>0.013624</td>\n",
              "      <td>0.013943</td>\n",
              "      <td>0.000186</td>\n",
              "      <td>gbdt</td>\n",
              "      <td>0.1</td>\n",
              "      <td>7</td>\n",
              "      <td>100</td>\n",
              "      <td>regression</td>\n",
              "      <td>{'boosting_type': 'gbdt', 'learning_rate': 0.1...</td>\n",
              "      <td>0.937512</td>\n",
              "      <td>0.927603</td>\n",
              "      <td>0.936674</td>\n",
              "      <td>0.933930</td>\n",
              "      <td>0.004487</td>\n",
              "      <td>4</td>\n",
              "    </tr>\n",
              "    <tr>\n",
              "      <th>3</th>\n",
              "      <td>0.258282</td>\n",
              "      <td>0.009886</td>\n",
              "      <td>0.038322</td>\n",
              "      <td>0.001670</td>\n",
              "      <td>gbdt</td>\n",
              "      <td>0.1</td>\n",
              "      <td>7</td>\n",
              "      <td>300</td>\n",
              "      <td>regression</td>\n",
              "      <td>{'boosting_type': 'gbdt', 'learning_rate': 0.1...</td>\n",
              "      <td>0.944581</td>\n",
              "      <td>0.939936</td>\n",
              "      <td>0.946174</td>\n",
              "      <td>0.943564</td>\n",
              "      <td>0.002646</td>\n",
              "      <td>1</td>\n",
              "    </tr>\n",
              "    <tr>\n",
              "      <th>4</th>\n",
              "      <td>0.092187</td>\n",
              "      <td>0.013624</td>\n",
              "      <td>0.011067</td>\n",
              "      <td>0.000192</td>\n",
              "      <td>gbdt</td>\n",
              "      <td>0.01</td>\n",
              "      <td>5</td>\n",
              "      <td>100</td>\n",
              "      <td>regression</td>\n",
              "      <td>{'boosting_type': 'gbdt', 'learning_rate': 0.0...</td>\n",
              "      <td>0.576601</td>\n",
              "      <td>0.542765</td>\n",
              "      <td>0.558293</td>\n",
              "      <td>0.559220</td>\n",
              "      <td>0.013829</td>\n",
              "      <td>12</td>\n",
              "    </tr>\n",
              "    <tr>\n",
              "      <th>5</th>\n",
              "      <td>0.210818</td>\n",
              "      <td>0.007229</td>\n",
              "      <td>0.026036</td>\n",
              "      <td>0.000338</td>\n",
              "      <td>gbdt</td>\n",
              "      <td>0.01</td>\n",
              "      <td>5</td>\n",
              "      <td>300</td>\n",
              "      <td>regression</td>\n",
              "      <td>{'boosting_type': 'gbdt', 'learning_rate': 0.0...</td>\n",
              "      <td>0.823399</td>\n",
              "      <td>0.801702</td>\n",
              "      <td>0.809458</td>\n",
              "      <td>0.811520</td>\n",
              "      <td>0.008977</td>\n",
              "      <td>10</td>\n",
              "    </tr>\n",
              "    <tr>\n",
              "      <th>6</th>\n",
              "      <td>0.521792</td>\n",
              "      <td>0.210582</td>\n",
              "      <td>0.026600</td>\n",
              "      <td>0.005281</td>\n",
              "      <td>gbdt</td>\n",
              "      <td>0.01</td>\n",
              "      <td>7</td>\n",
              "      <td>100</td>\n",
              "      <td>regression</td>\n",
              "      <td>{'boosting_type': 'gbdt', 'learning_rate': 0.0...</td>\n",
              "      <td>0.662495</td>\n",
              "      <td>0.634529</td>\n",
              "      <td>0.645664</td>\n",
              "      <td>0.647563</td>\n",
              "      <td>0.011496</td>\n",
              "      <td>11</td>\n",
              "    </tr>\n",
              "    <tr>\n",
              "      <th>7</th>\n",
              "      <td>0.818701</td>\n",
              "      <td>0.787164</td>\n",
              "      <td>0.032001</td>\n",
              "      <td>0.000396</td>\n",
              "      <td>gbdt</td>\n",
              "      <td>0.01</td>\n",
              "      <td>7</td>\n",
              "      <td>300</td>\n",
              "      <td>regression</td>\n",
              "      <td>{'boosting_type': 'gbdt', 'learning_rate': 0.0...</td>\n",
              "      <td>0.867670</td>\n",
              "      <td>0.847083</td>\n",
              "      <td>0.857244</td>\n",
              "      <td>0.857332</td>\n",
              "      <td>0.008405</td>\n",
              "      <td>9</td>\n",
              "    </tr>\n",
              "    <tr>\n",
              "      <th>8</th>\n",
              "      <td>0.093109</td>\n",
              "      <td>0.007163</td>\n",
              "      <td>0.011702</td>\n",
              "      <td>0.000156</td>\n",
              "      <td>gbdt</td>\n",
              "      <td>0.05</td>\n",
              "      <td>5</td>\n",
              "      <td>100</td>\n",
              "      <td>regression</td>\n",
              "      <td>{'boosting_type': 'gbdt', 'learning_rate': 0.0...</td>\n",
              "      <td>0.882308</td>\n",
              "      <td>0.866810</td>\n",
              "      <td>0.878093</td>\n",
              "      <td>0.875737</td>\n",
              "      <td>0.006543</td>\n",
              "      <td>8</td>\n",
              "    </tr>\n",
              "    <tr>\n",
              "      <th>9</th>\n",
              "      <td>0.200526</td>\n",
              "      <td>0.002979</td>\n",
              "      <td>0.028473</td>\n",
              "      <td>0.001620</td>\n",
              "      <td>gbdt</td>\n",
              "      <td>0.05</td>\n",
              "      <td>5</td>\n",
              "      <td>300</td>\n",
              "      <td>regression</td>\n",
              "      <td>{'boosting_type': 'gbdt', 'learning_rate': 0.0...</td>\n",
              "      <td>0.935389</td>\n",
              "      <td>0.925097</td>\n",
              "      <td>0.929756</td>\n",
              "      <td>0.930081</td>\n",
              "      <td>0.004208</td>\n",
              "      <td>5</td>\n",
              "    </tr>\n",
              "    <tr>\n",
              "      <th>10</th>\n",
              "      <td>0.110745</td>\n",
              "      <td>0.007678</td>\n",
              "      <td>0.014630</td>\n",
              "      <td>0.001202</td>\n",
              "      <td>gbdt</td>\n",
              "      <td>0.05</td>\n",
              "      <td>7</td>\n",
              "      <td>100</td>\n",
              "      <td>regression</td>\n",
              "      <td>{'boosting_type': 'gbdt', 'learning_rate': 0.0...</td>\n",
              "      <td>0.906992</td>\n",
              "      <td>0.892917</td>\n",
              "      <td>0.901732</td>\n",
              "      <td>0.900547</td>\n",
              "      <td>0.005807</td>\n",
              "      <td>7</td>\n",
              "    </tr>\n",
              "    <tr>\n",
              "      <th>11</th>\n",
              "      <td>0.267185</td>\n",
              "      <td>0.014792</td>\n",
              "      <td>0.036868</td>\n",
              "      <td>0.000545</td>\n",
              "      <td>gbdt</td>\n",
              "      <td>0.05</td>\n",
              "      <td>7</td>\n",
              "      <td>300</td>\n",
              "      <td>regression</td>\n",
              "      <td>{'boosting_type': 'gbdt', 'learning_rate': 0.0...</td>\n",
              "      <td>0.942723</td>\n",
              "      <td>0.934396</td>\n",
              "      <td>0.942590</td>\n",
              "      <td>0.939903</td>\n",
              "      <td>0.003894</td>\n",
              "      <td>3</td>\n",
              "    </tr>\n",
              "  </tbody>\n",
              "</table>\n",
              "</div>\n",
              "      <button class=\"colab-df-convert\" onclick=\"convertToInteractive('df-16b582df-6a53-4957-990d-bd2e4351b313')\"\n",
              "              title=\"Convert this dataframe to an interactive table.\"\n",
              "              style=\"display:none;\">\n",
              "        \n",
              "  <svg xmlns=\"http://www.w3.org/2000/svg\" height=\"24px\"viewBox=\"0 0 24 24\"\n",
              "       width=\"24px\">\n",
              "    <path d=\"M0 0h24v24H0V0z\" fill=\"none\"/>\n",
              "    <path d=\"M18.56 5.44l.94 2.06.94-2.06 2.06-.94-2.06-.94-.94-2.06-.94 2.06-2.06.94zm-11 1L8.5 8.5l.94-2.06 2.06-.94-2.06-.94L8.5 2.5l-.94 2.06-2.06.94zm10 10l.94 2.06.94-2.06 2.06-.94-2.06-.94-.94-2.06-.94 2.06-2.06.94z\"/><path d=\"M17.41 7.96l-1.37-1.37c-.4-.4-.92-.59-1.43-.59-.52 0-1.04.2-1.43.59L10.3 9.45l-7.72 7.72c-.78.78-.78 2.05 0 2.83L4 21.41c.39.39.9.59 1.41.59.51 0 1.02-.2 1.41-.59l7.78-7.78 2.81-2.81c.8-.78.8-2.07 0-2.86zM5.41 20L4 18.59l7.72-7.72 1.47 1.35L5.41 20z\"/>\n",
              "  </svg>\n",
              "      </button>\n",
              "      \n",
              "  <style>\n",
              "    .colab-df-container {\n",
              "      display:flex;\n",
              "      flex-wrap:wrap;\n",
              "      gap: 12px;\n",
              "    }\n",
              "\n",
              "    .colab-df-convert {\n",
              "      background-color: #E8F0FE;\n",
              "      border: none;\n",
              "      border-radius: 50%;\n",
              "      cursor: pointer;\n",
              "      display: none;\n",
              "      fill: #1967D2;\n",
              "      height: 32px;\n",
              "      padding: 0 0 0 0;\n",
              "      width: 32px;\n",
              "    }\n",
              "\n",
              "    .colab-df-convert:hover {\n",
              "      background-color: #E2EBFA;\n",
              "      box-shadow: 0px 1px 2px rgba(60, 64, 67, 0.3), 0px 1px 3px 1px rgba(60, 64, 67, 0.15);\n",
              "      fill: #174EA6;\n",
              "    }\n",
              "\n",
              "    [theme=dark] .colab-df-convert {\n",
              "      background-color: #3B4455;\n",
              "      fill: #D2E3FC;\n",
              "    }\n",
              "\n",
              "    [theme=dark] .colab-df-convert:hover {\n",
              "      background-color: #434B5C;\n",
              "      box-shadow: 0px 1px 3px 1px rgba(0, 0, 0, 0.15);\n",
              "      filter: drop-shadow(0px 1px 2px rgba(0, 0, 0, 0.3));\n",
              "      fill: #FFFFFF;\n",
              "    }\n",
              "  </style>\n",
              "\n",
              "      <script>\n",
              "        const buttonEl =\n",
              "          document.querySelector('#df-16b582df-6a53-4957-990d-bd2e4351b313 button.colab-df-convert');\n",
              "        buttonEl.style.display =\n",
              "          google.colab.kernel.accessAllowed ? 'block' : 'none';\n",
              "\n",
              "        async function convertToInteractive(key) {\n",
              "          const element = document.querySelector('#df-16b582df-6a53-4957-990d-bd2e4351b313');\n",
              "          const dataTable =\n",
              "            await google.colab.kernel.invokeFunction('convertToInteractive',\n",
              "                                                     [key], {});\n",
              "          if (!dataTable) return;\n",
              "\n",
              "          const docLinkHtml = 'Like what you see? Visit the ' +\n",
              "            '<a target=\"_blank\" href=https://colab.research.google.com/notebooks/data_table.ipynb>data table notebook</a>'\n",
              "            + ' to learn more about interactive tables.';\n",
              "          element.innerHTML = '';\n",
              "          dataTable['output_type'] = 'display_data';\n",
              "          await google.colab.output.renderOutput(dataTable, element);\n",
              "          const docLink = document.createElement('div');\n",
              "          docLink.innerHTML = docLinkHtml;\n",
              "          element.appendChild(docLink);\n",
              "        }\n",
              "      </script>\n",
              "    </div>\n",
              "  </div>\n",
              "  "
            ]
          },
          "metadata": {},
          "execution_count": 20
        }
      ]
    },
    {
      "cell_type": "code",
      "source": [
        "grid.best_params_\n",
        "\n",
        "model_lgbm=LGBMRegressor(learning_rate=0.1,max_depth=7,n_estimators=500)\n",
        "#  튜닝된 베스트 파라미터\n",
        "# model_lgbm=LGBMRegressor(grid.best_estimator_)\n",
        "get_model_predict(model_lgbm, X_train ,X_test , y_train , y_test , is_expm1=True)"
      ],
      "metadata": {
        "colab": {
          "base_uri": "https://localhost:8080/"
        },
        "id": "NtumxoxvE8l8",
        "outputId": "62ddd70a-5e9f-4c6b-d460-ad1ceb20d31f"
      },
      "execution_count": 38,
      "outputs": [
        {
          "output_type": "stream",
          "name": "stdout",
          "text": [
            "### LGBMRegressor ###\n",
            "RMSLE : 0.304 , RMSE : 44.431 , MAE :  27.274\n"
          ]
        }
      ]
    },
    {
      "cell_type": "code",
      "source": [
        "# 실제 값과 예측값이 어느 정도 차이가 나는지 비교.\n",
        "pred = model_lgbm.predict(X_test)\n",
        "\n",
        "# 테스트 데이터 세트의 target 값은 로그 변환 하였으므로 , 다시 expm1 을 이용해 원래 스케일로 변환 (테스트셋)\n",
        "y_test_exp = np.expm1(y_test)\n",
        "\n",
        "# 테스트 데이터 세트의 target 값은 로그 변환 하였으므로 , 다시 expm1 을 이용해 원래 스케일로 변환 (예측값)\n",
        "pred_exp = np.expm1(pred)\n",
        "\n",
        "def top5_error_data(y_test,pred , n_top=5):\n",
        "  df_result = pd.DataFrame(y_test.values , columns = ['real'])\n",
        "  df_result['predict'] = np.round(pred)\n",
        "  df_result['diff'] = np.abs(df_result.real - df_result.predict)\n",
        "  # 예측값과 실제 값이 큰 데이터 순으로 출력\n",
        "  print(df_result.sort_values('diff',ascending = False)[:n_top])\n",
        "\n",
        "top5_error_data(y_test_exp ,pred_exp , n_top = 1000)"
      ],
      "metadata": {
        "colab": {
          "base_uri": "https://localhost:8080/"
        },
        "id": "vQHTygr1H6lK",
        "outputId": "b2b2038c-9a40-411b-bf54-af3991f7760b"
      },
      "execution_count": 39,
      "outputs": [
        {
          "output_type": "stream",
          "name": "stdout",
          "text": [
            "       real  predict   diff\n",
            "2049  425.0    790.0  365.0\n",
            "2972  601.0    952.0  351.0\n",
            "2362  743.0    400.0  343.0\n",
            "1047  687.0    377.0  310.0\n",
            "1004  233.0    539.0  306.0\n",
            "...     ...      ...    ...\n",
            "415   109.0    139.0   30.0\n",
            "2316  117.0    147.0   30.0\n",
            "21    296.0    326.0   30.0\n",
            "2676  511.0    481.0   30.0\n",
            "1043  161.0    131.0   30.0\n",
            "\n",
            "[1000 rows x 3 columns]\n"
          ]
        }
      ]
    },
    {
      "cell_type": "markdown",
      "source": [
        "# 정리\n",
        " - LGBM 하이퍼파라미터 튜팅을 시도 했지만 만족할 만한 결과 인지는 모르겠다. 아직 결과를 보고 적용하는 것은 학습이 필요로 할 듯 하다.\n",
        " - 추후 유즈 케이스 등을 보고 다시 시도 하도록 한다."
      ],
      "metadata": {
        "id": "dVszHcvMJ_Dh"
      }
    }
  ]
}