{
  "nbformat": 4,
  "nbformat_minor": 0,
  "metadata": {
    "colab": {
      "provenance": [],
      "authorship_tag": "ABX9TyMD9iWiMRV194OVmSio5Orj",
      "include_colab_link": true
    },
    "kernelspec": {
      "name": "python3",
      "display_name": "Python 3"
    },
    "language_info": {
      "name": "python"
    }
  },
  "cells": [
    {
      "cell_type": "markdown",
      "metadata": {
        "id": "view-in-github",
        "colab_type": "text"
      },
      "source": [
        "<a href=\"https://colab.research.google.com/github/parkmicheal1114/study/blob/main/31%ED%9A%8CADP_%EA%B8%B0%EC%B6%9C.ipynb\" target=\"_parent\"><img src=\"https://colab.research.google.com/assets/colab-badge.svg\" alt=\"Open In Colab\"/></a>"
      ]
    },
    {
      "cell_type": "markdown",
      "source": [
        "데이터 설명\n",
        "\n",
        "데이터 출처 : https://www.kaggle.com/datasets/mandysia/obesity-dataset-cleaned-and-data-sinthetic 후처리\n",
        "\n",
        "데이터 링크 : https://raw.githubusercontent.com/Datamanim/datarepo/main/adp/31/adp_31_1_obesity_v2.csv\n",
        "\n",
        "데이터 설명 : 각 환자의 의료정보이다. NObeyesdad를 종속변수로 하는 분류모델을 만드려고 한다.\n",
        "- id: unique id for each row    \n",
        "- Gender: sex - male or female    \n",
        "- Age: age    \n",
        "- Height: height    \n",
        "- Weight: weight    \n",
        "- family_history_with_overweight: Has a family member suffered or suffers f from overweight? - yes or no    \n",
        "- FAVC: Frequent consumption of high caloric food - yes or no     \n",
        "- FCVC: Frequency of consumption of vegetables - Never, Sometimes, Always    \n",
        "- NCP: Number of main meals - 1, 2, 3, 4     \n",
        "- CAEC: Consumption of food between meals - No, Sometimes, - Frequently, Always    \n",
        "- SMOKE: Do you smoke - yes o no    \n",
        "- CH2O: Consumption of water daily - Less than a litter, - between 1 and 2 l, more than 2 l    \n",
        "- SCC: Calories consumption monitoring - yes or no   \n",
        "- FAF: Physical activity frequency - 0, 1 to 2, 2 to 4, 4 to 5     \n",
        "- TUE: Time using technology devices - 0 to 2, 3 to 5, >5    \n",
        "- CALC: Consumption of alcohol - no, sometimes, frequently, always    \n",
        "- MTRANS: Transportation used - automobile, motorbike, bike, public_transportation, walking    \n",
        "- BMI: Body mass index\n",
        "\n",
        "(종속변수)     \n",
        "NObeyesdad: Type of obesity - overweight-level_i, obesity_type_i, obesity_type_ii, obesity_type_iii"
      ],
      "metadata": {
        "id": "cqXBOT6xviLj"
      }
    },
    {
      "cell_type": "markdown",
      "source": [
        "# 기계학습"
      ],
      "metadata": {
        "id": "UX1UcVerwJYz"
      }
    },
    {
      "cell_type": "code",
      "source": [
        "!pip install koreanize-matplotlib"
      ],
      "metadata": {
        "colab": {
          "base_uri": "https://localhost:8080/"
        },
        "id": "wqDV2gpJwele",
        "outputId": "6853de82-deac-4049-aaf2-bef81539a953"
      },
      "execution_count": null,
      "outputs": [
        {
          "output_type": "stream",
          "name": "stdout",
          "text": [
            "Collecting koreanize-matplotlib\n",
            "  Downloading koreanize_matplotlib-0.1.1-py3-none-any.whl (7.9 MB)\n",
            "\u001b[2K     \u001b[90m━━━━━━━━━━━━━━━━━━━━━━━━━━━━━━━━━━━━━━━━\u001b[0m \u001b[32m7.9/7.9 MB\u001b[0m \u001b[31m26.2 MB/s\u001b[0m eta \u001b[36m0:00:00\u001b[0m\n",
            "\u001b[?25hRequirement already satisfied: matplotlib in /usr/local/lib/python3.10/dist-packages (from koreanize-matplotlib) (3.7.1)\n",
            "Requirement already satisfied: contourpy>=1.0.1 in /usr/local/lib/python3.10/dist-packages (from matplotlib->koreanize-matplotlib) (1.2.0)\n",
            "Requirement already satisfied: cycler>=0.10 in /usr/local/lib/python3.10/dist-packages (from matplotlib->koreanize-matplotlib) (0.12.1)\n",
            "Requirement already satisfied: fonttools>=4.22.0 in /usr/local/lib/python3.10/dist-packages (from matplotlib->koreanize-matplotlib) (4.49.0)\n",
            "Requirement already satisfied: kiwisolver>=1.0.1 in /usr/local/lib/python3.10/dist-packages (from matplotlib->koreanize-matplotlib) (1.4.5)\n",
            "Requirement already satisfied: numpy>=1.20 in /usr/local/lib/python3.10/dist-packages (from matplotlib->koreanize-matplotlib) (1.25.2)\n",
            "Requirement already satisfied: packaging>=20.0 in /usr/local/lib/python3.10/dist-packages (from matplotlib->koreanize-matplotlib) (23.2)\n",
            "Requirement already satisfied: pillow>=6.2.0 in /usr/local/lib/python3.10/dist-packages (from matplotlib->koreanize-matplotlib) (9.4.0)\n",
            "Requirement already satisfied: pyparsing>=2.3.1 in /usr/local/lib/python3.10/dist-packages (from matplotlib->koreanize-matplotlib) (3.1.1)\n",
            "Requirement already satisfied: python-dateutil>=2.7 in /usr/local/lib/python3.10/dist-packages (from matplotlib->koreanize-matplotlib) (2.8.2)\n",
            "Requirement already satisfied: six>=1.5 in /usr/local/lib/python3.10/dist-packages (from python-dateutil>=2.7->matplotlib->koreanize-matplotlib) (1.16.0)\n",
            "Installing collected packages: koreanize-matplotlib\n",
            "Successfully installed koreanize-matplotlib-0.1.1\n"
          ]
        }
      ]
    },
    {
      "cell_type": "code",
      "source": [
        "import pandas as pd\n",
        "import numpy as np\n",
        "import seaborn as sns\n",
        "import matplotlib.pyplot as plt\n",
        "import koreanize_matplotlib\n",
        "import warnings\n",
        "warnings.filterwarnings('ignore')\n",
        "\n",
        "import scipy.stats as stat"
      ],
      "metadata": {
        "id": "UYnnp_9CwRbB"
      },
      "execution_count": null,
      "outputs": []
    },
    {
      "cell_type": "code",
      "source": [
        "df = pd.read_csv('https://raw.githubusercontent.com/Datamanim/datarepo/main/adp/31/adp_31_1_obesity_v2.csv' , index_col = 0)\n",
        "df.head()"
      ],
      "metadata": {
        "colab": {
          "base_uri": "https://localhost:8080/",
          "height": 206
        },
        "id": "4u4fl9wewwfP",
        "outputId": "1e1e46d7-fe1e-40e1-9a3d-f91705e0d296"
      },
      "execution_count": null,
      "outputs": [
        {
          "output_type": "execute_result",
          "data": {
            "text/plain": [
              "   id  Gender  Age  Height  Weight family_history_with_overweight FAVC  \\\n",
              "0   4    male   27    1.80      87                             no   no   \n",
              "1  11    male   26    1.85     105                            yes  yes   \n",
              "2  14    male   41    1.80      99                             no  yes   \n",
              "3  18  female   29    1.53      78                             no  yes   \n",
              "4  20  female   23    1.65      70                            yes   no   \n",
              "\n",
              "        FCVC  NCP        CAEC SMOKE               CH2O SCC     FAF     TUE  \\\n",
              "0     always    3   sometimes    no  between 1 and 2 l  no  2 to 4  0 to 2   \n",
              "1     always    3  frequently    no      more than 2 l  no  2 to 4      >5   \n",
              "2  sometimes    3   sometimes    no  between 1 and 2 l  no  2 to 4  3 to 5   \n",
              "3  sometimes    1   sometimes    no  between 1 and 2 l  no       0  0 to 2   \n",
              "4  sometimes    1   sometimes    no  between 1 and 2 l  no       0  0 to 2   \n",
              "\n",
              "         CALC                 MTRANS          NObeyesdad        BMI  \n",
              "0  frequently                walking  overweight_level_i  26.851852  \n",
              "1   sometimes  public_transportation      obesity_type_i  30.679328  \n",
              "2  frequently             automobile      obesity_type_i  30.555556  \n",
              "3          no             automobile      obesity_type_i  33.320518  \n",
              "4   sometimes  public_transportation  overweight_level_i  25.711662  "
            ],
            "text/html": [
              "\n",
              "  <div id=\"df-26ef9fb9-f4e3-4614-bfb5-5e95fdfe710c\" class=\"colab-df-container\">\n",
              "    <div>\n",
              "<style scoped>\n",
              "    .dataframe tbody tr th:only-of-type {\n",
              "        vertical-align: middle;\n",
              "    }\n",
              "\n",
              "    .dataframe tbody tr th {\n",
              "        vertical-align: top;\n",
              "    }\n",
              "\n",
              "    .dataframe thead th {\n",
              "        text-align: right;\n",
              "    }\n",
              "</style>\n",
              "<table border=\"1\" class=\"dataframe\">\n",
              "  <thead>\n",
              "    <tr style=\"text-align: right;\">\n",
              "      <th></th>\n",
              "      <th>id</th>\n",
              "      <th>Gender</th>\n",
              "      <th>Age</th>\n",
              "      <th>Height</th>\n",
              "      <th>Weight</th>\n",
              "      <th>family_history_with_overweight</th>\n",
              "      <th>FAVC</th>\n",
              "      <th>FCVC</th>\n",
              "      <th>NCP</th>\n",
              "      <th>CAEC</th>\n",
              "      <th>SMOKE</th>\n",
              "      <th>CH2O</th>\n",
              "      <th>SCC</th>\n",
              "      <th>FAF</th>\n",
              "      <th>TUE</th>\n",
              "      <th>CALC</th>\n",
              "      <th>MTRANS</th>\n",
              "      <th>NObeyesdad</th>\n",
              "      <th>BMI</th>\n",
              "    </tr>\n",
              "  </thead>\n",
              "  <tbody>\n",
              "    <tr>\n",
              "      <th>0</th>\n",
              "      <td>4</td>\n",
              "      <td>male</td>\n",
              "      <td>27</td>\n",
              "      <td>1.80</td>\n",
              "      <td>87</td>\n",
              "      <td>no</td>\n",
              "      <td>no</td>\n",
              "      <td>always</td>\n",
              "      <td>3</td>\n",
              "      <td>sometimes</td>\n",
              "      <td>no</td>\n",
              "      <td>between 1 and 2 l</td>\n",
              "      <td>no</td>\n",
              "      <td>2 to 4</td>\n",
              "      <td>0 to 2</td>\n",
              "      <td>frequently</td>\n",
              "      <td>walking</td>\n",
              "      <td>overweight_level_i</td>\n",
              "      <td>26.851852</td>\n",
              "    </tr>\n",
              "    <tr>\n",
              "      <th>1</th>\n",
              "      <td>11</td>\n",
              "      <td>male</td>\n",
              "      <td>26</td>\n",
              "      <td>1.85</td>\n",
              "      <td>105</td>\n",
              "      <td>yes</td>\n",
              "      <td>yes</td>\n",
              "      <td>always</td>\n",
              "      <td>3</td>\n",
              "      <td>frequently</td>\n",
              "      <td>no</td>\n",
              "      <td>more than 2 l</td>\n",
              "      <td>no</td>\n",
              "      <td>2 to 4</td>\n",
              "      <td>&gt;5</td>\n",
              "      <td>sometimes</td>\n",
              "      <td>public_transportation</td>\n",
              "      <td>obesity_type_i</td>\n",
              "      <td>30.679328</td>\n",
              "    </tr>\n",
              "    <tr>\n",
              "      <th>2</th>\n",
              "      <td>14</td>\n",
              "      <td>male</td>\n",
              "      <td>41</td>\n",
              "      <td>1.80</td>\n",
              "      <td>99</td>\n",
              "      <td>no</td>\n",
              "      <td>yes</td>\n",
              "      <td>sometimes</td>\n",
              "      <td>3</td>\n",
              "      <td>sometimes</td>\n",
              "      <td>no</td>\n",
              "      <td>between 1 and 2 l</td>\n",
              "      <td>no</td>\n",
              "      <td>2 to 4</td>\n",
              "      <td>3 to 5</td>\n",
              "      <td>frequently</td>\n",
              "      <td>automobile</td>\n",
              "      <td>obesity_type_i</td>\n",
              "      <td>30.555556</td>\n",
              "    </tr>\n",
              "    <tr>\n",
              "      <th>3</th>\n",
              "      <td>18</td>\n",
              "      <td>female</td>\n",
              "      <td>29</td>\n",
              "      <td>1.53</td>\n",
              "      <td>78</td>\n",
              "      <td>no</td>\n",
              "      <td>yes</td>\n",
              "      <td>sometimes</td>\n",
              "      <td>1</td>\n",
              "      <td>sometimes</td>\n",
              "      <td>no</td>\n",
              "      <td>between 1 and 2 l</td>\n",
              "      <td>no</td>\n",
              "      <td>0</td>\n",
              "      <td>0 to 2</td>\n",
              "      <td>no</td>\n",
              "      <td>automobile</td>\n",
              "      <td>obesity_type_i</td>\n",
              "      <td>33.320518</td>\n",
              "    </tr>\n",
              "    <tr>\n",
              "      <th>4</th>\n",
              "      <td>20</td>\n",
              "      <td>female</td>\n",
              "      <td>23</td>\n",
              "      <td>1.65</td>\n",
              "      <td>70</td>\n",
              "      <td>yes</td>\n",
              "      <td>no</td>\n",
              "      <td>sometimes</td>\n",
              "      <td>1</td>\n",
              "      <td>sometimes</td>\n",
              "      <td>no</td>\n",
              "      <td>between 1 and 2 l</td>\n",
              "      <td>no</td>\n",
              "      <td>0</td>\n",
              "      <td>0 to 2</td>\n",
              "      <td>sometimes</td>\n",
              "      <td>public_transportation</td>\n",
              "      <td>overweight_level_i</td>\n",
              "      <td>25.711662</td>\n",
              "    </tr>\n",
              "  </tbody>\n",
              "</table>\n",
              "</div>\n",
              "    <div class=\"colab-df-buttons\">\n",
              "\n",
              "  <div class=\"colab-df-container\">\n",
              "    <button class=\"colab-df-convert\" onclick=\"convertToInteractive('df-26ef9fb9-f4e3-4614-bfb5-5e95fdfe710c')\"\n",
              "            title=\"Convert this dataframe to an interactive table.\"\n",
              "            style=\"display:none;\">\n",
              "\n",
              "  <svg xmlns=\"http://www.w3.org/2000/svg\" height=\"24px\" viewBox=\"0 -960 960 960\">\n",
              "    <path d=\"M120-120v-720h720v720H120Zm60-500h600v-160H180v160Zm220 220h160v-160H400v160Zm0 220h160v-160H400v160ZM180-400h160v-160H180v160Zm440 0h160v-160H620v160ZM180-180h160v-160H180v160Zm440 0h160v-160H620v160Z\"/>\n",
              "  </svg>\n",
              "    </button>\n",
              "\n",
              "  <style>\n",
              "    .colab-df-container {\n",
              "      display:flex;\n",
              "      gap: 12px;\n",
              "    }\n",
              "\n",
              "    .colab-df-convert {\n",
              "      background-color: #E8F0FE;\n",
              "      border: none;\n",
              "      border-radius: 50%;\n",
              "      cursor: pointer;\n",
              "      display: none;\n",
              "      fill: #1967D2;\n",
              "      height: 32px;\n",
              "      padding: 0 0 0 0;\n",
              "      width: 32px;\n",
              "    }\n",
              "\n",
              "    .colab-df-convert:hover {\n",
              "      background-color: #E2EBFA;\n",
              "      box-shadow: 0px 1px 2px rgba(60, 64, 67, 0.3), 0px 1px 3px 1px rgba(60, 64, 67, 0.15);\n",
              "      fill: #174EA6;\n",
              "    }\n",
              "\n",
              "    .colab-df-buttons div {\n",
              "      margin-bottom: 4px;\n",
              "    }\n",
              "\n",
              "    [theme=dark] .colab-df-convert {\n",
              "      background-color: #3B4455;\n",
              "      fill: #D2E3FC;\n",
              "    }\n",
              "\n",
              "    [theme=dark] .colab-df-convert:hover {\n",
              "      background-color: #434B5C;\n",
              "      box-shadow: 0px 1px 3px 1px rgba(0, 0, 0, 0.15);\n",
              "      filter: drop-shadow(0px 1px 2px rgba(0, 0, 0, 0.3));\n",
              "      fill: #FFFFFF;\n",
              "    }\n",
              "  </style>\n",
              "\n",
              "    <script>\n",
              "      const buttonEl =\n",
              "        document.querySelector('#df-26ef9fb9-f4e3-4614-bfb5-5e95fdfe710c button.colab-df-convert');\n",
              "      buttonEl.style.display =\n",
              "        google.colab.kernel.accessAllowed ? 'block' : 'none';\n",
              "\n",
              "      async function convertToInteractive(key) {\n",
              "        const element = document.querySelector('#df-26ef9fb9-f4e3-4614-bfb5-5e95fdfe710c');\n",
              "        const dataTable =\n",
              "          await google.colab.kernel.invokeFunction('convertToInteractive',\n",
              "                                                    [key], {});\n",
              "        if (!dataTable) return;\n",
              "\n",
              "        const docLinkHtml = 'Like what you see? Visit the ' +\n",
              "          '<a target=\"_blank\" href=https://colab.research.google.com/notebooks/data_table.ipynb>data table notebook</a>'\n",
              "          + ' to learn more about interactive tables.';\n",
              "        element.innerHTML = '';\n",
              "        dataTable['output_type'] = 'display_data';\n",
              "        await google.colab.output.renderOutput(dataTable, element);\n",
              "        const docLink = document.createElement('div');\n",
              "        docLink.innerHTML = docLinkHtml;\n",
              "        element.appendChild(docLink);\n",
              "      }\n",
              "    </script>\n",
              "  </div>\n",
              "\n",
              "\n",
              "<div id=\"df-4de40d50-25fc-4191-9ca1-cd0505ebc1b0\">\n",
              "  <button class=\"colab-df-quickchart\" onclick=\"quickchart('df-4de40d50-25fc-4191-9ca1-cd0505ebc1b0')\"\n",
              "            title=\"Suggest charts\"\n",
              "            style=\"display:none;\">\n",
              "\n",
              "<svg xmlns=\"http://www.w3.org/2000/svg\" height=\"24px\"viewBox=\"0 0 24 24\"\n",
              "     width=\"24px\">\n",
              "    <g>\n",
              "        <path d=\"M19 3H5c-1.1 0-2 .9-2 2v14c0 1.1.9 2 2 2h14c1.1 0 2-.9 2-2V5c0-1.1-.9-2-2-2zM9 17H7v-7h2v7zm4 0h-2V7h2v10zm4 0h-2v-4h2v4z\"/>\n",
              "    </g>\n",
              "</svg>\n",
              "  </button>\n",
              "\n",
              "<style>\n",
              "  .colab-df-quickchart {\n",
              "      --bg-color: #E8F0FE;\n",
              "      --fill-color: #1967D2;\n",
              "      --hover-bg-color: #E2EBFA;\n",
              "      --hover-fill-color: #174EA6;\n",
              "      --disabled-fill-color: #AAA;\n",
              "      --disabled-bg-color: #DDD;\n",
              "  }\n",
              "\n",
              "  [theme=dark] .colab-df-quickchart {\n",
              "      --bg-color: #3B4455;\n",
              "      --fill-color: #D2E3FC;\n",
              "      --hover-bg-color: #434B5C;\n",
              "      --hover-fill-color: #FFFFFF;\n",
              "      --disabled-bg-color: #3B4455;\n",
              "      --disabled-fill-color: #666;\n",
              "  }\n",
              "\n",
              "  .colab-df-quickchart {\n",
              "    background-color: var(--bg-color);\n",
              "    border: none;\n",
              "    border-radius: 50%;\n",
              "    cursor: pointer;\n",
              "    display: none;\n",
              "    fill: var(--fill-color);\n",
              "    height: 32px;\n",
              "    padding: 0;\n",
              "    width: 32px;\n",
              "  }\n",
              "\n",
              "  .colab-df-quickchart:hover {\n",
              "    background-color: var(--hover-bg-color);\n",
              "    box-shadow: 0 1px 2px rgba(60, 64, 67, 0.3), 0 1px 3px 1px rgba(60, 64, 67, 0.15);\n",
              "    fill: var(--button-hover-fill-color);\n",
              "  }\n",
              "\n",
              "  .colab-df-quickchart-complete:disabled,\n",
              "  .colab-df-quickchart-complete:disabled:hover {\n",
              "    background-color: var(--disabled-bg-color);\n",
              "    fill: var(--disabled-fill-color);\n",
              "    box-shadow: none;\n",
              "  }\n",
              "\n",
              "  .colab-df-spinner {\n",
              "    border: 2px solid var(--fill-color);\n",
              "    border-color: transparent;\n",
              "    border-bottom-color: var(--fill-color);\n",
              "    animation:\n",
              "      spin 1s steps(1) infinite;\n",
              "  }\n",
              "\n",
              "  @keyframes spin {\n",
              "    0% {\n",
              "      border-color: transparent;\n",
              "      border-bottom-color: var(--fill-color);\n",
              "      border-left-color: var(--fill-color);\n",
              "    }\n",
              "    20% {\n",
              "      border-color: transparent;\n",
              "      border-left-color: var(--fill-color);\n",
              "      border-top-color: var(--fill-color);\n",
              "    }\n",
              "    30% {\n",
              "      border-color: transparent;\n",
              "      border-left-color: var(--fill-color);\n",
              "      border-top-color: var(--fill-color);\n",
              "      border-right-color: var(--fill-color);\n",
              "    }\n",
              "    40% {\n",
              "      border-color: transparent;\n",
              "      border-right-color: var(--fill-color);\n",
              "      border-top-color: var(--fill-color);\n",
              "    }\n",
              "    60% {\n",
              "      border-color: transparent;\n",
              "      border-right-color: var(--fill-color);\n",
              "    }\n",
              "    80% {\n",
              "      border-color: transparent;\n",
              "      border-right-color: var(--fill-color);\n",
              "      border-bottom-color: var(--fill-color);\n",
              "    }\n",
              "    90% {\n",
              "      border-color: transparent;\n",
              "      border-bottom-color: var(--fill-color);\n",
              "    }\n",
              "  }\n",
              "</style>\n",
              "\n",
              "  <script>\n",
              "    async function quickchart(key) {\n",
              "      const quickchartButtonEl =\n",
              "        document.querySelector('#' + key + ' button');\n",
              "      quickchartButtonEl.disabled = true;  // To prevent multiple clicks.\n",
              "      quickchartButtonEl.classList.add('colab-df-spinner');\n",
              "      try {\n",
              "        const charts = await google.colab.kernel.invokeFunction(\n",
              "            'suggestCharts', [key], {});\n",
              "      } catch (error) {\n",
              "        console.error('Error during call to suggestCharts:', error);\n",
              "      }\n",
              "      quickchartButtonEl.classList.remove('colab-df-spinner');\n",
              "      quickchartButtonEl.classList.add('colab-df-quickchart-complete');\n",
              "    }\n",
              "    (() => {\n",
              "      let quickchartButtonEl =\n",
              "        document.querySelector('#df-4de40d50-25fc-4191-9ca1-cd0505ebc1b0 button');\n",
              "      quickchartButtonEl.style.display =\n",
              "        google.colab.kernel.accessAllowed ? 'block' : 'none';\n",
              "    })();\n",
              "  </script>\n",
              "</div>\n",
              "\n",
              "    </div>\n",
              "  </div>\n"
            ],
            "application/vnd.google.colaboratory.intrinsic+json": {
              "type": "dataframe",
              "variable_name": "df",
              "summary": "{\n  \"name\": \"df\",\n  \"rows\": 1262,\n  \"fields\": [\n    {\n      \"column\": \"id\",\n      \"properties\": {\n        \"dtype\": \"string\",\n        \"num_unique_values\": 1262,\n        \"samples\": [\n          \"2,056\",\n          \"1,718\",\n          \"1,382\"\n        ],\n        \"semantic_type\": \"\",\n        \"description\": \"\"\n      }\n    },\n    {\n      \"column\": \"Gender\",\n      \"properties\": {\n        \"dtype\": \"category\",\n        \"num_unique_values\": 2,\n        \"samples\": [\n          \"female\",\n          \"male\"\n        ],\n        \"semantic_type\": \"\",\n        \"description\": \"\"\n      }\n    },\n    {\n      \"column\": \"Age\",\n      \"properties\": {\n        \"dtype\": \"number\",\n        \"std\": 9,\n        \"min\": 15,\n        \"max\": 150,\n        \"num_unique_values\": 34,\n        \"samples\": [\n          24,\n          32\n        ],\n        \"semantic_type\": \"\",\n        \"description\": \"\"\n      }\n    },\n    {\n      \"column\": \"Height\",\n      \"properties\": {\n        \"dtype\": \"number\",\n        \"std\": 0.09136134928351722,\n        \"min\": 1.45,\n        \"max\": 1.98,\n        \"num_unique_values\": 1128,\n        \"samples\": [\n          1.71582,\n          1.748533\n        ],\n        \"semantic_type\": \"\",\n        \"description\": \"\"\n      }\n    },\n    {\n      \"column\": \"Weight\",\n      \"properties\": {\n        \"dtype\": \"number\",\n        \"std\": 21,\n        \"min\": 53,\n        \"max\": 173,\n        \"num_unique_values\": 103,\n        \"samples\": [\n          100,\n          56\n        ],\n        \"semantic_type\": \"\",\n        \"description\": \"\"\n      }\n    },\n    {\n      \"column\": \"family_history_with_overweight\",\n      \"properties\": {\n        \"dtype\": \"category\",\n        \"num_unique_values\": 2,\n        \"samples\": [\n          \"yes\",\n          \"no\"\n        ],\n        \"semantic_type\": \"\",\n        \"description\": \"\"\n      }\n    },\n    {\n      \"column\": \"FAVC\",\n      \"properties\": {\n        \"dtype\": \"category\",\n        \"num_unique_values\": 2,\n        \"samples\": [\n          \"yes\",\n          \"no\"\n        ],\n        \"semantic_type\": \"\",\n        \"description\": \"\"\n      }\n    },\n    {\n      \"column\": \"FCVC\",\n      \"properties\": {\n        \"dtype\": \"category\",\n        \"num_unique_values\": 3,\n        \"samples\": [\n          \"always\",\n          \"sometimes\"\n        ],\n        \"semantic_type\": \"\",\n        \"description\": \"\"\n      }\n    },\n    {\n      \"column\": \"NCP\",\n      \"properties\": {\n        \"dtype\": \"number\",\n        \"std\": 0,\n        \"min\": 1,\n        \"max\": 4,\n        \"num_unique_values\": 4,\n        \"samples\": [\n          1,\n          2\n        ],\n        \"semantic_type\": \"\",\n        \"description\": \"\"\n      }\n    },\n    {\n      \"column\": \"CAEC\",\n      \"properties\": {\n        \"dtype\": \"category\",\n        \"num_unique_values\": 4,\n        \"samples\": [\n          \"frequently\",\n          \"no\"\n        ],\n        \"semantic_type\": \"\",\n        \"description\": \"\"\n      }\n    },\n    {\n      \"column\": \"SMOKE\",\n      \"properties\": {\n        \"dtype\": \"category\",\n        \"num_unique_values\": 2,\n        \"samples\": [\n          \"yes\",\n          \"no\"\n        ],\n        \"semantic_type\": \"\",\n        \"description\": \"\"\n      }\n    },\n    {\n      \"column\": \"CH2O\",\n      \"properties\": {\n        \"dtype\": \"category\",\n        \"num_unique_values\": 3,\n        \"samples\": [\n          \"between 1 and 2 l\",\n          \"more than 2 l\"\n        ],\n        \"semantic_type\": \"\",\n        \"description\": \"\"\n      }\n    },\n    {\n      \"column\": \"SCC\",\n      \"properties\": {\n        \"dtype\": \"category\",\n        \"num_unique_values\": 2,\n        \"samples\": [\n          \"yes\",\n          \"no\"\n        ],\n        \"semantic_type\": \"\",\n        \"description\": \"\"\n      }\n    },\n    {\n      \"column\": \"FAF\",\n      \"properties\": {\n        \"dtype\": \"category\",\n        \"num_unique_values\": 4,\n        \"samples\": [\n          \"0\",\n          \"4 to 5\"\n        ],\n        \"semantic_type\": \"\",\n        \"description\": \"\"\n      }\n    },\n    {\n      \"column\": \"TUE\",\n      \"properties\": {\n        \"dtype\": \"category\",\n        \"num_unique_values\": 3,\n        \"samples\": [\n          \"0 to 2\",\n          \">5\"\n        ],\n        \"semantic_type\": \"\",\n        \"description\": \"\"\n      }\n    },\n    {\n      \"column\": \"CALC\",\n      \"properties\": {\n        \"dtype\": \"category\",\n        \"num_unique_values\": 3,\n        \"samples\": [\n          \"frequently\",\n          \"sometimes\"\n        ],\n        \"semantic_type\": \"\",\n        \"description\": \"\"\n      }\n    },\n    {\n      \"column\": \"MTRANS\",\n      \"properties\": {\n        \"dtype\": \"category\",\n        \"num_unique_values\": 5,\n        \"samples\": [\n          \"public_transportation\",\n          \"bike\"\n        ],\n        \"semantic_type\": \"\",\n        \"description\": \"\"\n      }\n    },\n    {\n      \"column\": \"NObeyesdad\",\n      \"properties\": {\n        \"dtype\": \"category\",\n        \"num_unique_values\": 4,\n        \"samples\": [\n          \"obesity_type_i\",\n          \"obesity_type_iii\"\n        ],\n        \"semantic_type\": \"\",\n        \"description\": \"\"\n      }\n    },\n    {\n      \"column\": \"BMI\",\n      \"properties\": {\n        \"dtype\": \"number\",\n        \"std\": 6.106622908762807,\n        \"min\": 22.82673862,\n        \"max\": 50.81175281,\n        \"num_unique_values\": 1226,\n        \"samples\": [\n          31.98163631,\n          37.99035722\n        ],\n        \"semantic_type\": \"\",\n        \"description\": \"\"\n      }\n    }\n  ]\n}"
            }
          },
          "metadata": {},
          "execution_count": 3
        }
      ]
    },
    {
      "cell_type": "markdown",
      "source": [
        "## 1-1 EDA & 결측치 및 이상치를 판단하고 설명하라"
      ],
      "metadata": {
        "id": "AbQOFD_ewKxR"
      }
    },
    {
      "cell_type": "code",
      "source": [
        "df.info()"
      ],
      "metadata": {
        "colab": {
          "base_uri": "https://localhost:8080/"
        },
        "id": "qtDXqbX-t-aX",
        "outputId": "af673624-afb5-40e8-fbb9-251d72711054"
      },
      "execution_count": null,
      "outputs": [
        {
          "output_type": "stream",
          "name": "stdout",
          "text": [
            "<class 'pandas.core.frame.DataFrame'>\n",
            "Int64Index: 1262 entries, 0 to 1261\n",
            "Data columns (total 19 columns):\n",
            " #   Column                          Non-Null Count  Dtype  \n",
            "---  ------                          --------------  -----  \n",
            " 0   id                              1262 non-null   object \n",
            " 1   Gender                          1262 non-null   object \n",
            " 2   Age                             1262 non-null   int64  \n",
            " 3   Height                          1262 non-null   float64\n",
            " 4   Weight                          1262 non-null   int64  \n",
            " 5   family_history_with_overweight  1262 non-null   object \n",
            " 6   FAVC                            1262 non-null   object \n",
            " 7   FCVC                            1262 non-null   object \n",
            " 8   NCP                             1262 non-null   int64  \n",
            " 9   CAEC                            1262 non-null   object \n",
            " 10  SMOKE                           1262 non-null   object \n",
            " 11  CH2O                            1262 non-null   object \n",
            " 12  SCC                             1259 non-null   object \n",
            " 13  FAF                             1262 non-null   object \n",
            " 14  TUE                             1262 non-null   object \n",
            " 15  CALC                            1262 non-null   object \n",
            " 16  MTRANS                          1262 non-null   object \n",
            " 17  NObeyesdad                      1262 non-null   object \n",
            " 18  BMI                             1262 non-null   float64\n",
            "dtypes: float64(2), int64(3), object(14)\n",
            "memory usage: 197.2+ KB\n"
          ]
        }
      ]
    },
    {
      "cell_type": "markdown",
      "source": [
        "- 결측치 처리\n",
        " - EDA 수행전에 결측치를 우선 처리 하도록 한다.이는 EDA 수행시 오류 발생을 최소화 하기 위함이다.\n",
        " - SCC 컬럼에 3개의 결측치가 관측되는데, 범주형 변수이므로 최빈값으로 대치 하도록 하겠다."
      ],
      "metadata": {
        "id": "hLLTAkn-x4c-"
      }
    },
    {
      "cell_type": "code",
      "source": [
        "df['SCC'] = df['SCC'].fillna(df['SCC'].mode()[0])"
      ],
      "metadata": {
        "id": "IMZqzJRNx21M"
      },
      "execution_count": null,
      "outputs": []
    },
    {
      "cell_type": "code",
      "source": [
        "df.isnull().sum()"
      ],
      "metadata": {
        "id": "W52JWrFhzInX"
      },
      "execution_count": null,
      "outputs": []
    },
    {
      "cell_type": "markdown",
      "source": [
        "- EDA"
      ],
      "metadata": {
        "id": "oWX4NrjnzFwp"
      }
    },
    {
      "cell_type": "markdown",
      "source": [
        "- 종속변수의 클래스 분포"
      ],
      "metadata": {
        "id": "sMaQ7JPszVmI"
      }
    },
    {
      "cell_type": "code",
      "source": [
        "sns.countplot(data = df , x = 'NObeyesdad')"
      ],
      "metadata": {
        "colab": {
          "base_uri": "https://localhost:8080/",
          "height": 465
        },
        "id": "lmxcVmZmzbhY",
        "outputId": "36deeb95-72b8-4f78-86f2-663475e6db5c"
      },
      "execution_count": null,
      "outputs": [
        {
          "output_type": "execute_result",
          "data": {
            "text/plain": [
              "<Axes: xlabel='NObeyesdad', ylabel='count'>"
            ]
          },
          "metadata": {},
          "execution_count": 7
        },
        {
          "output_type": "display_data",
          "data": {
            "text/plain": [
              "<Figure size 640x480 with 1 Axes>"
            ],
            "image/png": "[encoded data removed]"
          },
          "metadata": {}
        }
      ]
    },
    {
      "cell_type": "code",
      "source": [
        "# 범주형 변수와 수치형 변수를 나누도록 한다.\n",
        "cat_col = df.select_dtypes('object').columns\n",
        "num_col = df.select_dtypes('number').columns"
      ],
      "metadata": {
        "id": "wVs5NtiJxFnh"
      },
      "execution_count": null,
      "outputs": []
    },
    {
      "cell_type": "code",
      "source": [
        "# len(cat_col[1:-1]) :12\n",
        "\n",
        "fig , ax = plt.subplots(nrows = 4 , ncols = 3 , figsize = (10 ,8))\n",
        "for i,col in enumerate(cat_col[1:-1]):\n",
        "  sns.countplot(data =df , x = col, ax = ax[i//3 , i%3])\n",
        "plt.tight_layout()"
      ],
      "metadata": {
        "colab": {
          "base_uri": "https://localhost:8080/",
          "height": 807
        },
        "id": "HS3l6lbN0KqC",
        "outputId": "d599ebb0-7ab5-4868-cfb0-98c9033af23b"
      },
      "execution_count": null,
      "outputs": [
        {
          "output_type": "display_data",
          "data": {
            "text/plain": [
              "<Figure size 1000x800 with 12 Axes>"
            ],
            "image/png": "[encoded data removed]"
          },
          "metadata": {}
        }
      ]
    },
    {
      "cell_type": "code",
      "source": [
        "fig , ax = plt.subplots(nrows = 5 , ncols = 2 , figsize = (10 ,8))\n",
        "for i,col in enumerate(num_col):\n",
        "  sns.histplot(data =df , x = col, ax = ax[i,0])\n",
        "  sns.boxplot(data =df , x ='NObeyesdad', y = col , ax = ax[i,1])\n",
        "plt.tight_layout()"
      ],
      "metadata": {
        "colab": {
          "base_uri": "https://localhost:8080/",
          "height": 807
        },
        "id": "uNfENvKhxphM",
        "outputId": "92de74eb-5aa6-4c3f-8ef3-42789b44c7dd"
      },
      "execution_count": null,
      "outputs": [
        {
          "output_type": "display_data",
          "data": {
            "text/plain": [
              "<Figure size 1000x800 with 10 Axes>"
            ],
            "image/png": "[encoded data removed]"
          },
          "metadata": {}
        }
      ]
    },
    {
      "cell_type": "markdown",
      "source": [
        "- 이상치 제거"
      ],
      "metadata": {
        "id": "muboOGuq2iNc"
      }
    },
    {
      "cell_type": "code",
      "source": [
        "# 나이가 150세인 데이터 제외\n",
        "df = df[~(df['Age']>100)]"
      ],
      "metadata": {
        "id": "3vuSreLY2hz5"
      },
      "execution_count": null,
      "outputs": []
    },
    {
      "cell_type": "markdown",
      "source": [
        "> 설명\n",
        "- SCC에서 관측된 결측치는 최빈값으로 대치 하였다.\n",
        "- 종속변수는 class 의 불균형이 관측 되었다.하지만 큰 차이가 아니기 때문에 모델구현시 classweight 을 통해서 클래스간 각기 다른 가중치를 부가 하도록 하겠다.\n",
        "- 범주형 변수들의 경우도 값들간의 빈도 차이가 크게 발생 하고 있는데 , 이에 대한 편향성 문제가 발생 할수도 있을 것이라 판단되는데 , 이를 위한 적절한 처리가 필요로 할 수 도 있을것으로 판단된다.\n",
        "- 수치형 변수들의 분포를 보게 되면 , BMI와 Weight은 종속변수에 큰 영향을 끼칠 것으로 판단된다.\n",
        "- AGE 변수에서 150세의 데이터 들이 여러개 관측 되었는데 이는 이상치로 보이며 , 이를 제외한 데이터셋으로 이후 분석에 사용하겠다."
      ],
      "metadata": {
        "id": "Glp0HZdl2hkJ"
      }
    },
    {
      "cell_type": "markdown",
      "source": [
        "## 1-2 데이터 전처리 기법 2가지를 설명하고 주어진 데이터에 적용시 어떤 효과가 있는지 설명하라"
      ],
      "metadata": {
        "id": "watwkhhc4ugF"
      }
    },
    {
      "cell_type": "markdown",
      "source": [
        "> 답변\n",
        "\n",
        "1. 데이터 인코딩\n",
        "  - 범주형 데이터들을 모델이 학습가능한 수치형 데이터로 변형 해 주는 기법으로 이산형 데이터로 변경하는 LabelEncoding 과 OneHotEncoding 기법 두가지가 대표적으로 사용된다.\n",
        "  - 해당 데이터는 범주형 데이터들이 많아서 OneHotEncoding 을 적용하게 되면 변수들이 많아지면서 모델 성능이 저하될 우려가 있다. 이에 Label Encoding 을 적용하도록 하겠다.\n",
        "\n",
        "2. 데이터 스케일링\n",
        " - 수치형 데이터를 정규화 해주는 방법으로 각기 다른 척도로 되어 있는 수치데이터 들을 하나의 척도로 정규화 시켜주는 방법이다. 대표적으로 정규분포를 기준으로 하는 Standard Scaling방법 과 최대값/최소값을 1/0 기준으로 하는 MinMaxScaler 등이 있습니다.\n",
        " - 해당 데이터는 범주형 변수들이 많으며 , 분류 문제이기 때문에 우선적으로 MinMaxScaler를 통해서 스케일링을 진행 하도록 하겠다."
      ],
      "metadata": {
        "id": "SQvnT_ch4xiz"
      }
    },
    {
      "cell_type": "markdown",
      "source": [
        "## 1-3 피쳐 엔지니어링을 통해 파생변수 1개를 생성하고 그 이유를 말하라"
      ],
      "metadata": {
        "id": "c5fRp3Vr-Jxj"
      }
    },
    {
      "cell_type": "markdown",
      "source": [
        "- 이산형 수치 변수인 AGE 컬럼에 대해서 binnig 으로 처리 하여 파생 변수를 생성 하겠다. 이를 통해서 나이를 복잡하지 않게 단순하게 처리 함으로서 모델링이 효율적으로 적용되게 하겠다."
      ],
      "metadata": {
        "id": "rJIFqtrF2alb"
      }
    },
    {
      "cell_type": "code",
      "source": [
        "df['Age_bin'] = pd.cut(df['Age'] , bins = [0 , 20 , 40 , 60 , 100] , labels = ['~20y' , '~40yr', '~60yr', '~100yr'])"
      ],
      "metadata": {
        "id": "_tgAJqxGJ414"
      },
      "execution_count": null,
      "outputs": []
    },
    {
      "cell_type": "markdown",
      "source": [
        "## 2-1 앙상블을 제외한 분류 모델 3가지 구축 및 결과 비교 및 설명하라\n"
      ],
      "metadata": {
        "id": "1cKx8tgqKvG3"
      }
    },
    {
      "cell_type": "code",
      "source": [
        "from sklearn.model_selection import train_test_split\n",
        "from sklearn.preprocessing import MinMaxScaler,LabelEncoder\n",
        "from sklearn.linear_model import LogisticRegression\n",
        "from sklearn.tree import DecisionTreeClassifier\n",
        "from sklearn.svm import SVC\n",
        "from sklearn.metrics import f1_score , classification_report"
      ],
      "metadata": {
        "id": "hzLKwz2CKydQ"
      },
      "execution_count": null,
      "outputs": []
    },
    {
      "cell_type": "code",
      "source": [
        "# Encoding\n",
        "cat_col =  ['Gender', 'family_history_with_overweight', 'FAVC', 'FCVC', 'CAEC',\n",
        "       'SMOKE', 'CH2O', 'SCC', 'FAF', 'TUE', 'CALC', 'MTRANS', 'Age_bin', 'NObeyesdad']\n",
        "\n",
        "encoder = {}\n",
        "for col in cat_col:\n",
        "  le = LabelEncoder()\n",
        "  df[col] = le.fit_transform(df[col])\n",
        "  encoder[col] = le"
      ],
      "metadata": {
        "id": "v6KNrQ06LhRT"
      },
      "execution_count": null,
      "outputs": []
    },
    {
      "cell_type": "code",
      "source": [
        "# Scailing\n",
        "df = df.drop('id' , axis = 1)\n",
        "feature = df.drop('NObeyesdad' , axis =1)\n",
        "target = df['NObeyesdad']\n",
        "\n",
        "scaler = MinMaxScaler()\n",
        "scale_data = scaler.fit_transform(feature)\n",
        "feature = pd.DataFrame(data =scale_data , columns = feature.columns)\n"
      ],
      "metadata": {
        "id": "L24JAkUaNFzf"
      },
      "execution_count": null,
      "outputs": []
    },
    {
      "cell_type": "code",
      "source": [
        "# 학습 ,검증 데이터 분리\n",
        "train_x , test_x , train_y , test_y  = train_test_split(feature , target , test_size= 0.3 ,random_state= 1114 )\n",
        "\n",
        "\n",
        "model_lr = LogisticRegression(class_weight='balanced' , random_state =1114)\n",
        "model_dt = DecisionTreeClassifier(class_weight='balanced' , random_state =1114)\n",
        "model_svc = SVC(kernel= 'rbf' , class_weight='balanced' , probability= True , random_state = 1114)\n",
        "\n",
        "models = [model_lr , model_dt , model_svc]\n",
        "pred_score = {}\n",
        "\n",
        "for model in models:\n",
        "  model.fit(train_x , train_y)\n",
        "  pred = model.predict(test_x)\n",
        "  score = f1_score(test_y , pred , average= 'macro')\n",
        "  model_name = type(model).__name__\n",
        "  pred_score[model_name] = score\n"
      ],
      "metadata": {
        "id": "2C72MwbxOZQX"
      },
      "execution_count": null,
      "outputs": []
    },
    {
      "cell_type": "code",
      "source": [
        "pd.Series(pred_score).to_frame().rename({0 : 'F1'} , axis = 1)"
      ],
      "metadata": {
        "colab": {
          "base_uri": "https://localhost:8080/",
          "height": 143
        },
        "id": "nsjwQSFsVuNq",
        "outputId": "74bb8365-af67-491d-d10d-b22fee33035e"
      },
      "execution_count": null,
      "outputs": [
        {
          "output_type": "execute_result",
          "data": {
            "text/plain": [
              "                              F1\n",
              "LogisticRegression      0.934022\n",
              "DecisionTreeClassifier  0.986735\n",
              "SVC                     0.966013"
            ],
            "text/html": [
              "\n",
              "  <div id=\"df-10b9bfe2-5819-45a7-9b33-1eded53db2e0\" class=\"colab-df-container\">\n",
              "    <div>\n",
              "<style scoped>\n",
              "    .dataframe tbody tr th:only-of-type {\n",
              "        vertical-align: middle;\n",
              "    }\n",
              "\n",
              "    .dataframe tbody tr th {\n",
              "        vertical-align: top;\n",
              "    }\n",
              "\n",
              "    .dataframe thead th {\n",
              "        text-align: right;\n",
              "    }\n",
              "</style>\n",
              "<table border=\"1\" class=\"dataframe\">\n",
              "  <thead>\n",
              "    <tr style=\"text-align: right;\">\n",
              "      <th></th>\n",
              "      <th>F1</th>\n",
              "    </tr>\n",
              "  </thead>\n",
              "  <tbody>\n",
              "    <tr>\n",
              "      <th>LogisticRegression</th>\n",
              "      <td>0.934022</td>\n",
              "    </tr>\n",
              "    <tr>\n",
              "      <th>DecisionTreeClassifier</th>\n",
              "      <td>0.986735</td>\n",
              "    </tr>\n",
              "    <tr>\n",
              "      <th>SVC</th>\n",
              "      <td>0.966013</td>\n",
              "    </tr>\n",
              "  </tbody>\n",
              "</table>\n",
              "</div>\n",
              "    <div class=\"colab-df-buttons\">\n",
              "\n",
              "  <div class=\"colab-df-container\">\n",
              "    <button class=\"colab-df-convert\" onclick=\"convertToInteractive('df-10b9bfe2-5819-45a7-9b33-1eded53db2e0')\"\n",
              "            title=\"Convert this dataframe to an interactive table.\"\n",
              "            style=\"display:none;\">\n",
              "\n",
              "  <svg xmlns=\"http://www.w3.org/2000/svg\" height=\"24px\" viewBox=\"0 -960 960 960\">\n",
              "    <path d=\"M120-120v-720h720v720H120Zm60-500h600v-160H180v160Zm220 220h160v-160H400v160Zm0 220h160v-160H400v160ZM180-400h160v-160H180v160Zm440 0h160v-160H620v160ZM180-180h160v-160H180v160Zm440 0h160v-160H620v160Z\"/>\n",
              "  </svg>\n",
              "    </button>\n",
              "\n",
              "  <style>\n",
              "    .colab-df-container {\n",
              "      display:flex;\n",
              "      gap: 12px;\n",
              "    }\n",
              "\n",
              "    .colab-df-convert {\n",
              "      background-color: #E8F0FE;\n",
              "      border: none;\n",
              "      border-radius: 50%;\n",
              "      cursor: pointer;\n",
              "      display: none;\n",
              "      fill: #1967D2;\n",
              "      height: 32px;\n",
              "      padding: 0 0 0 0;\n",
              "      width: 32px;\n",
              "    }\n",
              "\n",
              "    .colab-df-convert:hover {\n",
              "      background-color: #E2EBFA;\n",
              "      box-shadow: 0px 1px 2px rgba(60, 64, 67, 0.3), 0px 1px 3px 1px rgba(60, 64, 67, 0.15);\n",
              "      fill: #174EA6;\n",
              "    }\n",
              "\n",
              "    .colab-df-buttons div {\n",
              "      margin-bottom: 4px;\n",
              "    }\n",
              "\n",
              "    [theme=dark] .colab-df-convert {\n",
              "      background-color: #3B4455;\n",
              "      fill: #D2E3FC;\n",
              "    }\n",
              "\n",
              "    [theme=dark] .colab-df-convert:hover {\n",
              "      background-color: #434B5C;\n",
              "      box-shadow: 0px 1px 3px 1px rgba(0, 0, 0, 0.15);\n",
              "      filter: drop-shadow(0px 1px 2px rgba(0, 0, 0, 0.3));\n",
              "      fill: #FFFFFF;\n",
              "    }\n",
              "  </style>\n",
              "\n",
              "    <script>\n",
              "      const buttonEl =\n",
              "        document.querySelector('#df-10b9bfe2-5819-45a7-9b33-1eded53db2e0 button.colab-df-convert');\n",
              "      buttonEl.style.display =\n",
              "        google.colab.kernel.accessAllowed ? 'block' : 'none';\n",
              "\n",
              "      async function convertToInteractive(key) {\n",
              "        const element = document.querySelector('#df-10b9bfe2-5819-45a7-9b33-1eded53db2e0');\n",
              "        const dataTable =\n",
              "          await google.colab.kernel.invokeFunction('convertToInteractive',\n",
              "                                                    [key], {});\n",
              "        if (!dataTable) return;\n",
              "\n",
              "        const docLinkHtml = 'Like what you see? Visit the ' +\n",
              "          '<a target=\"_blank\" href=https://colab.research.google.com/notebooks/data_table.ipynb>data table notebook</a>'\n",
              "          + ' to learn more about interactive tables.';\n",
              "        element.innerHTML = '';\n",
              "        dataTable['output_type'] = 'display_data';\n",
              "        await google.colab.output.renderOutput(dataTable, element);\n",
              "        const docLink = document.createElement('div');\n",
              "        docLink.innerHTML = docLinkHtml;\n",
              "        element.appendChild(docLink);\n",
              "      }\n",
              "    </script>\n",
              "  </div>\n",
              "\n",
              "\n",
              "<div id=\"df-cc0087e0-99fc-4492-b16f-8ee0f7cdc3b1\">\n",
              "  <button class=\"colab-df-quickchart\" onclick=\"quickchart('df-cc0087e0-99fc-4492-b16f-8ee0f7cdc3b1')\"\n",
              "            title=\"Suggest charts\"\n",
              "            style=\"display:none;\">\n",
              "\n",
              "<svg xmlns=\"http://www.w3.org/2000/svg\" height=\"24px\"viewBox=\"0 0 24 24\"\n",
              "     width=\"24px\">\n",
              "    <g>\n",
              "        <path d=\"M19 3H5c-1.1 0-2 .9-2 2v14c0 1.1.9 2 2 2h14c1.1 0 2-.9 2-2V5c0-1.1-.9-2-2-2zM9 17H7v-7h2v7zm4 0h-2V7h2v10zm4 0h-2v-4h2v4z\"/>\n",
              "    </g>\n",
              "</svg>\n",
              "  </button>\n",
              "\n",
              "<style>\n",
              "  .colab-df-quickchart {\n",
              "      --bg-color: #E8F0FE;\n",
              "      --fill-color: #1967D2;\n",
              "      --hover-bg-color: #E2EBFA;\n",
              "      --hover-fill-color: #174EA6;\n",
              "      --disabled-fill-color: #AAA;\n",
              "      --disabled-bg-color: #DDD;\n",
              "  }\n",
              "\n",
              "  [theme=dark] .colab-df-quickchart {\n",
              "      --bg-color: #3B4455;\n",
              "      --fill-color: #D2E3FC;\n",
              "      --hover-bg-color: #434B5C;\n",
              "      --hover-fill-color: #FFFFFF;\n",
              "      --disabled-bg-color: #3B4455;\n",
              "      --disabled-fill-color: #666;\n",
              "  }\n",
              "\n",
              "  .colab-df-quickchart {\n",
              "    background-color: var(--bg-color);\n",
              "    border: none;\n",
              "    border-radius: 50%;\n",
              "    cursor: pointer;\n",
              "    display: none;\n",
              "    fill: var(--fill-color);\n",
              "    height: 32px;\n",
              "    padding: 0;\n",
              "    width: 32px;\n",
              "  }\n",
              "\n",
              "  .colab-df-quickchart:hover {\n",
              "    background-color: var(--hover-bg-color);\n",
              "    box-shadow: 0 1px 2px rgba(60, 64, 67, 0.3), 0 1px 3px 1px rgba(60, 64, 67, 0.15);\n",
              "    fill: var(--button-hover-fill-color);\n",
              "  }\n",
              "\n",
              "  .colab-df-quickchart-complete:disabled,\n",
              "  .colab-df-quickchart-complete:disabled:hover {\n",
              "    background-color: var(--disabled-bg-color);\n",
              "    fill: var(--disabled-fill-color);\n",
              "    box-shadow: none;\n",
              "  }\n",
              "\n",
              "  .colab-df-spinner {\n",
              "    border: 2px solid var(--fill-color);\n",
              "    border-color: transparent;\n",
              "    border-bottom-color: var(--fill-color);\n",
              "    animation:\n",
              "      spin 1s steps(1) infinite;\n",
              "  }\n",
              "\n",
              "  @keyframes spin {\n",
              "    0% {\n",
              "      border-color: transparent;\n",
              "      border-bottom-color: var(--fill-color);\n",
              "      border-left-color: var(--fill-color);\n",
              "    }\n",
              "    20% {\n",
              "      border-color: transparent;\n",
              "      border-left-color: var(--fill-color);\n",
              "      border-top-color: var(--fill-color);\n",
              "    }\n",
              "    30% {\n",
              "      border-color: transparent;\n",
              "      border-left-color: var(--fill-color);\n",
              "      border-top-color: var(--fill-color);\n",
              "      border-right-color: var(--fill-color);\n",
              "    }\n",
              "    40% {\n",
              "      border-color: transparent;\n",
              "      border-right-color: var(--fill-color);\n",
              "      border-top-color: var(--fill-color);\n",
              "    }\n",
              "    60% {\n",
              "      border-color: transparent;\n",
              "      border-right-color: var(--fill-color);\n",
              "    }\n",
              "    80% {\n",
              "      border-color: transparent;\n",
              "      border-right-color: var(--fill-color);\n",
              "      border-bottom-color: var(--fill-color);\n",
              "    }\n",
              "    90% {\n",
              "      border-color: transparent;\n",
              "      border-bottom-color: var(--fill-color);\n",
              "    }\n",
              "  }\n",
              "</style>\n",
              "\n",
              "  <script>\n",
              "    async function quickchart(key) {\n",
              "      const quickchartButtonEl =\n",
              "        document.querySelector('#' + key + ' button');\n",
              "      quickchartButtonEl.disabled = true;  // To prevent multiple clicks.\n",
              "      quickchartButtonEl.classList.add('colab-df-spinner');\n",
              "      try {\n",
              "        const charts = await google.colab.kernel.invokeFunction(\n",
              "            'suggestCharts', [key], {});\n",
              "      } catch (error) {\n",
              "        console.error('Error during call to suggestCharts:', error);\n",
              "      }\n",
              "      quickchartButtonEl.classList.remove('colab-df-spinner');\n",
              "      quickchartButtonEl.classList.add('colab-df-quickchart-complete');\n",
              "    }\n",
              "    (() => {\n",
              "      let quickchartButtonEl =\n",
              "        document.querySelector('#df-cc0087e0-99fc-4492-b16f-8ee0f7cdc3b1 button');\n",
              "      quickchartButtonEl.style.display =\n",
              "        google.colab.kernel.accessAllowed ? 'block' : 'none';\n",
              "    })();\n",
              "  </script>\n",
              "</div>\n",
              "\n",
              "    </div>\n",
              "  </div>\n"
            ],
            "application/vnd.google.colaboratory.intrinsic+json": {
              "type": "dataframe",
              "summary": "{\n  \"name\": \"pd\",\n  \"rows\": 3,\n  \"fields\": [\n    {\n      \"column\": \"F1\",\n      \"properties\": {\n        \"dtype\": \"number\",\n        \"std\": 0.02655634378340019,\n        \"min\": 0.9340219041543877,\n        \"max\": 0.9867345982229617,\n        \"num_unique_values\": 3,\n        \"samples\": [\n          0.9340219041543877,\n          0.9867345982229617,\n          0.9660127075467543\n        ],\n        \"semantic_type\": \"\",\n        \"description\": \"\"\n      }\n    }\n  ]\n}"
            }
          },
          "metadata": {},
          "execution_count": 17
        }
      ]
    },
    {
      "cell_type": "markdown",
      "source": [
        "> 답변\n",
        "- 로지스틱회귀(선형기반) , SVC(선형결정경계선 기반) , 의사결정나무(Tree 기반)  3가지 모델로 구축을 하였으며 , 지표는 다중분류의 정확성을 위해서 Macro F1-score 를 사용하였다.\n",
        "- 데이터셋의 불균형을 보완하기 위해서 개별 class에 가중치를 balanced 방법을 취했다.\n",
        "- 의사결정나무의 지표가 가장 높게 측정되었으며 , 이후 과정 에서 모델 고도화를 통해서 일반화 성능을 높이 도록 한다."
      ],
      "metadata": {
        "id": "lKy6gofeWrcB"
      }
    },
    {
      "cell_type": "markdown",
      "source": [
        "## 2-2 2-1에서 사용한 모델 중 하나를 골라 그리드 서치를 통해서 파라미터 튜닝 및 분류 모델 성능 평가 (precision ,recall)"
      ],
      "metadata": {
        "id": "5frnPaIuX4e8"
      }
    },
    {
      "cell_type": "code",
      "source": [
        "from sklearn.model_selection import GridSearchCV\n",
        "# 파라미터\n",
        "params = {\n",
        "    'max_depth':[3,5,7],\n",
        "    'min_samples_split':[3, 5, 7],\n",
        "    'min_samples_leaf':[1,5,10]\n",
        "}\n",
        "\n",
        "# GridSerchcv를 통한 파라미터 튜닝\n",
        "grid= GridSearchCV(model_dt , param_grid= params , scoring='f1_macro')\n",
        "grid.fit(train_x , train_y)\n",
        "print(grid.best_params_)\n",
        "print(grid.best_score_)\n"
      ],
      "metadata": {
        "colab": {
          "base_uri": "https://localhost:8080/"
        },
        "id": "bElMKWvhWT5O",
        "outputId": "8df9db5f-2387-4fc1-9d8b-cd5e8a9baaaf"
      },
      "execution_count": null,
      "outputs": [
        {
          "output_type": "stream",
          "name": "stdout",
          "text": [
            "{'max_depth': 5, 'min_samples_leaf': 1, 'min_samples_split': 3}\n",
            "0.9887839654707407\n"
          ]
        }
      ]
    },
    {
      "cell_type": "code",
      "source": [
        "# 최종 모델 평가\n",
        "grid_dt = grid.best_estimator_\n",
        "grid_dt.fit(train_x , train_y)\n",
        "pred = grid_dt.predict(test_x)\n",
        "print(classification_report(test_y , pred))\n",
        "\n",
        "print('SoftVoting 의  F1_Score', f1_score(test_y , pred , average= 'macro'))"
      ],
      "metadata": {
        "colab": {
          "base_uri": "https://localhost:8080/"
        },
        "id": "RonU1K4Ac-J-",
        "outputId": "75ab34ba-164f-4e59-b708-c38462ea4d5b"
      },
      "execution_count": null,
      "outputs": [
        {
          "output_type": "stream",
          "name": "stdout",
          "text": [
            "              precision    recall  f1-score   support\n",
            "\n",
            "           0       0.99      0.96      0.97        98\n",
            "           1       0.96      0.98      0.97        94\n",
            "           2       0.99      1.00      0.99        83\n",
            "           3       1.00      1.00      1.00       103\n",
            "\n",
            "    accuracy                           0.98       378\n",
            "   macro avg       0.98      0.98      0.98       378\n",
            "weighted avg       0.98      0.98      0.98       378\n",
            "\n",
            "SoftVoting 의  F1_Score 0.984131573232047\n"
          ]
        }
      ]
    },
    {
      "cell_type": "markdown",
      "source": [
        "> 답변\n",
        "- 그리드서치를 통해서 하이퍼파라미터 튜닝을 통한 f1-score는 하지 않았던 것과 크게 차이가 나지 않았다고 생각한다.\n",
        "- 모델의 prescision 과 recall 지표가 편향되지 않고 균일하게 관측됨으로서 모델의 일부 클래스에 크게 편향되지 않고 있다고 생각된다."
      ],
      "metadata": {
        "id": "4jomWQs5fG3V"
      }
    },
    {
      "cell_type": "markdown",
      "source": [
        "## 2-3 2-1의 3가지 모델을 soft voting을 이용하여 모델링 한 결과와 2-2과 비교하라"
      ],
      "metadata": {
        "id": "JrQKwpSzf_mh"
      }
    },
    {
      "cell_type": "code",
      "source": [
        "from sklearn.ensemble import VotingClassifier\n",
        "\n",
        "models = [('lr',model_lr) , ('dt',model_dt) , ('svc' ,model_svc)]\n",
        "\n",
        "soft_vote = VotingClassifier(estimators = models ,voting= 'soft')\n",
        "soft_vote.fit(train_x , train_y)\n",
        "vote_pred  = soft_vote.predict(test_x)\n",
        "print(classification_report(test_y , vote_pred))\n",
        "\n",
        "print('SoftVoting 의  F1_Score', f1_score(test_y , vote_pred , average= 'macro'))"
      ],
      "metadata": {
        "colab": {
          "base_uri": "https://localhost:8080/"
        },
        "id": "wT_e32Mpf_CU",
        "outputId": "7e49ec6c-3bdd-45d3-8a47-f93281f12e99"
      },
      "execution_count": null,
      "outputs": [
        {
          "output_type": "stream",
          "name": "stdout",
          "text": [
            "              precision    recall  f1-score   support\n",
            "\n",
            "           0       0.99      0.96      0.97        98\n",
            "           1       0.96      0.98      0.97        94\n",
            "           2       0.99      1.00      0.99        83\n",
            "           3       1.00      1.00      1.00       103\n",
            "\n",
            "    accuracy                           0.98       378\n",
            "   macro avg       0.98      0.98      0.98       378\n",
            "weighted avg       0.98      0.98      0.98       378\n",
            "\n",
            "SoftVoting 의  F1_Score 0.984131573232047\n"
          ]
        }
      ]
    },
    {
      "cell_type": "markdown",
      "source": [
        "> 답변\n",
        "- 튜닝한 모델과 SoftVoting한 모델의 결과는 동일하게 관측되고 있다. 다른 이슈가 없었으며 , Voting 과 파라미터 튜닝한 모델의 성능이 그렇지 않은 모델보다 좋을 거라고 생각하지 않는다."
      ],
      "metadata": {
        "id": "0H_hZAw7Kxvq"
      }
    },
    {
      "cell_type": "markdown",
      "source": [
        "## 3-2 하나의 모델을 선정하여 Drop Column Importance 방식으로 각 변수 별로 전체 컬럼을 포함한 모델과의 recall 값의 차이를 계산하고 시각화 하라"
      ],
      "metadata": {
        "id": "jhkOQdgYjdd6"
      }
    },
    {
      "cell_type": "code",
      "source": [
        "from sklearn.metrics import recall_score\n",
        "\n",
        "scores= {}\n",
        "\n",
        "model_dt.fit(train_x , train_y)\n",
        "pred_total = model_dt.predict(test_x)\n",
        "score_total = recall_score(test_y , pred_total , average= 'macro')\n",
        "\n",
        "for col in train_x.columns:\n",
        "  train = train_x.drop(col , axis =1)\n",
        "  test = test_x.drop(col , axis =1 )\n",
        "  model_dt.fit(train , train_y)\n",
        "  pred = model_dt.predict(test)\n",
        "  score = recall_score(test_y , pred , average= 'macro')\n",
        "  scores[col] = score_total-score"
      ],
      "metadata": {
        "id": "k8W8sJojjb1O"
      },
      "execution_count": null,
      "outputs": []
    },
    {
      "cell_type": "code",
      "source": [
        "temp = pd.Series(scores).sort_values(ascending = False)\n",
        "\n",
        "plt.figure(figsize = (6,6))\n",
        "sns.barplot(x = temp.values , y = temp.index , palette = 'coolwarm')\n",
        "plt.ylabel('DropColumnsImportance')\n",
        "plt.xlabel('Diff(Total - DropColumn)')\n",
        "plt.show()"
      ],
      "metadata": {
        "colab": {
          "base_uri": "https://localhost:8080/",
          "height": 540
        },
        "id": "OkzTok2vmniO",
        "outputId": "3b310501-0df8-4e38-e629-2dcad1dd87cc"
      },
      "execution_count": null,
      "outputs": [
        {
          "output_type": "display_data",
          "data": {
            "text/plain": [
              "<Figure size 600x600 with 1 Axes>"
            ],
            "image/png": "[encoded data removed]"
          },
          "metadata": {}
        }
      ]
    },
    {
      "cell_type": "markdown",
      "source": [
        "> 답변\n",
        "- 전체 컬럼이 포함한 모델의 지표와의 Drop Column 을 통해서 산출한 지표의 차이를 비교 했을때 , 성능에 끼치는 영향은 BMI 변수가 가장 중요하며 , Gender가 가장 약하다는 것을 관측 할 수 있다. 그 외 변수들은 모델 성능에 영향이 없다고 생각 할 수 있다."
      ],
      "metadata": {
        "id": "nupxZ0YhKsEm"
      }
    },
    {
      "cell_type": "markdown",
      "source": [
        "# 4\n",
        "\n",
        "- 데이터 출처 : 자체제작\n",
        "- 데이터 링크 : https://raw.githubusercontent.com/Datamanim/datarepo/main/adp/31/adp_31_2_v2.csv\n",
        "- 데이터 설명 : 중고등학생 건강검진 데이터"
      ],
      "metadata": {
        "id": "SWLTOyfPuQhD"
      }
    },
    {
      "cell_type": "markdown",
      "source": [
        "## 4-1 아래의 기준으로 전처리를 하여 적정 체중 여부 컬럼을 생성하고 BMI를 5단위로 구분하여 와 적정 체중여부에 대한 빈도 표를 만들어라"
      ],
      "metadata": {
        "id": "wEYS-P8yubUo"
      }
    },
    {
      "cell_type": "markdown",
      "source": [],
      "metadata": {
        "id": "I_ofxJfLuvbE"
      }
    },
    {
      "cell_type": "markdown",
      "source": [
        ">bmi 계산\n",
        "\n",
        "- Bmi = 몸무게(kg)/(키(m)**2)   \n",
        "\n",
        ">만나이 구하기\n",
        "\n",
        "- 건강검진을 받았던 날을 기준으로 생년월일과 일수 차이가 16년 364일 이하인 경우 만 16세 그 이상의 경우 만 17로 분류하라\n",
        "- 윤년 등은 고려하지 않는다. 햇수로 16년 + 일수로 364일이 기준이다\n",
        "\n",
        "\n",
        "- 적정 체중 여부 (BMI가 아래 구간에 들어올 경우)\n",
        "- 17세 남자 : 21.03이상 23.21 미만\n",
        "- 17세 여자 : 20.03이상 22.39 미만\n",
        "- 16세 남자 : 21.18이상 23.45 미만\n",
        "- 16세 여자 : 19.61이상 21.74 미만"
      ],
      "metadata": {
        "id": "QXKNN7iuuf3G"
      }
    },
    {
      "cell_type": "code",
      "source": [
        "df = pd.read_csv('https://raw.githubusercontent.com/Datamanim/datarepo/main/adp/31/adp_31_2_v2.csv')\n",
        "df.head()"
      ],
      "metadata": {
        "id": "UH3IGXsKuHIW"
      },
      "execution_count": null,
      "outputs": []
    },
    {
      "cell_type": "code",
      "source": [
        "df['생년월일'] = pd.to_datetime(df['생년월일'] ,format = '%Y%m%d')\n",
        "df['건강검진일'] = pd.to_datetime(df['건강검진일'] ,format = '%Y_%m_%d')"
      ],
      "metadata": {
        "id": "0jhir4epu3MF"
      },
      "execution_count": null,
      "outputs": []
    },
    {
      "cell_type": "code",
      "source": [
        "# BMI\n",
        "df['BMI'] = df['weight']/(df['키']/100)**2"
      ],
      "metadata": {
        "id": "4G1L-hcdvUvi"
      },
      "execution_count": null,
      "outputs": []
    },
    {
      "cell_type": "code",
      "source": [
        "from datetime import datetime\n",
        "\n",
        "now_date =datetime.now()\n",
        "\n",
        "# 만나이 구하기\n",
        "def age_cal(x):\n",
        "  age = now_date.year - x.year\n",
        "  if (x.month >= now_date.month) or ((x.month == now_date.month) and (x.day > now_date.day)):\n",
        "    age -=1\n",
        "  return age\n",
        "\n",
        "df['만나이'] = df['생년월일'].apply(age_cal)"
      ],
      "metadata": {
        "id": "FCZ56kJHvnrQ"
      },
      "execution_count": null,
      "outputs": []
    },
    {
      "cell_type": "code",
      "source": [
        "df['BMI'] = df['BMI'].apply(lambda x : round(x , 2))\n",
        "df['BMI_bin'] = pd.qcut(df['BMI'] , 5 , labels = [1,2,3,4,5])\n",
        "df['BMI_bin'].value_counts()"
      ],
      "metadata": {
        "id": "wEHIDqm3zw4Z"
      },
      "execution_count": null,
      "outputs": []
    },
    {
      "cell_type": "code",
      "source": [
        "def weight_detect(x):\n",
        "  if (x['성별']== '남성') & (23.21 > x['BMI'] >= 21.03) & (x['만나이']== 17):\n",
        "    return '적정'\n",
        "  elif (x['성별']== '여자') & (22.39 > x['BMI'] >= 20.03) & (x['만나이']== 17):\n",
        "    return '적정'\n",
        "  elif (x['성별']== '남자') & (23.45 > x['BMI'] >= 21.18) & (x['만나이']== 16):\n",
        "    return '적정'\n",
        "  elif (x['성별']== '여자') & (21.74 > x['BMI'] >= 19.61) & (x['만나이']== 16):\n",
        "    return '적정'\n",
        "  else:\n",
        "    return '비적정'\n",
        "\n",
        "df['적정체중여부'] = df.apply(weight_detect , axis =1)\n"
      ],
      "metadata": {
        "id": "seWEKWNT008f"
      },
      "execution_count": null,
      "outputs": []
    },
    {
      "cell_type": "code",
      "source": [
        "df['적정체중여부'].value_counts()"
      ],
      "metadata": {
        "colab": {
          "base_uri": "https://localhost:8080/"
        },
        "id": "bfSh3QAJ4BKo",
        "outputId": "85044af5-972d-475c-815a-aca76aa990bc"
      },
      "execution_count": null,
      "outputs": [
        {
          "output_type": "execute_result",
          "data": {
            "text/plain": [
              "비적정    6638\n",
              "적정      163\n",
              "Name: 적정체중여부, dtype: int64"
            ]
          },
          "metadata": {},
          "execution_count": 29
        }
      ]
    },
    {
      "cell_type": "markdown",
      "source": [
        "## 4-2 4-1에서 구한 적정 체중 여부와 나머지 컬럼(공학여부, 아침식사여부, 일주일운동시간, 채소섭취정도, 수면시간, 성별) 이 독립적인지 통계적으로 확인하라"
      ],
      "metadata": {
        "id": "Z1OWpoPF4hdn"
      }
    },
    {
      "cell_type": "code",
      "source": [
        "# 범주형 변수에 대한 독립성 검정\n",
        "cat_cols = ['공학여부' ,'아침식사여부' , '채소섭취정도' , '성별']\n",
        "\n",
        "chi2 = {}\n",
        "\n",
        "for col in cat_cols:\n",
        "  temp = pd.crosstab(df['적정체중여부'], df[col])\n",
        "  p_value = stat.chi2_contingency(temp).pvalue\n",
        "\n",
        "  if p_value >= 0.05:\n",
        "    chi2[col] = ('귀무가설채택',p_value)\n",
        "  else:\n",
        "    chi2[col] = ('대립가설채택',p_value)\n",
        "\n"
      ],
      "metadata": {
        "id": "CQ-9dVqb4eBl"
      },
      "execution_count": null,
      "outputs": []
    },
    {
      "cell_type": "code",
      "source": [
        "# 수치형 변수에 대한 독립성 검정\n",
        "cat_cols = ['일주일운동시간' , '수면시간']\n",
        "\n",
        "ttest = {}\n",
        "for col in cat_cols:\n",
        "  temp = df.loc[df['적정체중여부']=='적정' , col]\n",
        "  temp2 = df.loc[df['적정체중여부']=='비적정' , col]\n",
        "  p_value = stat.ttest_ind(temp , temp2).pvalue\n",
        "  if p_value >= 0.05:\n",
        "    ttest[col] = ('귀무가설채택',p_value)\n",
        "  else:\n",
        "    ttest[col] = ('대립가설채택',p_value)\n",
        "\n",
        "display(pd.Series(chi2).apply(pd.Series).rename({0:'Chi검정', 1:'P-value'} , axis =1))\n",
        "display(pd.Series(ttest).apply(pd.Series).rename({0:'ttest검정', 1:'P-value'} , axis =1))"
      ],
      "metadata": {
        "colab": {
          "base_uri": "https://localhost:8080/",
          "height": 269
        },
        "id": "gEfCRK9O7Sht",
        "outputId": "c3fc1735-d243-488f-8d26-48945675eea9"
      },
      "execution_count": null,
      "outputs": [
        {
          "output_type": "display_data",
          "data": {
            "text/plain": [
              "         Chi검정       P-value\n",
              "공학여부    대립가설채택  3.471578e-02\n",
              "아침식사여부  귀무가설채택  5.263451e-02\n",
              "채소섭취정도  귀무가설채택  1.119725e-01\n",
              "성별      대립가설채택  1.185628e-48"
            ],
            "text/html": [
              "\n",
              "  <div id=\"df-15fb932f-8c3d-42a7-bbb8-3903ef8a80c7\" class=\"colab-df-container\">\n",
              "    <div>\n",
              "<style scoped>\n",
              "    .dataframe tbody tr th:only-of-type {\n",
              "        vertical-align: middle;\n",
              "    }\n",
              "\n",
              "    .dataframe tbody tr th {\n",
              "        vertical-align: top;\n",
              "    }\n",
              "\n",
              "    .dataframe thead th {\n",
              "        text-align: right;\n",
              "    }\n",
              "</style>\n",
              "<table border=\"1\" class=\"dataframe\">\n",
              "  <thead>\n",
              "    <tr style=\"text-align: right;\">\n",
              "      <th></th>\n",
              "      <th>Chi검정</th>\n",
              "      <th>P-value</th>\n",
              "    </tr>\n",
              "  </thead>\n",
              "  <tbody>\n",
              "    <tr>\n",
              "      <th>공학여부</th>\n",
              "      <td>대립가설채택</td>\n",
              "      <td>3.471578e-02</td>\n",
              "    </tr>\n",
              "    <tr>\n",
              "      <th>아침식사여부</th>\n",
              "      <td>귀무가설채택</td>\n",
              "      <td>5.263451e-02</td>\n",
              "    </tr>\n",
              "    <tr>\n",
              "      <th>채소섭취정도</th>\n",
              "      <td>귀무가설채택</td>\n",
              "      <td>1.119725e-01</td>\n",
              "    </tr>\n",
              "    <tr>\n",
              "      <th>성별</th>\n",
              "      <td>대립가설채택</td>\n",
              "      <td>1.185628e-48</td>\n",
              "    </tr>\n",
              "  </tbody>\n",
              "</table>\n",
              "</div>\n",
              "    <div class=\"colab-df-buttons\">\n",
              "\n",
              "  <div class=\"colab-df-container\">\n",
              "    <button class=\"colab-df-convert\" onclick=\"convertToInteractive('df-15fb932f-8c3d-42a7-bbb8-3903ef8a80c7')\"\n",
              "            title=\"Convert this dataframe to an interactive table.\"\n",
              "            style=\"display:none;\">\n",
              "\n",
              "  <svg xmlns=\"http://www.w3.org/2000/svg\" height=\"24px\" viewBox=\"0 -960 960 960\">\n",
              "    <path d=\"M120-120v-720h720v720H120Zm60-500h600v-160H180v160Zm220 220h160v-160H400v160Zm0 220h160v-160H400v160ZM180-400h160v-160H180v160Zm440 0h160v-160H620v160ZM180-180h160v-160H180v160Zm440 0h160v-160H620v160Z\"/>\n",
              "  </svg>\n",
              "    </button>\n",
              "\n",
              "  <style>\n",
              "    .colab-df-container {\n",
              "      display:flex;\n",
              "      gap: 12px;\n",
              "    }\n",
              "\n",
              "    .colab-df-convert {\n",
              "      background-color: #E8F0FE;\n",
              "      border: none;\n",
              "      border-radius: 50%;\n",
              "      cursor: pointer;\n",
              "      display: none;\n",
              "      fill: #1967D2;\n",
              "      height: 32px;\n",
              "      padding: 0 0 0 0;\n",
              "      width: 32px;\n",
              "    }\n",
              "\n",
              "    .colab-df-convert:hover {\n",
              "      background-color: #E2EBFA;\n",
              "      box-shadow: 0px 1px 2px rgba(60, 64, 67, 0.3), 0px 1px 3px 1px rgba(60, 64, 67, 0.15);\n",
              "      fill: #174EA6;\n",
              "    }\n",
              "\n",
              "    .colab-df-buttons div {\n",
              "      margin-bottom: 4px;\n",
              "    }\n",
              "\n",
              "    [theme=dark] .colab-df-convert {\n",
              "      background-color: #3B4455;\n",
              "      fill: #D2E3FC;\n",
              "    }\n",
              "\n",
              "    [theme=dark] .colab-df-convert:hover {\n",
              "      background-color: #434B5C;\n",
              "      box-shadow: 0px 1px 3px 1px rgba(0, 0, 0, 0.15);\n",
              "      filter: drop-shadow(0px 1px 2px rgba(0, 0, 0, 0.3));\n",
              "      fill: #FFFFFF;\n",
              "    }\n",
              "  </style>\n",
              "\n",
              "    <script>\n",
              "      const buttonEl =\n",
              "        document.querySelector('#df-15fb932f-8c3d-42a7-bbb8-3903ef8a80c7 button.colab-df-convert');\n",
              "      buttonEl.style.display =\n",
              "        google.colab.kernel.accessAllowed ? 'block' : 'none';\n",
              "\n",
              "      async function convertToInteractive(key) {\n",
              "        const element = document.querySelector('#df-15fb932f-8c3d-42a7-bbb8-3903ef8a80c7');\n",
              "        const dataTable =\n",
              "          await google.colab.kernel.invokeFunction('convertToInteractive',\n",
              "                                                    [key], {});\n",
              "        if (!dataTable) return;\n",
              "\n",
              "        const docLinkHtml = 'Like what you see? Visit the ' +\n",
              "          '<a target=\"_blank\" href=https://colab.research.google.com/notebooks/data_table.ipynb>data table notebook</a>'\n",
              "          + ' to learn more about interactive tables.';\n",
              "        element.innerHTML = '';\n",
              "        dataTable['output_type'] = 'display_data';\n",
              "        await google.colab.output.renderOutput(dataTable, element);\n",
              "        const docLink = document.createElement('div');\n",
              "        docLink.innerHTML = docLinkHtml;\n",
              "        element.appendChild(docLink);\n",
              "      }\n",
              "    </script>\n",
              "  </div>\n",
              "\n",
              "\n",
              "<div id=\"df-2967ea45-16fd-4c95-89dd-cf4951a161fe\">\n",
              "  <button class=\"colab-df-quickchart\" onclick=\"quickchart('df-2967ea45-16fd-4c95-89dd-cf4951a161fe')\"\n",
              "            title=\"Suggest charts\"\n",
              "            style=\"display:none;\">\n",
              "\n",
              "<svg xmlns=\"http://www.w3.org/2000/svg\" height=\"24px\"viewBox=\"0 0 24 24\"\n",
              "     width=\"24px\">\n",
              "    <g>\n",
              "        <path d=\"M19 3H5c-1.1 0-2 .9-2 2v14c0 1.1.9 2 2 2h14c1.1 0 2-.9 2-2V5c0-1.1-.9-2-2-2zM9 17H7v-7h2v7zm4 0h-2V7h2v10zm4 0h-2v-4h2v4z\"/>\n",
              "    </g>\n",
              "</svg>\n",
              "  </button>\n",
              "\n",
              "<style>\n",
              "  .colab-df-quickchart {\n",
              "      --bg-color: #E8F0FE;\n",
              "      --fill-color: #1967D2;\n",
              "      --hover-bg-color: #E2EBFA;\n",
              "      --hover-fill-color: #174EA6;\n",
              "      --disabled-fill-color: #AAA;\n",
              "      --disabled-bg-color: #DDD;\n",
              "  }\n",
              "\n",
              "  [theme=dark] .colab-df-quickchart {\n",
              "      --bg-color: #3B4455;\n",
              "      --fill-color: #D2E3FC;\n",
              "      --hover-bg-color: #434B5C;\n",
              "      --hover-fill-color: #FFFFFF;\n",
              "      --disabled-bg-color: #3B4455;\n",
              "      --disabled-fill-color: #666;\n",
              "  }\n",
              "\n",
              "  .colab-df-quickchart {\n",
              "    background-color: var(--bg-color);\n",
              "    border: none;\n",
              "    border-radius: 50%;\n",
              "    cursor: pointer;\n",
              "    display: none;\n",
              "    fill: var(--fill-color);\n",
              "    height: 32px;\n",
              "    padding: 0;\n",
              "    width: 32px;\n",
              "  }\n",
              "\n",
              "  .colab-df-quickchart:hover {\n",
              "    background-color: var(--hover-bg-color);\n",
              "    box-shadow: 0 1px 2px rgba(60, 64, 67, 0.3), 0 1px 3px 1px rgba(60, 64, 67, 0.15);\n",
              "    fill: var(--button-hover-fill-color);\n",
              "  }\n",
              "\n",
              "  .colab-df-quickchart-complete:disabled,\n",
              "  .colab-df-quickchart-complete:disabled:hover {\n",
              "    background-color: var(--disabled-bg-color);\n",
              "    fill: var(--disabled-fill-color);\n",
              "    box-shadow: none;\n",
              "  }\n",
              "\n",
              "  .colab-df-spinner {\n",
              "    border: 2px solid var(--fill-color);\n",
              "    border-color: transparent;\n",
              "    border-bottom-color: var(--fill-color);\n",
              "    animation:\n",
              "      spin 1s steps(1) infinite;\n",
              "  }\n",
              "\n",
              "  @keyframes spin {\n",
              "    0% {\n",
              "      border-color: transparent;\n",
              "      border-bottom-color: var(--fill-color);\n",
              "      border-left-color: var(--fill-color);\n",
              "    }\n",
              "    20% {\n",
              "      border-color: transparent;\n",
              "      border-left-color: var(--fill-color);\n",
              "      border-top-color: var(--fill-color);\n",
              "    }\n",
              "    30% {\n",
              "      border-color: transparent;\n",
              "      border-left-color: var(--fill-color);\n",
              "      border-top-color: var(--fill-color);\n",
              "      border-right-color: var(--fill-color);\n",
              "    }\n",
              "    40% {\n",
              "      border-color: transparent;\n",
              "      border-right-color: var(--fill-color);\n",
              "      border-top-color: var(--fill-color);\n",
              "    }\n",
              "    60% {\n",
              "      border-color: transparent;\n",
              "      border-right-color: var(--fill-color);\n",
              "    }\n",
              "    80% {\n",
              "      border-color: transparent;\n",
              "      border-right-color: var(--fill-color);\n",
              "      border-bottom-color: var(--fill-color);\n",
              "    }\n",
              "    90% {\n",
              "      border-color: transparent;\n",
              "      border-bottom-color: var(--fill-color);\n",
              "    }\n",
              "  }\n",
              "</style>\n",
              "\n",
              "  <script>\n",
              "    async function quickchart(key) {\n",
              "      const quickchartButtonEl =\n",
              "        document.querySelector('#' + key + ' button');\n",
              "      quickchartButtonEl.disabled = true;  // To prevent multiple clicks.\n",
              "      quickchartButtonEl.classList.add('colab-df-spinner');\n",
              "      try {\n",
              "        const charts = await google.colab.kernel.invokeFunction(\n",
              "            'suggestCharts', [key], {});\n",
              "      } catch (error) {\n",
              "        console.error('Error during call to suggestCharts:', error);\n",
              "      }\n",
              "      quickchartButtonEl.classList.remove('colab-df-spinner');\n",
              "      quickchartButtonEl.classList.add('colab-df-quickchart-complete');\n",
              "    }\n",
              "    (() => {\n",
              "      let quickchartButtonEl =\n",
              "        document.querySelector('#df-2967ea45-16fd-4c95-89dd-cf4951a161fe button');\n",
              "      quickchartButtonEl.style.display =\n",
              "        google.colab.kernel.accessAllowed ? 'block' : 'none';\n",
              "    })();\n",
              "  </script>\n",
              "</div>\n",
              "\n",
              "    </div>\n",
              "  </div>\n"
            ],
            "application/vnd.google.colaboratory.intrinsic+json": {
              "type": "dataframe",
              "summary": "{\n  \"name\": \"display(pd\",\n  \"rows\": 4,\n  \"fields\": [\n    {\n      \"column\": \"Chi\\uac80\\uc815\",\n      \"properties\": {\n        \"dtype\": \"string\",\n        \"num_unique_values\": 2,\n        \"samples\": [\n          \"\\uadc0\\ubb34\\uac00\\uc124\\ucc44\\ud0dd\",\n          \"\\ub300\\ub9bd\\uac00\\uc124\\ucc44\\ud0dd\"\n        ],\n        \"semantic_type\": \"\",\n        \"description\": \"\"\n      }\n    },\n    {\n      \"column\": \"P-value\",\n      \"properties\": {\n        \"dtype\": \"number\",\n        \"std\": 0.04683668177763576,\n        \"min\": 1.1856275424527332e-48,\n        \"max\": 0.11197250167553473,\n        \"num_unique_values\": 4,\n        \"samples\": [\n          0.05263451076744924,\n          1.1856275424527332e-48\n        ],\n        \"semantic_type\": \"\",\n        \"description\": \"\"\n      }\n    }\n  ]\n}"
            }
          },
          "metadata": {}
        },
        {
          "output_type": "display_data",
          "data": {
            "text/plain": [
              "        ttest검정   P-value\n",
              "일주일운동시간  귀무가설채택  0.711095\n",
              "수면시간     귀무가설채택  0.061753"
            ],
            "text/html": [
              "\n",
              "  <div id=\"df-7d609805-de1b-499d-9ef9-5bbc61e4f8fb\" class=\"colab-df-container\">\n",
              "    <div>\n",
              "<style scoped>\n",
              "    .dataframe tbody tr th:only-of-type {\n",
              "        vertical-align: middle;\n",
              "    }\n",
              "\n",
              "    .dataframe tbody tr th {\n",
              "        vertical-align: top;\n",
              "    }\n",
              "\n",
              "    .dataframe thead th {\n",
              "        text-align: right;\n",
              "    }\n",
              "</style>\n",
              "<table border=\"1\" class=\"dataframe\">\n",
              "  <thead>\n",
              "    <tr style=\"text-align: right;\">\n",
              "      <th></th>\n",
              "      <th>ttest검정</th>\n",
              "      <th>P-value</th>\n",
              "    </tr>\n",
              "  </thead>\n",
              "  <tbody>\n",
              "    <tr>\n",
              "      <th>일주일운동시간</th>\n",
              "      <td>귀무가설채택</td>\n",
              "      <td>0.711095</td>\n",
              "    </tr>\n",
              "    <tr>\n",
              "      <th>수면시간</th>\n",
              "      <td>귀무가설채택</td>\n",
              "      <td>0.061753</td>\n",
              "    </tr>\n",
              "  </tbody>\n",
              "</table>\n",
              "</div>\n",
              "    <div class=\"colab-df-buttons\">\n",
              "\n",
              "  <div class=\"colab-df-container\">\n",
              "    <button class=\"colab-df-convert\" onclick=\"convertToInteractive('df-7d609805-de1b-499d-9ef9-5bbc61e4f8fb')\"\n",
              "            title=\"Convert this dataframe to an interactive table.\"\n",
              "            style=\"display:none;\">\n",
              "\n",
              "  <svg xmlns=\"http://www.w3.org/2000/svg\" height=\"24px\" viewBox=\"0 -960 960 960\">\n",
              "    <path d=\"M120-120v-720h720v720H120Zm60-500h600v-160H180v160Zm220 220h160v-160H400v160Zm0 220h160v-160H400v160ZM180-400h160v-160H180v160Zm440 0h160v-160H620v160ZM180-180h160v-160H180v160Zm440 0h160v-160H620v160Z\"/>\n",
              "  </svg>\n",
              "    </button>\n",
              "\n",
              "  <style>\n",
              "    .colab-df-container {\n",
              "      display:flex;\n",
              "      gap: 12px;\n",
              "    }\n",
              "\n",
              "    .colab-df-convert {\n",
              "      background-color: #E8F0FE;\n",
              "      border: none;\n",
              "      border-radius: 50%;\n",
              "      cursor: pointer;\n",
              "      display: none;\n",
              "      fill: #1967D2;\n",
              "      height: 32px;\n",
              "      padding: 0 0 0 0;\n",
              "      width: 32px;\n",
              "    }\n",
              "\n",
              "    .colab-df-convert:hover {\n",
              "      background-color: #E2EBFA;\n",
              "      box-shadow: 0px 1px 2px rgba(60, 64, 67, 0.3), 0px 1px 3px 1px rgba(60, 64, 67, 0.15);\n",
              "      fill: #174EA6;\n",
              "    }\n",
              "\n",
              "    .colab-df-buttons div {\n",
              "      margin-bottom: 4px;\n",
              "    }\n",
              "\n",
              "    [theme=dark] .colab-df-convert {\n",
              "      background-color: #3B4455;\n",
              "      fill: #D2E3FC;\n",
              "    }\n",
              "\n",
              "    [theme=dark] .colab-df-convert:hover {\n",
              "      background-color: #434B5C;\n",
              "      box-shadow: 0px 1px 3px 1px rgba(0, 0, 0, 0.15);\n",
              "      filter: drop-shadow(0px 1px 2px rgba(0, 0, 0, 0.3));\n",
              "      fill: #FFFFFF;\n",
              "    }\n",
              "  </style>\n",
              "\n",
              "    <script>\n",
              "      const buttonEl =\n",
              "        document.querySelector('#df-7d609805-de1b-499d-9ef9-5bbc61e4f8fb button.colab-df-convert');\n",
              "      buttonEl.style.display =\n",
              "        google.colab.kernel.accessAllowed ? 'block' : 'none';\n",
              "\n",
              "      async function convertToInteractive(key) {\n",
              "        const element = document.querySelector('#df-7d609805-de1b-499d-9ef9-5bbc61e4f8fb');\n",
              "        const dataTable =\n",
              "          await google.colab.kernel.invokeFunction('convertToInteractive',\n",
              "                                                    [key], {});\n",
              "        if (!dataTable) return;\n",
              "\n",
              "        const docLinkHtml = 'Like what you see? Visit the ' +\n",
              "          '<a target=\"_blank\" href=https://colab.research.google.com/notebooks/data_table.ipynb>data table notebook</a>'\n",
              "          + ' to learn more about interactive tables.';\n",
              "        element.innerHTML = '';\n",
              "        dataTable['output_type'] = 'display_data';\n",
              "        await google.colab.output.renderOutput(dataTable, element);\n",
              "        const docLink = document.createElement('div');\n",
              "        docLink.innerHTML = docLinkHtml;\n",
              "        element.appendChild(docLink);\n",
              "      }\n",
              "    </script>\n",
              "  </div>\n",
              "\n",
              "\n",
              "<div id=\"df-b3b0f9fe-35d8-4472-84c4-6f9df19f6c42\">\n",
              "  <button class=\"colab-df-quickchart\" onclick=\"quickchart('df-b3b0f9fe-35d8-4472-84c4-6f9df19f6c42')\"\n",
              "            title=\"Suggest charts\"\n",
              "            style=\"display:none;\">\n",
              "\n",
              "<svg xmlns=\"http://www.w3.org/2000/svg\" height=\"24px\"viewBox=\"0 0 24 24\"\n",
              "     width=\"24px\">\n",
              "    <g>\n",
              "        <path d=\"M19 3H5c-1.1 0-2 .9-2 2v14c0 1.1.9 2 2 2h14c1.1 0 2-.9 2-2V5c0-1.1-.9-2-2-2zM9 17H7v-7h2v7zm4 0h-2V7h2v10zm4 0h-2v-4h2v4z\"/>\n",
              "    </g>\n",
              "</svg>\n",
              "  </button>\n",
              "\n",
              "<style>\n",
              "  .colab-df-quickchart {\n",
              "      --bg-color: #E8F0FE;\n",
              "      --fill-color: #1967D2;\n",
              "      --hover-bg-color: #E2EBFA;\n",
              "      --hover-fill-color: #174EA6;\n",
              "      --disabled-fill-color: #AAA;\n",
              "      --disabled-bg-color: #DDD;\n",
              "  }\n",
              "\n",
              "  [theme=dark] .colab-df-quickchart {\n",
              "      --bg-color: #3B4455;\n",
              "      --fill-color: #D2E3FC;\n",
              "      --hover-bg-color: #434B5C;\n",
              "      --hover-fill-color: #FFFFFF;\n",
              "      --disabled-bg-color: #3B4455;\n",
              "      --disabled-fill-color: #666;\n",
              "  }\n",
              "\n",
              "  .colab-df-quickchart {\n",
              "    background-color: var(--bg-color);\n",
              "    border: none;\n",
              "    border-radius: 50%;\n",
              "    cursor: pointer;\n",
              "    display: none;\n",
              "    fill: var(--fill-color);\n",
              "    height: 32px;\n",
              "    padding: 0;\n",
              "    width: 32px;\n",
              "  }\n",
              "\n",
              "  .colab-df-quickchart:hover {\n",
              "    background-color: var(--hover-bg-color);\n",
              "    box-shadow: 0 1px 2px rgba(60, 64, 67, 0.3), 0 1px 3px 1px rgba(60, 64, 67, 0.15);\n",
              "    fill: var(--button-hover-fill-color);\n",
              "  }\n",
              "\n",
              "  .colab-df-quickchart-complete:disabled,\n",
              "  .colab-df-quickchart-complete:disabled:hover {\n",
              "    background-color: var(--disabled-bg-color);\n",
              "    fill: var(--disabled-fill-color);\n",
              "    box-shadow: none;\n",
              "  }\n",
              "\n",
              "  .colab-df-spinner {\n",
              "    border: 2px solid var(--fill-color);\n",
              "    border-color: transparent;\n",
              "    border-bottom-color: var(--fill-color);\n",
              "    animation:\n",
              "      spin 1s steps(1) infinite;\n",
              "  }\n",
              "\n",
              "  @keyframes spin {\n",
              "    0% {\n",
              "      border-color: transparent;\n",
              "      border-bottom-color: var(--fill-color);\n",
              "      border-left-color: var(--fill-color);\n",
              "    }\n",
              "    20% {\n",
              "      border-color: transparent;\n",
              "      border-left-color: var(--fill-color);\n",
              "      border-top-color: var(--fill-color);\n",
              "    }\n",
              "    30% {\n",
              "      border-color: transparent;\n",
              "      border-left-color: var(--fill-color);\n",
              "      border-top-color: var(--fill-color);\n",
              "      border-right-color: var(--fill-color);\n",
              "    }\n",
              "    40% {\n",
              "      border-color: transparent;\n",
              "      border-right-color: var(--fill-color);\n",
              "      border-top-color: var(--fill-color);\n",
              "    }\n",
              "    60% {\n",
              "      border-color: transparent;\n",
              "      border-right-color: var(--fill-color);\n",
              "    }\n",
              "    80% {\n",
              "      border-color: transparent;\n",
              "      border-right-color: var(--fill-color);\n",
              "      border-bottom-color: var(--fill-color);\n",
              "    }\n",
              "    90% {\n",
              "      border-color: transparent;\n",
              "      border-bottom-color: var(--fill-color);\n",
              "    }\n",
              "  }\n",
              "</style>\n",
              "\n",
              "  <script>\n",
              "    async function quickchart(key) {\n",
              "      const quickchartButtonEl =\n",
              "        document.querySelector('#' + key + ' button');\n",
              "      quickchartButtonEl.disabled = true;  // To prevent multiple clicks.\n",
              "      quickchartButtonEl.classList.add('colab-df-spinner');\n",
              "      try {\n",
              "        const charts = await google.colab.kernel.invokeFunction(\n",
              "            'suggestCharts', [key], {});\n",
              "      } catch (error) {\n",
              "        console.error('Error during call to suggestCharts:', error);\n",
              "      }\n",
              "      quickchartButtonEl.classList.remove('colab-df-spinner');\n",
              "      quickchartButtonEl.classList.add('colab-df-quickchart-complete');\n",
              "    }\n",
              "    (() => {\n",
              "      let quickchartButtonEl =\n",
              "        document.querySelector('#df-b3b0f9fe-35d8-4472-84c4-6f9df19f6c42 button');\n",
              "      quickchartButtonEl.style.display =\n",
              "        google.colab.kernel.accessAllowed ? 'block' : 'none';\n",
              "    })();\n",
              "  </script>\n",
              "</div>\n",
              "\n",
              "    </div>\n",
              "  </div>\n"
            ],
            "application/vnd.google.colaboratory.intrinsic+json": {
              "type": "dataframe",
              "summary": "{\n  \"name\": \"display(pd\",\n  \"rows\": 2,\n  \"fields\": [\n    {\n      \"column\": \"ttest\\uac80\\uc815\",\n      \"properties\": {\n        \"dtype\": \"string\",\n        \"num_unique_values\": 1,\n        \"samples\": [\n          \"\\uadc0\\ubb34\\uac00\\uc124\\ucc44\\ud0dd\"\n        ],\n        \"semantic_type\": \"\",\n        \"description\": \"\"\n      }\n    },\n    {\n      \"column\": \"P-value\",\n      \"properties\": {\n        \"dtype\": \"number\",\n        \"std\": 0.45915426377115753,\n        \"min\": 0.06175331274853017,\n        \"max\": 0.7110954997951346,\n        \"num_unique_values\": 2,\n        \"samples\": [\n          0.06175331274853017\n        ],\n        \"semantic_type\": \"\",\n        \"description\": \"\"\n      }\n    }\n  ]\n}"
            }
          },
          "metadata": {}
        }
      ]
    },
    {
      "cell_type": "markdown",
      "source": [
        "> 답변\n",
        "- 범주형변수에 대한 독립성 검정은 카이제곱검정을 시행 하였다.'아침식사여부' 와 '채소섭취정도'는 p-value가 0.05보다 크기 때문에 귀무가설을 채택 하였으므로 , 두 변수는 '적정체중여부'와 통계적으로 독립적이라고 할수 있다.  \n",
        "- 수치형변수에 대한 정규성 검정은 독립t 검정을 시행 하였으며, 정규성과 등분산성을 만족한다고 가정 하였다.우선 '일주일운동시간'과'수면시간'은 귀무가설을 채택 하였으며 , 이는 '적정체중여부'와 통계적으로 독립적이지 않다고 할 수 있다"
      ],
      "metadata": {
        "id": "64GgCwouNmBJ"
      }
    },
    {
      "cell_type": "markdown",
      "source": [
        "## 4-3 4-2에서 유의한 변수들만 가지고 적정 체중 여부를 예측하는 모델을 구현하고 성능 평가 및 해석을 하라 (로지스틱회귀 ,xgb)"
      ],
      "metadata": {
        "id": "fT_eb5hcKvYD"
      }
    },
    {
      "cell_type": "code",
      "source": [
        "from sklearn.preprocessing import LabelEncoder , MinMaxScaler\n",
        "from sklearn.model_selection import train_test_split\n",
        "from sklearn.linear_model import LogisticRegression\n",
        "from xgboost import XGBClassifier\n",
        "from sklearn.metrics import f1_score , roc_curve ,auc"
      ],
      "metadata": {
        "id": "uE97RRI6U6Lg"
      },
      "execution_count": null,
      "outputs": []
    },
    {
      "cell_type": "code",
      "source": [
        "# ID 컬럼제거\n",
        "df = df.drop(['생년월일' , '건강검진일', 'ID'] , axis = 1)\n",
        "\n",
        "# 가변수 처리\n",
        "df_1 = pd.get_dummies(df , columns = ['성별'])\n",
        "\n",
        "feature = df_1.drop('적정체중여부', axis =1)\n",
        "target = df_1['적정체중여부'].map({'적정':1 , '비적정':0})\n",
        "\n",
        "# 데이터 스케일링\n",
        "scale = MinMaxScaler()\n",
        "scale_data= scale.fit_transform(feature)\n"
      ],
      "metadata": {
        "id": "cm5tvgzcV_sd"
      },
      "execution_count": null,
      "outputs": []
    },
    {
      "cell_type": "code",
      "source": [
        "scale_data = pd.DataFrame(scale_data , columns  = feature.columns)\n",
        "\n",
        "# 데이터분리\n",
        "train_x , test_x , train_y , test_y = train_test_split(scale_data , target , test_size= 0.3 , random_state = 1114)\n",
        "\n",
        "# 로지스틱 회귀 모델\n",
        "lr_model = LogisticRegression(class_weight= 'balanced' , random_state = 1114)\n",
        "lr_model.fit(train_x , train_y)\n",
        "pred_lr = lr_model.predict(test_x)\n",
        "pred_f1_lr = f1_score(test_y , pred_lr)\n",
        "\n",
        "# XGB 모델\n",
        "xgb_model = XGBClassifier(class_weight= 'balanced', random_state = 1114)\n",
        "xgb_model.fit(train_x , train_y)\n",
        "pred_xgb = xgb_model.predict(test_x)\n",
        "pred_f1_xgb = f1_score(test_y , pred_xgb)"
      ],
      "metadata": {
        "id": "AUt86k4OammC"
      },
      "execution_count": null,
      "outputs": []
    },
    {
      "cell_type": "code",
      "source": [
        "from sklearn.model_selection import cross_val_score\n",
        "print(\"로지스틱회귀 F1스코어 \", cross_val_score(lr_model , test_x ,test_y , cv= 5 , scoring = 'f1').mean())\n",
        "print(\"XGB모델의 F1 스토어 \" ,  cross_val_score(xgb_model , test_x ,test_y , cv= 5 , scoring = 'f1').mean())"
      ],
      "metadata": {
        "colab": {
          "base_uri": "https://localhost:8080/"
        },
        "id": "uAnxw9cTc8-9",
        "outputId": "d4c3d392-4e73-4fe9-d27f-8324a6af8419"
      },
      "execution_count": null,
      "outputs": [
        {
          "output_type": "stream",
          "name": "stdout",
          "text": [
            "로지스틱회귀 F1스코어  0.3860989164667357\n",
            "XGB모델의 F1 스토어  0.9894736842105264\n"
          ]
        }
      ]
    },
    {
      "cell_type": "code",
      "source": [
        "# 로지스틱회귀 모델의 회귀계수\n",
        "lr_coef = pd.DataFrame(lr_model.coef_.flatten() , index = feature.columns , columns = ['Coef'])\n",
        "lr_coef = lr_coef.sort_values('Coef' , ascending = False)\n",
        "sns.barplot(x = lr_coef['Coef'] , y =lr_coef.index , palette = 'Set2' )"
      ],
      "metadata": {
        "colab": {
          "base_uri": "https://localhost:8080/",
          "height": 465
        },
        "id": "JhdgRgPjgleA",
        "outputId": "4ba1c426-5cc9-488e-c184-c180080df21d"
      },
      "execution_count": null,
      "outputs": [
        {
          "output_type": "execute_result",
          "data": {
            "text/plain": [
              "<Axes: xlabel='Coef', ylabel='None'>"
            ]
          },
          "metadata": {},
          "execution_count": 42
        },
        {
          "output_type": "display_data",
          "data": {
            "text/plain": [
              "<Figure size 640x480 with 1 Axes>"
            ],
            "image/png": "[encoded data removed]"
          },
          "metadata": {}
        }
      ]
    },
    {
      "cell_type": "code",
      "source": [
        "# 로지스틱회귀 모델의 회귀계수\n",
        "xgb_importance = pd.DataFrame(xgb_model.feature_importances_.flatten() , index = feature.columns , columns = ['Importance'])\n",
        "xgb_importance = xgb_importance.sort_values('Importance' , ascending = False)\n",
        "sns.barplot(x = xgb_importance.Importance , y = xgb_importance.index , palette = 'Set2')"
      ],
      "metadata": {
        "colab": {
          "base_uri": "https://localhost:8080/",
          "height": 465
        },
        "id": "jfcPRZn2jn8G",
        "outputId": "6f42ecf9-36e2-42d4-fd56-d9bb2aec688c"
      },
      "execution_count": null,
      "outputs": [
        {
          "output_type": "execute_result",
          "data": {
            "text/plain": [
              "<Axes: xlabel='Importance', ylabel='None'>"
            ]
          },
          "metadata": {},
          "execution_count": 43
        },
        {
          "output_type": "display_data",
          "data": {
            "text/plain": [
              "<Figure size 640x480 with 1 Axes>"
            ],
            "image/png": "[encoded data removed]"
          },
          "metadata": {}
        }
      ]
    },
    {
      "cell_type": "markdown",
      "source": [
        "> 답변\n",
        "- 적정체중여부의 클래스 불균형이 매우 심각한 편이라서 accuracy 는 신뢰성을 가진 지표가 되지 못한다.그렇기 때문에 f1-score를 사용하였다.\n",
        "- xgb 모델의 성능 지표가 로지스틱회귀 모델에 비해서 높음을 알 수 있다.\n",
        "- 각각 변수에 계수와 중요도를 살펴보면 XGB 모델의 경우 BMI , 만나이 , 성별-남성의 feature에 매무 민감하게 반응 했으며 , 나머지 변수의 중요도는 매우 낮은 것으로 확인 됐다."
      ],
      "metadata": {
        "id": "i3JOQit2f7G_"
      }
    },
    {
      "cell_type": "markdown",
      "source": [
        "## 4-4 4-3 두 모델의 roc-auc 그래프를 하나의 그래프에 겹쳐 그려라\n"
      ],
      "metadata": {
        "id": "9KtK2GlilNNO"
      }
    },
    {
      "cell_type": "code",
      "source": [
        "# 모델의 '적정'예측 확률 계산\n",
        "proba_lr = lr_model.predict_proba(test_x)[:,1]\n",
        "proba_xgb = xgb_model.predict_proba(test_x)[:,1]\n",
        "\n",
        "# ROC-Cureve 시각화\n",
        "fqr ,tqr ,threshold = roc_curve(test_y , proba_lr)\n",
        "fqr1 ,tqr1 ,threshold1 = roc_curve(test_y , proba_xgb)\n",
        "plt.plot(fqr , tqr ,lw =2,  label = 'lr__model_ROC')\n",
        "plt.plot(fqr1 , tqr1,lw = 2, label = 'xgb__model_ROC')\n",
        "plt.plot([0,1],[0,1] ,linestyle = '--' ,label = 'Random')\n",
        "start , end = plt.xlim()\n",
        "plt.xticks(np.round(np.arange(start , end , 0.1),2 ))\n",
        "plt.xlim([-0.01,1.05])\n",
        "plt.ylim([-0.01,1.05])\n",
        "plt.legend()"
      ],
      "metadata": {
        "colab": {
          "base_uri": "https://localhost:8080/",
          "height": 447
        },
        "id": "qGSEzKDGlMkT",
        "outputId": "dde7968e-6d02-42aa-c116-29c0a456d2ea"
      },
      "execution_count": null,
      "outputs": [
        {
          "output_type": "execute_result",
          "data": {
            "text/plain": [
              "<matplotlib.legend.Legend at 0x7d5c81d6a470>"
            ]
          },
          "metadata": {},
          "execution_count": 52
        },
        {
          "output_type": "display_data",
          "data": {
            "text/plain": [
              "<Figure size 640x480 with 1 Axes>"
            ],
            "image/png": "[encoded data removed]"
          },
          "metadata": {}
        }
      ]
    },
    {
      "cell_type": "markdown",
      "source": [
        "# 통계"
      ],
      "metadata": {
        "id": "u65fUHFPqdVA"
      }
    },
    {
      "cell_type": "markdown",
      "source": [
        "## 5. 평균이  θ이고 분산이 100인 정규분포의 사전분포가 100, 256일때 120의 값을 가지는 데이터가 있을 경우 사후평균은? (5점)"
      ],
      "metadata": {
        "id": "fMsYe2TiqyvK"
      }
    },
    {
      "cell_type": "code",
      "source": [
        "# N(100,256)\n",
        "# 베이지안 통계에서 사후 분포를 계산하는 방법\n",
        "mu_prior = 100\n",
        "sigma_prior = 256\n",
        "mu = 120\n",
        "sigma = 100\n",
        "\n",
        "(sigma * mu_prior + sigma_prior * mu) / (sigma + sigma_prior)\n"
      ],
      "metadata": {
        "colab": {
          "base_uri": "https://localhost:8080/"
        },
        "id": "3xlYfBPfq3fO",
        "outputId": "5af1557a-bcab-4efb-dc5a-590547ed558c"
      },
      "execution_count": null,
      "outputs": [
        {
          "output_type": "execute_result",
          "data": {
            "text/plain": [
              "114.38202247191012"
            ]
          },
          "metadata": {},
          "execution_count": 58
        }
      ]
    },
    {
      "cell_type": "markdown",
      "source": [
        "> 이해 못함..."
      ],
      "metadata": {
        "id": "M-MWXfcEv357"
      }
    },
    {
      "cell_type": "markdown",
      "source": [
        "# 데이터 설명\n",
        "- 데이터 출처 : https://www.kaggle.com/datasets/yasserh/advertising-sales-dataset 후처리\n",
        "- 데이터 링크 : https://raw.githubusercontent.com/Datamanim/datarepo/main/adp/31/adp_31_5_advertising.csv\n",
        "- 데이터 설명 : TV, Radio, Newspaper에 각각 광고비(달러)를 다르게 했을때 매출액 (Sales , 밀리언달러)를 나타내는 데이터\n",
        "종속변수 : Sales"
      ],
      "metadata": {
        "id": "wNuu5UGZv9ba"
      }
    },
    {
      "cell_type": "markdown",
      "source": [
        "## 6-1 회귀 모델링 후 유의하지 않는변수 파악 (15점)"
      ],
      "metadata": {
        "id": "OyRo2QaowDfP"
      }
    },
    {
      "cell_type": "code",
      "source": [
        "# Data Load\n",
        "df = pd.read_csv('https://raw.githubusercontent.com/Datamanim/datarepo/main/adp/31/adp_31_5_advertising.csv')\n",
        "df.head()"
      ],
      "metadata": {
        "id": "v9g1x5SzwEoC"
      },
      "execution_count": null,
      "outputs": []
    },
    {
      "cell_type": "code",
      "source": [
        "import statsmodels.formula.api as sm\n",
        "result = sm.ols('Sales~TV+Radio+Newspaper' , data = df).fit()\n",
        "result.summary()"
      ],
      "metadata": {
        "colab": {
          "base_uri": "https://localhost:8080/",
          "height": 486
        },
        "id": "OLz-YYUnwUVq",
        "outputId": "34e19846-ccc3-4bb7-a358-57b22d4b654e"
      },
      "execution_count": null,
      "outputs": [
        {
          "output_type": "execute_result",
          "data": {
            "text/plain": [
              "<class 'statsmodels.iolib.summary.Summary'>\n",
              "\"\"\"\n",
              "                            OLS Regression Results                            \n",
              "==============================================================================\n",
              "Dep. Variable:                  Sales   R-squared:                       0.903\n",
              "Model:                            OLS   Adj. R-squared:                  0.901\n",
              "Method:                 Least Squares   F-statistic:                     605.4\n",
              "Date:                Thu, 29 Feb 2024   Prob (F-statistic):           8.13e-99\n",
              "Time:                        02:57:20   Log-Likelihood:                -383.34\n",
              "No. Observations:                 200   AIC:                             774.7\n",
              "Df Residuals:                     196   BIC:                             787.9\n",
              "Df Model:                           3                                         \n",
              "Covariance Type:            nonrobust                                         \n",
              "==============================================================================\n",
              "                 coef    std err          t      P>|t|      [0.025      0.975]\n",
              "------------------------------------------------------------------------------\n",
              "Intercept      4.6251      0.308     15.041      0.000       4.019       5.232\n",
              "TV             0.0544      0.001     39.592      0.000       0.052       0.057\n",
              "Radio          0.1070      0.008     12.604      0.000       0.090       0.124\n",
              "Newspaper      0.0003      0.006      0.058      0.954      -0.011       0.012\n",
              "==============================================================================\n",
              "Omnibus:                       16.081   Durbin-Watson:                   2.251\n",
              "Prob(Omnibus):                  0.000   Jarque-Bera (JB):               27.655\n",
              "Skew:                          -0.431   Prob(JB):                     9.88e-07\n",
              "Kurtosis:                       4.605   Cond. No.                         454.\n",
              "==============================================================================\n",
              "\n",
              "Notes:\n",
              "[1] Standard Errors assume that the covariance matrix of the errors is correctly specified.\n",
              "\"\"\""
            ],
            "text/html": [
              "<table class=\"simpletable\">\n",
              "<caption>OLS Regression Results</caption>\n",
              "<tr>\n",
              "  <th>Dep. Variable:</th>          <td>Sales</td>      <th>  R-squared:         </th> <td>   0.903</td>\n",
              "</tr>\n",
              "<tr>\n",
              "  <th>Model:</th>                   <td>OLS</td>       <th>  Adj. R-squared:    </th> <td>   0.901</td>\n",
              "</tr>\n",
              "<tr>\n",
              "  <th>Method:</th>             <td>Least Squares</td>  <th>  F-statistic:       </th> <td>   605.4</td>\n",
              "</tr>\n",
              "<tr>\n",
              "  <th>Date:</th>             <td>Thu, 29 Feb 2024</td> <th>  Prob (F-statistic):</th> <td>8.13e-99</td>\n",
              "</tr>\n",
              "<tr>\n",
              "  <th>Time:</th>                 <td>02:57:20</td>     <th>  Log-Likelihood:    </th> <td> -383.34</td>\n",
              "</tr>\n",
              "<tr>\n",
              "  <th>No. Observations:</th>      <td>   200</td>      <th>  AIC:               </th> <td>   774.7</td>\n",
              "</tr>\n",
              "<tr>\n",
              "  <th>Df Residuals:</th>          <td>   196</td>      <th>  BIC:               </th> <td>   787.9</td>\n",
              "</tr>\n",
              "<tr>\n",
              "  <th>Df Model:</th>              <td>     3</td>      <th>                     </th>     <td> </td>   \n",
              "</tr>\n",
              "<tr>\n",
              "  <th>Covariance Type:</th>      <td>nonrobust</td>    <th>                     </th>     <td> </td>   \n",
              "</tr>\n",
              "</table>\n",
              "<table class=\"simpletable\">\n",
              "<tr>\n",
              "      <td></td>         <th>coef</th>     <th>std err</th>      <th>t</th>      <th>P>|t|</th>  <th>[0.025</th>    <th>0.975]</th>  \n",
              "</tr>\n",
              "<tr>\n",
              "  <th>Intercept</th> <td>    4.6251</td> <td>    0.308</td> <td>   15.041</td> <td> 0.000</td> <td>    4.019</td> <td>    5.232</td>\n",
              "</tr>\n",
              "<tr>\n",
              "  <th>TV</th>        <td>    0.0544</td> <td>    0.001</td> <td>   39.592</td> <td> 0.000</td> <td>    0.052</td> <td>    0.057</td>\n",
              "</tr>\n",
              "<tr>\n",
              "  <th>Radio</th>     <td>    0.1070</td> <td>    0.008</td> <td>   12.604</td> <td> 0.000</td> <td>    0.090</td> <td>    0.124</td>\n",
              "</tr>\n",
              "<tr>\n",
              "  <th>Newspaper</th> <td>    0.0003</td> <td>    0.006</td> <td>    0.058</td> <td> 0.954</td> <td>   -0.011</td> <td>    0.012</td>\n",
              "</tr>\n",
              "</table>\n",
              "<table class=\"simpletable\">\n",
              "<tr>\n",
              "  <th>Omnibus:</th>       <td>16.081</td> <th>  Durbin-Watson:     </th> <td>   2.251</td>\n",
              "</tr>\n",
              "<tr>\n",
              "  <th>Prob(Omnibus):</th> <td> 0.000</td> <th>  Jarque-Bera (JB):  </th> <td>  27.655</td>\n",
              "</tr>\n",
              "<tr>\n",
              "  <th>Skew:</th>          <td>-0.431</td> <th>  Prob(JB):          </th> <td>9.88e-07</td>\n",
              "</tr>\n",
              "<tr>\n",
              "  <th>Kurtosis:</th>      <td> 4.605</td> <th>  Cond. No.          </th> <td>    454.</td>\n",
              "</tr>\n",
              "</table><br/><br/>Notes:<br/>[1] Standard Errors assume that the covariance matrix of the errors is correctly specified."
            ],
            "text/latex": "\\begin{center}\n\\begin{tabular}{lclc}\n\\toprule\n\\textbf{Dep. Variable:}    &      Sales       & \\textbf{  R-squared:         } &     0.903   \\\\\n\\textbf{Model:}            &       OLS        & \\textbf{  Adj. R-squared:    } &     0.901   \\\\\n\\textbf{Method:}           &  Least Squares   & \\textbf{  F-statistic:       } &     605.4   \\\\\n\\textbf{Date:}             & Thu, 29 Feb 2024 & \\textbf{  Prob (F-statistic):} &  8.13e-99   \\\\\n\\textbf{Time:}             &     02:57:20     & \\textbf{  Log-Likelihood:    } &   -383.34   \\\\\n\\textbf{No. Observations:} &         200      & \\textbf{  AIC:               } &     774.7   \\\\\n\\textbf{Df Residuals:}     &         196      & \\textbf{  BIC:               } &     787.9   \\\\\n\\textbf{Df Model:}         &           3      & \\textbf{                     } &             \\\\\n\\textbf{Covariance Type:}  &    nonrobust     & \\textbf{                     } &             \\\\\n\\bottomrule\n\\end{tabular}\n\\begin{tabular}{lcccccc}\n                   & \\textbf{coef} & \\textbf{std err} & \\textbf{t} & \\textbf{P$> |$t$|$} & \\textbf{[0.025} & \\textbf{0.975]}  \\\\\n\\midrule\n\\textbf{Intercept} &       4.6251  &        0.308     &    15.041  &         0.000        &        4.019    &        5.232     \\\\\n\\textbf{TV}        &       0.0544  &        0.001     &    39.592  &         0.000        &        0.052    &        0.057     \\\\\n\\textbf{Radio}     &       0.1070  &        0.008     &    12.604  &         0.000        &        0.090    &        0.124     \\\\\n\\textbf{Newspaper} &       0.0003  &        0.006     &     0.058  &         0.954        &       -0.011    &        0.012     \\\\\n\\bottomrule\n\\end{tabular}\n\\begin{tabular}{lclc}\n\\textbf{Omnibus:}       & 16.081 & \\textbf{  Durbin-Watson:     } &    2.251  \\\\\n\\textbf{Prob(Omnibus):} &  0.000 & \\textbf{  Jarque-Bera (JB):  } &   27.655  \\\\\n\\textbf{Skew:}          & -0.431 & \\textbf{  Prob(JB):          } & 9.88e-07  \\\\\n\\textbf{Kurtosis:}      &  4.605 & \\textbf{  Cond. No.          } &     454.  \\\\\n\\bottomrule\n\\end{tabular}\n%\\caption{OLS Regression Results}\n\\end{center}\n\nNotes: \\newline\n [1] Standard Errors assume that the covariance matrix of the errors is correctly specified."
          },
          "metadata": {},
          "execution_count": 63
        }
      ]
    },
    {
      "cell_type": "markdown",
      "source": [
        "> 답변\n",
        "- Newspaper의 t통계량의 p-value가 유의수준(0.05라 가정)보다 높다 . 이는 변수의 회귀계수에 대해서 귀무가설을 지지 할 수 있으며 , 통계적으로 Nespaper는 유의하지 않은 변수라고 얘기 할수 있다"
      ],
      "metadata": {
        "id": "mBMOv8hFwXgt"
      }
    },
    {
      "cell_type": "markdown",
      "source": [
        "## 6-2 변수 선택시 먼저 제거 될 변수 및 근거 제시"
      ],
      "metadata": {
        "id": "7rbXtoET0ZmT"
      }
    },
    {
      "cell_type": "markdown",
      "source": [
        "> 답변\n",
        "- NewsPaper\n",
        "- 유의수준(0.05)보다 높다. 이 회귀계수는 통계적인 유의미성을 가지지 못한다고 봐야 한다."
      ],
      "metadata": {
        "id": "Caf86F0e0c2q"
      }
    },
    {
      "cell_type": "markdown",
      "source": [
        "## 6-3 VIF를 통한 다중공선성 진단"
      ],
      "metadata": {
        "id": "ncbuABLd0tdL"
      }
    },
    {
      "cell_type": "code",
      "source": [
        "from statsmodels.stats.outliers_influence import variance_inflation_factor\n",
        "from statsmodels.tools.tools import add_constant\n",
        "\n",
        "# 상수항 추가\n",
        "x = add_constant(df.drop('Sales' , axis = 1))\n",
        "\n",
        "vif = pd.DataFrame()\n",
        "vif['VIF'] =  [variance_inflation_factor(x.values, i) for i in range(x.shape[1])]\n",
        "vif['features'] = x.columns\n",
        "vif"
      ],
      "metadata": {
        "colab": {
          "base_uri": "https://localhost:8080/",
          "height": 175
        },
        "id": "BzGe3EXh0wj3",
        "outputId": "5d412d12-cd1f-4c1a-da2b-0a851842c7a7"
      },
      "execution_count": null,
      "outputs": [
        {
          "output_type": "execute_result",
          "data": {
            "text/plain": [
              "        VIF   features\n",
              "0  6.848900      const\n",
              "1  1.004611         TV\n",
              "2  1.144952      Radio\n",
              "3  1.145187  Newspaper"
            ],
            "text/html": [
              "\n",
              "  <div id=\"df-6e066917-0223-4dc4-8e3d-29c626cae4fa\" class=\"colab-df-container\">\n",
              "    <div>\n",
              "<style scoped>\n",
              "    .dataframe tbody tr th:only-of-type {\n",
              "        vertical-align: middle;\n",
              "    }\n",
              "\n",
              "    .dataframe tbody tr th {\n",
              "        vertical-align: top;\n",
              "    }\n",
              "\n",
              "    .dataframe thead th {\n",
              "        text-align: right;\n",
              "    }\n",
              "</style>\n",
              "<table border=\"1\" class=\"dataframe\">\n",
              "  <thead>\n",
              "    <tr style=\"text-align: right;\">\n",
              "      <th></th>\n",
              "      <th>VIF</th>\n",
              "      <th>features</th>\n",
              "    </tr>\n",
              "  </thead>\n",
              "  <tbody>\n",
              "    <tr>\n",
              "      <th>0</th>\n",
              "      <td>6.848900</td>\n",
              "      <td>const</td>\n",
              "    </tr>\n",
              "    <tr>\n",
              "      <th>1</th>\n",
              "      <td>1.004611</td>\n",
              "      <td>TV</td>\n",
              "    </tr>\n",
              "    <tr>\n",
              "      <th>2</th>\n",
              "      <td>1.144952</td>\n",
              "      <td>Radio</td>\n",
              "    </tr>\n",
              "    <tr>\n",
              "      <th>3</th>\n",
              "      <td>1.145187</td>\n",
              "      <td>Newspaper</td>\n",
              "    </tr>\n",
              "  </tbody>\n",
              "</table>\n",
              "</div>\n",
              "    <div class=\"colab-df-buttons\">\n",
              "\n",
              "  <div class=\"colab-df-container\">\n",
              "    <button class=\"colab-df-convert\" onclick=\"convertToInteractive('df-6e066917-0223-4dc4-8e3d-29c626cae4fa')\"\n",
              "            title=\"Convert this dataframe to an interactive table.\"\n",
              "            style=\"display:none;\">\n",
              "\n",
              "  <svg xmlns=\"http://www.w3.org/2000/svg\" height=\"24px\" viewBox=\"0 -960 960 960\">\n",
              "    <path d=\"M120-120v-720h720v720H120Zm60-500h600v-160H180v160Zm220 220h160v-160H400v160Zm0 220h160v-160H400v160ZM180-400h160v-160H180v160Zm440 0h160v-160H620v160ZM180-180h160v-160H180v160Zm440 0h160v-160H620v160Z\"/>\n",
              "  </svg>\n",
              "    </button>\n",
              "\n",
              "  <style>\n",
              "    .colab-df-container {\n",
              "      display:flex;\n",
              "      gap: 12px;\n",
              "    }\n",
              "\n",
              "    .colab-df-convert {\n",
              "      background-color: #E8F0FE;\n",
              "      border: none;\n",
              "      border-radius: 50%;\n",
              "      cursor: pointer;\n",
              "      display: none;\n",
              "      fill: #1967D2;\n",
              "      height: 32px;\n",
              "      padding: 0 0 0 0;\n",
              "      width: 32px;\n",
              "    }\n",
              "\n",
              "    .colab-df-convert:hover {\n",
              "      background-color: #E2EBFA;\n",
              "      box-shadow: 0px 1px 2px rgba(60, 64, 67, 0.3), 0px 1px 3px 1px rgba(60, 64, 67, 0.15);\n",
              "      fill: #174EA6;\n",
              "    }\n",
              "\n",
              "    .colab-df-buttons div {\n",
              "      margin-bottom: 4px;\n",
              "    }\n",
              "\n",
              "    [theme=dark] .colab-df-convert {\n",
              "      background-color: #3B4455;\n",
              "      fill: #D2E3FC;\n",
              "    }\n",
              "\n",
              "    [theme=dark] .colab-df-convert:hover {\n",
              "      background-color: #434B5C;\n",
              "      box-shadow: 0px 1px 3px 1px rgba(0, 0, 0, 0.15);\n",
              "      filter: drop-shadow(0px 1px 2px rgba(0, 0, 0, 0.3));\n",
              "      fill: #FFFFFF;\n",
              "    }\n",
              "  </style>\n",
              "\n",
              "    <script>\n",
              "      const buttonEl =\n",
              "        document.querySelector('#df-6e066917-0223-4dc4-8e3d-29c626cae4fa button.colab-df-convert');\n",
              "      buttonEl.style.display =\n",
              "        google.colab.kernel.accessAllowed ? 'block' : 'none';\n",
              "\n",
              "      async function convertToInteractive(key) {\n",
              "        const element = document.querySelector('#df-6e066917-0223-4dc4-8e3d-29c626cae4fa');\n",
              "        const dataTable =\n",
              "          await google.colab.kernel.invokeFunction('convertToInteractive',\n",
              "                                                    [key], {});\n",
              "        if (!dataTable) return;\n",
              "\n",
              "        const docLinkHtml = 'Like what you see? Visit the ' +\n",
              "          '<a target=\"_blank\" href=https://colab.research.google.com/notebooks/data_table.ipynb>data table notebook</a>'\n",
              "          + ' to learn more about interactive tables.';\n",
              "        element.innerHTML = '';\n",
              "        dataTable['output_type'] = 'display_data';\n",
              "        await google.colab.output.renderOutput(dataTable, element);\n",
              "        const docLink = document.createElement('div');\n",
              "        docLink.innerHTML = docLinkHtml;\n",
              "        element.appendChild(docLink);\n",
              "      }\n",
              "    </script>\n",
              "  </div>\n",
              "\n",
              "\n",
              "<div id=\"df-1660c196-11af-478e-bc6d-f5ecd0f017ba\">\n",
              "  <button class=\"colab-df-quickchart\" onclick=\"quickchart('df-1660c196-11af-478e-bc6d-f5ecd0f017ba')\"\n",
              "            title=\"Suggest charts\"\n",
              "            style=\"display:none;\">\n",
              "\n",
              "<svg xmlns=\"http://www.w3.org/2000/svg\" height=\"24px\"viewBox=\"0 0 24 24\"\n",
              "     width=\"24px\">\n",
              "    <g>\n",
              "        <path d=\"M19 3H5c-1.1 0-2 .9-2 2v14c0 1.1.9 2 2 2h14c1.1 0 2-.9 2-2V5c0-1.1-.9-2-2-2zM9 17H7v-7h2v7zm4 0h-2V7h2v10zm4 0h-2v-4h2v4z\"/>\n",
              "    </g>\n",
              "</svg>\n",
              "  </button>\n",
              "\n",
              "<style>\n",
              "  .colab-df-quickchart {\n",
              "      --bg-color: #E8F0FE;\n",
              "      --fill-color: #1967D2;\n",
              "      --hover-bg-color: #E2EBFA;\n",
              "      --hover-fill-color: #174EA6;\n",
              "      --disabled-fill-color: #AAA;\n",
              "      --disabled-bg-color: #DDD;\n",
              "  }\n",
              "\n",
              "  [theme=dark] .colab-df-quickchart {\n",
              "      --bg-color: #3B4455;\n",
              "      --fill-color: #D2E3FC;\n",
              "      --hover-bg-color: #434B5C;\n",
              "      --hover-fill-color: #FFFFFF;\n",
              "      --disabled-bg-color: #3B4455;\n",
              "      --disabled-fill-color: #666;\n",
              "  }\n",
              "\n",
              "  .colab-df-quickchart {\n",
              "    background-color: var(--bg-color);\n",
              "    border: none;\n",
              "    border-radius: 50%;\n",
              "    cursor: pointer;\n",
              "    display: none;\n",
              "    fill: var(--fill-color);\n",
              "    height: 32px;\n",
              "    padding: 0;\n",
              "    width: 32px;\n",
              "  }\n",
              "\n",
              "  .colab-df-quickchart:hover {\n",
              "    background-color: var(--hover-bg-color);\n",
              "    box-shadow: 0 1px 2px rgba(60, 64, 67, 0.3), 0 1px 3px 1px rgba(60, 64, 67, 0.15);\n",
              "    fill: var(--button-hover-fill-color);\n",
              "  }\n",
              "\n",
              "  .colab-df-quickchart-complete:disabled,\n",
              "  .colab-df-quickchart-complete:disabled:hover {\n",
              "    background-color: var(--disabled-bg-color);\n",
              "    fill: var(--disabled-fill-color);\n",
              "    box-shadow: none;\n",
              "  }\n",
              "\n",
              "  .colab-df-spinner {\n",
              "    border: 2px solid var(--fill-color);\n",
              "    border-color: transparent;\n",
              "    border-bottom-color: var(--fill-color);\n",
              "    animation:\n",
              "      spin 1s steps(1) infinite;\n",
              "  }\n",
              "\n",
              "  @keyframes spin {\n",
              "    0% {\n",
              "      border-color: transparent;\n",
              "      border-bottom-color: var(--fill-color);\n",
              "      border-left-color: var(--fill-color);\n",
              "    }\n",
              "    20% {\n",
              "      border-color: transparent;\n",
              "      border-left-color: var(--fill-color);\n",
              "      border-top-color: var(--fill-color);\n",
              "    }\n",
              "    30% {\n",
              "      border-color: transparent;\n",
              "      border-left-color: var(--fill-color);\n",
              "      border-top-color: var(--fill-color);\n",
              "      border-right-color: var(--fill-color);\n",
              "    }\n",
              "    40% {\n",
              "      border-color: transparent;\n",
              "      border-right-color: var(--fill-color);\n",
              "      border-top-color: var(--fill-color);\n",
              "    }\n",
              "    60% {\n",
              "      border-color: transparent;\n",
              "      border-right-color: var(--fill-color);\n",
              "    }\n",
              "    80% {\n",
              "      border-color: transparent;\n",
              "      border-right-color: var(--fill-color);\n",
              "      border-bottom-color: var(--fill-color);\n",
              "    }\n",
              "    90% {\n",
              "      border-color: transparent;\n",
              "      border-bottom-color: var(--fill-color);\n",
              "    }\n",
              "  }\n",
              "</style>\n",
              "\n",
              "  <script>\n",
              "    async function quickchart(key) {\n",
              "      const quickchartButtonEl =\n",
              "        document.querySelector('#' + key + ' button');\n",
              "      quickchartButtonEl.disabled = true;  // To prevent multiple clicks.\n",
              "      quickchartButtonEl.classList.add('colab-df-spinner');\n",
              "      try {\n",
              "        const charts = await google.colab.kernel.invokeFunction(\n",
              "            'suggestCharts', [key], {});\n",
              "      } catch (error) {\n",
              "        console.error('Error during call to suggestCharts:', error);\n",
              "      }\n",
              "      quickchartButtonEl.classList.remove('colab-df-spinner');\n",
              "      quickchartButtonEl.classList.add('colab-df-quickchart-complete');\n",
              "    }\n",
              "    (() => {\n",
              "      let quickchartButtonEl =\n",
              "        document.querySelector('#df-1660c196-11af-478e-bc6d-f5ecd0f017ba button');\n",
              "      quickchartButtonEl.style.display =\n",
              "        google.colab.kernel.accessAllowed ? 'block' : 'none';\n",
              "    })();\n",
              "  </script>\n",
              "</div>\n",
              "\n",
              "  <div id=\"id_e71344c8-9d9f-4251-9a44-c4546a6072ac\">\n",
              "    <style>\n",
              "      .colab-df-generate {\n",
              "        background-color: #E8F0FE;\n",
              "        border: none;\n",
              "        border-radius: 50%;\n",
              "        cursor: pointer;\n",
              "        display: none;\n",
              "        fill: #1967D2;\n",
              "        height: 32px;\n",
              "        padding: 0 0 0 0;\n",
              "        width: 32px;\n",
              "      }\n",
              "\n",
              "      .colab-df-generate:hover {\n",
              "        background-color: #E2EBFA;\n",
              "        box-shadow: 0px 1px 2px rgba(60, 64, 67, 0.3), 0px 1px 3px 1px rgba(60, 64, 67, 0.15);\n",
              "        fill: #174EA6;\n",
              "      }\n",
              "\n",
              "      [theme=dark] .colab-df-generate {\n",
              "        background-color: #3B4455;\n",
              "        fill: #D2E3FC;\n",
              "      }\n",
              "\n",
              "      [theme=dark] .colab-df-generate:hover {\n",
              "        background-color: #434B5C;\n",
              "        box-shadow: 0px 1px 3px 1px rgba(0, 0, 0, 0.15);\n",
              "        filter: drop-shadow(0px 1px 2px rgba(0, 0, 0, 0.3));\n",
              "        fill: #FFFFFF;\n",
              "      }\n",
              "    </style>\n",
              "    <button class=\"colab-df-generate\" onclick=\"generateWithVariable('vif')\"\n",
              "            title=\"Generate code using this dataframe.\"\n",
              "            style=\"display:none;\">\n",
              "\n",
              "  <svg xmlns=\"http://www.w3.org/2000/svg\" height=\"24px\"viewBox=\"0 0 24 24\"\n",
              "       width=\"24px\">\n",
              "    <path d=\"M7,19H8.4L18.45,9,17,7.55,7,17.6ZM5,21V16.75L18.45,3.32a2,2,0,0,1,2.83,0l1.4,1.43a1.91,1.91,0,0,1,.58,1.4,1.91,1.91,0,0,1-.58,1.4L9.25,21ZM18.45,9,17,7.55Zm-12,3A5.31,5.31,0,0,0,4.9,8.1,5.31,5.31,0,0,0,1,6.5,5.31,5.31,0,0,0,4.9,4.9,5.31,5.31,0,0,0,6.5,1,5.31,5.31,0,0,0,8.1,4.9,5.31,5.31,0,0,0,12,6.5,5.46,5.46,0,0,0,6.5,12Z\"/>\n",
              "  </svg>\n",
              "    </button>\n",
              "    <script>\n",
              "      (() => {\n",
              "      const buttonEl =\n",
              "        document.querySelector('#id_e71344c8-9d9f-4251-9a44-c4546a6072ac button.colab-df-generate');\n",
              "      buttonEl.style.display =\n",
              "        google.colab.kernel.accessAllowed ? 'block' : 'none';\n",
              "\n",
              "      buttonEl.onclick = () => {\n",
              "        google.colab.notebook.generateWithVariable('vif');\n",
              "      }\n",
              "      })();\n",
              "    </script>\n",
              "  </div>\n",
              "\n",
              "    </div>\n",
              "  </div>\n"
            ],
            "application/vnd.google.colaboratory.intrinsic+json": {
              "type": "dataframe",
              "variable_name": "vif",
              "summary": "{\n  \"name\": \"vif\",\n  \"rows\": 4,\n  \"fields\": [\n    {\n      \"column\": \"VIF\",\n      \"properties\": {\n        \"dtype\": \"number\",\n        \"std\": 2.876087239131546,\n        \"min\": 1.00461078493965,\n        \"max\": 6.848899953334954,\n        \"num_unique_values\": 4,\n        \"samples\": [\n          1.00461078493965,\n          1.1451873787239288,\n          6.848899953334954\n        ],\n        \"semantic_type\": \"\",\n        \"description\": \"\"\n      }\n    },\n    {\n      \"column\": \"features\",\n      \"properties\": {\n        \"dtype\": \"string\",\n        \"num_unique_values\": 4,\n        \"samples\": [\n          \"TV\",\n          \"Newspaper\",\n          \"const\"\n        ],\n        \"semantic_type\": \"\",\n        \"description\": \"\"\n      }\n    }\n  ]\n}"
            }
          },
          "metadata": {},
          "execution_count": 70
        }
      ]
    },
    {
      "cell_type": "markdown",
      "source": [
        "> 답변\n",
        "- VIF 값은 커질수록 다중공선성 문제가 있다고 볼수 있다.하지만 진단에서 모든 변수들이 1에 가까운 값을 가지고 있는데 이는 변수들간의 상관관계가 거의 없다고 볼 수 있다."
      ],
      "metadata": {
        "id": "unp1OEl83E0U"
      }
    },
    {
      "cell_type": "markdown",
      "source": [
        "## 7\n",
        "- 데이터 링크 : https://raw.githubusercontent.com/Datamanim/datarepo/main/adp/31/adp_31_7.csv\n",
        "- 데이터 설명 : A,B,C,D,E 영업사원의 각 계약 성사 유무 (1:계약 , 0:미계약) 를 나타낸 데이터이다. 영업사원의 평균 계약 성사 건수는 같은지 통계 검정하라"
      ],
      "metadata": {
        "id": "bsp7qgxs3fXG"
      }
    },
    {
      "cell_type": "code",
      "source": [
        "df = pd.read_csv('https://raw.githubusercontent.com/Datamanim/datarepo/main/adp/31/adp_31_7.csv' , index_col = 0)\n",
        "df.head() , df.info()"
      ],
      "metadata": {
        "colab": {
          "base_uri": "https://localhost:8080/"
        },
        "id": "FfDQ-UaT3jbr",
        "outputId": "76c0b961-2e45-44fa-b967-6054b982a338"
      },
      "execution_count": null,
      "outputs": [
        {
          "output_type": "stream",
          "name": "stdout",
          "text": [
            "<class 'pandas.core.frame.DataFrame'>\n",
            "Index: 12 entries, contract_1 to contract_12\n",
            "Data columns (total 5 columns):\n",
            " #   Column  Non-Null Count  Dtype\n",
            "---  ------  --------------  -----\n",
            " 0   A       12 non-null     int64\n",
            " 1   B       12 non-null     int64\n",
            " 2   C       12 non-null     int64\n",
            " 3   D       12 non-null     int64\n",
            " 4   E       12 non-null     int64\n",
            "dtypes: int64(5)\n",
            "memory usage: 576.0+ bytes\n"
          ]
        },
        {
          "output_type": "execute_result",
          "data": {
            "text/plain": [
              "(            A  B  C  D  E\n",
              " contract_1  1  0  1  1  1\n",
              " contract_2  0  1  0  1  0\n",
              " contract_3  1  0  0  0  0\n",
              " contract_4  0  1  1  1  1\n",
              " contract_5  0  1  0  1  0,\n",
              " None)"
            ]
          },
          "metadata": {},
          "execution_count": 76
        }
      ]
    },
    {
      "cell_type": "code",
      "source": [
        "# 계약 성사 건 수 평균의 차이라고 보고 , 일원분석 ANOVA로 통계검정을 진행한다.\n",
        "df_a = df['A']\n",
        "df_b = df['B']\n",
        "df_c = df['C']\n",
        "df_d = df['D']\n",
        "df_e = df['E']\n",
        "\n",
        "stat.f_oneway(df_a , df_b , df_c , df_d , df_e)"
      ],
      "metadata": {
        "colab": {
          "base_uri": "https://localhost:8080/"
        },
        "id": "3bd-aS7Y5SMR",
        "outputId": "a847315a-48cc-4642-9fd9-9d32de6a23da"
      },
      "execution_count": null,
      "outputs": [
        {
          "output_type": "execute_result",
          "data": {
            "text/plain": [
              "F_onewayResult(statistic=1.1596385542168675, pvalue=0.3386526461881183)"
            ]
          },
          "metadata": {},
          "execution_count": 80
        }
      ]
    },
    {
      "cell_type": "markdown",
      "source": [
        "> 답변\n",
        "- 귀무가설 : 영업사원간의 계약 성사 건수의 평균적인 차이는 없다\n",
        "- 대립가설 : 영업사원간의 계약 성사 건수의 평균적인 차이는 있다.\n",
        "- 일원ANOVA 를 통해서 검정을 진행 했고 , p-value는 0.338 이다. 유의수준(0.05라고 가정) 할때 이는 귀무가설을 채택할 수 있으며 , 영업사원간의 계약 성가 건수의 평균 차이는 통계적으로 차이가 나지 않는다고 할 수 있다."
      ],
      "metadata": {
        "id": "5aZwj97V77wp"
      }
    },
    {
      "cell_type": "markdown",
      "source": [
        "## 8 유기견이 하루에 2.2마리 발생한다 (10점)\n",
        "## 8-1 한 마리도 안 버려질 확률"
      ],
      "metadata": {
        "id": "9YNNNUTH9PST"
      }
    },
    {
      "cell_type": "code",
      "source": [
        "# 푸아송 확률 분포\n",
        "rv = stat.poisson(2.2)\n",
        "\n",
        "print('한마리도 버려지지 않을 확률 ' , np.round(rv.pmf(0) , 4))"
      ],
      "metadata": {
        "colab": {
          "base_uri": "https://localhost:8080/"
        },
        "id": "deQ5JhoT9m8C",
        "outputId": "a19f3506-569d-48bc-ad4f-4e34889c91af"
      },
      "execution_count": null,
      "outputs": [
        {
          "output_type": "stream",
          "name": "stdout",
          "text": [
            "한마리도 버려지지 않을 확률  0.1108\n"
          ]
        }
      ]
    },
    {
      "cell_type": "markdown",
      "source": [
        "## 8-2 적어도 2마리 버려질 확률"
      ],
      "metadata": {
        "id": "n28qfD-s-C6d"
      }
    },
    {
      "cell_type": "code",
      "source": [
        "# 2마리 이상 버려질 확률 이다.\n",
        "print('적어도 2마리 버려질 않을 확률 ' , np.round(1 - rv.cdf(1) ,4))"
      ],
      "metadata": {
        "colab": {
          "base_uri": "https://localhost:8080/"
        },
        "id": "FZqV8oQ--CtO",
        "outputId": "5c14dbab-bfbb-4a95-de7b-14073d321598"
      },
      "execution_count": null,
      "outputs": [
        {
          "output_type": "stream",
          "name": "stdout",
          "text": [
            "적어도 2마리 버려질 않을 확률  0.6454\n"
          ]
        }
      ]
    }
  ]
}