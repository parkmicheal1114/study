{
  "nbformat": 4,
  "nbformat_minor": 0,
  "metadata": {
    "colab": {
      "provenance": [],
      "mount_file_id": "1KvEdVnkVDqRyzEIrE0yG0kU2Gro4Z2U7",
      "authorship_tag": "ABX9TyNrbpZAW7Ob1MfBC+u1Gra/",
      "include_colab_link": true
    },
    "kernelspec": {
      "name": "python3",
      "display_name": "Python 3"
    },
    "language_info": {
      "name": "python"
    }
  },
  "cells": [
    {
      "cell_type": "markdown",
      "metadata": {
        "id": "view-in-github",
        "colab_type": "text"
      },
      "source": [
        "<a href=\"https://colab.research.google.com/github/parkmicheal1114/study/blob/main/study/numpy%EC%8B%A4%EC%8A%B5_%EC%98%88%EC%A0%9C.ipynb\" target=\"_parent\"><img src=\"https://colab.research.google.com/assets/colab-badge.svg\" alt=\"Open In Colab\"/></a>"
      ]
    },
    {
      "cell_type": "code",
      "source": [
        "import numpy as np\n",
        "import matplotlib.pyplot as plt"
      ],
      "metadata": {
        "id": "S5U7nATETQEa"
      },
      "execution_count": 3,
      "outputs": []
    },
    {
      "cell_type": "markdown",
      "source": [
        "- 원소가 모두 0이고 크기가 10인 numpy array를 생성하는 코드를 작성해보세요"
      ],
      "metadata": {
        "id": "YfUz66DSSPrL"
      }
    },
    {
      "cell_type": "code",
      "execution_count": 5,
      "metadata": {
        "colab": {
          "base_uri": "https://localhost:8080/"
        },
        "id": "VIbx84VvRtSr",
        "outputId": "ea2be857-524a-420c-dd92-61af9ebf2464"
      },
      "outputs": [
        {
          "output_type": "execute_result",
          "data": {
            "text/plain": [
              "array([0., 0., 0., 0., 0., 0., 0., 0., 0., 0.])"
            ]
          },
          "metadata": {},
          "execution_count": 5
        }
      ],
      "source": [
        "np.zeros(10) # 배열을 초기화 한다고 생각 해보자"
      ]
    },
    {
      "cell_type": "markdown",
      "source": [
        "- 원소가 모두 32bytes 사이즈의 float 타입을 가지는 numpy array를 생성하는 코드를 작성해보세요.\n",
        "\n",
        "\n",
        "\n",
        "``` python\n",
        "#output\n",
        "array([1.1, 2.2, 3.3, -4.4, 5.5], dtype=np.float32)\n",
        "```"
      ],
      "metadata": {
        "id": "FkFknkMjUNpG"
      }
    },
    {
      "cell_type": "code",
      "source": [
        "L = [1.1, 2.2, 3.3, -4.4, 5.5]\n",
        "arr = np.array(L , dtype='float32')\n",
        "arr"
      ],
      "metadata": {
        "colab": {
          "base_uri": "https://localhost:8080/"
        },
        "id": "3gNVgh08UQRZ",
        "outputId": "ad341848-01c0-4bd4-9dc9-320e2228fc3d"
      },
      "execution_count": 15,
      "outputs": [
        {
          "output_type": "execute_result",
          "data": {
            "text/plain": [
              "array([ 1.1,  2.2,  3.3, -4.4,  5.5], dtype=float32)"
            ]
          },
          "metadata": {},
          "execution_count": 15
        }
      ]
    },
    {
      "cell_type": "markdown",
      "source": [
        "-1부터 1000까지의 모든 정수를 원소로 하는 numpy array를 생성하는 코드를 작성해보세요."
      ],
      "metadata": {
        "id": "34X2Kn6zWSTJ"
      }
    },
    {
      "cell_type": "code",
      "source": [
        "np.arange(0,1.1,0.1)\n"
      ],
      "metadata": {
        "colab": {
          "base_uri": "https://localhost:8080/"
        },
        "id": "A4EssuP1WREW",
        "outputId": "0dc3639b-31ac-48ae-aa17-61a7102886ea"
      },
      "execution_count": 19,
      "outputs": [
        {
          "output_type": "execute_result",
          "data": {
            "text/plain": [
              "array([0. , 0.1, 0.2, 0.3, 0.4, 0.5, 0.6, 0.7, 0.8, 0.9, 1. ])"
            ]
          },
          "metadata": {},
          "execution_count": 19
        }
      ]
    },
    {
      "cell_type": "code",
      "source": [
        "np.linspace(0,1,10)"
      ],
      "metadata": {
        "colab": {
          "base_uri": "https://localhost:8080/"
        },
        "id": "LgRNQAfBXZHZ",
        "outputId": "f0f35639-28b0-44ab-d016-562ab9e30ca7"
      },
      "execution_count": 24,
      "outputs": [
        {
          "output_type": "execute_result",
          "data": {
            "text/plain": [
              "array([0.        , 0.11111111, 0.22222222, 0.33333333, 0.44444444,\n",
              "       0.55555556, 0.66666667, 0.77777778, 0.88888889, 1.        ])"
            ]
          },
          "metadata": {},
          "execution_count": 24
        }
      ]
    },
    {
      "cell_type": "markdown",
      "source": [
        "- numpy 라이브러리의 numpy array가 가질 수 있는 data type을 모두 서술해보세요.\n",
        "\n",
        "> 불리언 ( 'b' ) , 정수 ( 'i' ) , 부호 없는 정수 ( 'u' ) , 실수 ( 'f' ) , 복소수 ( 'c' ) , 객체 ( 'O' ) , 바이트 문자열( 'S' ) , 유니코드 문자열('U')\n",
        "\n"
      ],
      "metadata": {
        "id": "jfnBKpl9W-Si"
      }
    },
    {
      "cell_type": "markdown",
      "source": [
        "- numpy array 내에서의 모든 원소가 1) 동일한 data type을 가져야 하는 이유와, 2) 동일한 data type을 가지는 것으로 python list에 비해 갖게되는 장점에 대해 서술해보세요.\n",
        "\n",
        "> numpy는 수치계산에 특화된 라이브러리입니다.\n",
        "\n",
        "> 대부분의 수치 계산에 사용되는 데이터는 벡터(vector)이고, 이 벡터를 표현한게 numpy array입니다.\n",
        "\n",
        "> 벡터의 원소들은 기본적으로 정해진 vectro space에 표현됩니다. 이 vector space를 정의하면 나타나는 숫자의 표현 범위도 정해집니다.\n",
        "\n",
        "> 정해진 표현 범위에서 효율적인 연산을 하기 위해서는 data type이 통일될 필요가 있습니다.\n",
        "\n",
        "> data type이 통일되면 operator를 이용한 연산을 할 때, type checking할 필요가 없어지면서 시간상 이득이 있습니다.\n",
        "\n",
        "> 이를 효과적으로 이용한 것이 바로 Numpy가 제공하는 Universal Function이나 Broadcasting입니다\n"
      ],
      "metadata": {
        "id": "exS0cRQkZY2e"
      }
    },
    {
      "cell_type": "markdown",
      "source": [
        "- 주어진 numpy array의 두번째 원소를 찾아서 출력하는 코드를 작성해보세요"
      ],
      "metadata": {
        "id": "t8YB2GFzaWeq"
      }
    },
    {
      "cell_type": "code",
      "source": [
        "arr = np.array([31, 24, 37, 14, 25])\n",
        "arr[1]"
      ],
      "metadata": {
        "colab": {
          "base_uri": "https://localhost:8080/"
        },
        "id": "tWs9wixgaV8j",
        "outputId": "5d54cae5-780f-4fab-d121-7710439b85a2"
      },
      "execution_count": 25,
      "outputs": [
        {
          "output_type": "execute_result",
          "data": {
            "text/plain": [
              "24"
            ]
          },
          "metadata": {},
          "execution_count": 25
        }
      ]
    },
    {
      "cell_type": "markdown",
      "source": [
        "- 주어진 다차원 numpy array에서 두번째 행의 세번째 원소를 찾는 코드를 작성해보세요."
      ],
      "metadata": {
        "id": "auzD9BnfbF9R"
      }
    },
    {
      "cell_type": "code",
      "source": [
        "arr2 = np.array([[1, 2, 3], [4, 5, 6], [7, 8, 9]])\n",
        "arr2[1,2]"
      ],
      "metadata": {
        "colab": {
          "base_uri": "https://localhost:8080/"
        },
        "id": "zeAlWS1ibFZ7",
        "outputId": "df298aec-db2d-42d2-b2bb-7a9e5d96f4a6"
      },
      "execution_count": 26,
      "outputs": [
        {
          "output_type": "execute_result",
          "data": {
            "text/plain": [
              "6"
            ]
          },
          "metadata": {},
          "execution_count": 26
        }
      ]
    },
    {
      "cell_type": "markdown",
      "source": [
        "- 주어진 2차원 numpy array는 행렬을 나타냅니다.\n",
        "주어진 행렬에서 첫번째 행과, 두번째 열을 출력하는 코드를 작성해보세요.\n",
        "\n",
        "> FANCY INDEXING"
      ],
      "metadata": {
        "id": "JGYoKpaJbrzS"
      }
    },
    {
      "cell_type": "code",
      "source": [
        "arr2 = np.array([ [10, 9, 8], [7, 6, 5], [4, 3, 2] ])\n",
        "arr2[0,:] , arr2[:,1]"
      ],
      "metadata": {
        "colab": {
          "base_uri": "https://localhost:8080/"
        },
        "id": "xqe0VC2SbreD",
        "outputId": "3874fb04-c9e8-490d-833b-2e4f1fc117af"
      },
      "execution_count": 29,
      "outputs": [
        {
          "output_type": "execute_result",
          "data": {
            "text/plain": [
              "(array([10,  9,  8]), array([9, 6, 3]))"
            ]
          },
          "metadata": {},
          "execution_count": 29
        }
      ]
    },
    {
      "cell_type": "markdown",
      "source": [
        "- 주어진 numpy array 에 대해서, 30보다 큰 숫자만 뽑는 코드를 작성하세요.\n",
        "(단, 반복문을 통한 방법이 아닌 numpy array masking을 사용하세요.\n",
        "\n",
        "> array masking\n",
        "\n",
        "> 익숙해 지면 좋음 (https://spacecollection.co.kr/8)"
      ],
      "metadata": {
        "id": "NZYRNa_rcXLS"
      }
    },
    {
      "cell_type": "code",
      "source": [
        "arr = np.array([30, 4, 550, 9, 112, 10000, 15, 21])\n",
        "arr[arr>30]"
      ],
      "metadata": {
        "colab": {
          "base_uri": "https://localhost:8080/"
        },
        "id": "RwQuAudEbolr",
        "outputId": "88681d37-1174-4541-80ee-458520e16df9"
      },
      "execution_count": 37,
      "outputs": [
        {
          "output_type": "execute_result",
          "data": {
            "text/plain": [
              "array([  550,   112, 10000])"
            ]
          },
          "metadata": {},
          "execution_count": 37
        }
      ]
    },
    {
      "cell_type": "markdown",
      "source": [
        "- 주어진 numpy array의 최소/최대값을 찾아서 출력하는 코드를 작성해보세요."
      ],
      "metadata": {
        "id": "nSmftEvge_Tk"
      }
    },
    {
      "cell_type": "code",
      "source": [
        "arr = np.array([50, 1110, 1, 230, 3, 40, 517590, -41, -4959])\n",
        "print(f\"min : {arr.min()} \\nMax : {arr.max()}\" )"
      ],
      "metadata": {
        "colab": {
          "base_uri": "https://localhost:8080/"
        },
        "id": "Afpf1WTFe-8c",
        "outputId": "12252024-02f5-415f-ad33-e652d6bd0aaa"
      },
      "execution_count": 45,
      "outputs": [
        {
          "output_type": "stream",
          "name": "stdout",
          "text": [
            "min : -4959 \n",
            "Max : 517590\n"
          ]
        }
      ]
    },
    {
      "cell_type": "markdown",
      "source": [
        "- 주어진 numpy array의 최소값과 최대값에 해당하는 원소의 index를 찾아서 출력하는 코드를 작성해보세요."
      ],
      "metadata": {
        "id": "CZNuMCiGgDiI"
      }
    },
    {
      "cell_type": "code",
      "source": [
        "arr = np.array([1, 33, 5502, 221, -591, 0, -9, 50491])\n",
        "\n",
        "print(f\"index of min : {arr.argmin()} \\nindex of Max : {arr.argmax()}\")"
      ],
      "metadata": {
        "colab": {
          "base_uri": "https://localhost:8080/"
        },
        "id": "nKUcR7ArgCzM",
        "outputId": "8149b2d2-ee05-4bd8-e602-c8c8a7cea478"
      },
      "execution_count": 46,
      "outputs": [
        {
          "output_type": "stream",
          "name": "stdout",
          "text": [
            "index of min : 4 \n",
            "index of Max : 7\n"
          ]
        }
      ]
    },
    {
      "cell_type": "markdown",
      "source": [
        "- 주어진 두 개의 numpy array를 하나로 합치는 코드를 작성하세요.\n",
        "\n",
        "```python\n",
        "array([1, 2, 3, 4, 5, 6, 7, 8, 9])\n",
        "```\n",
        "\n"
      ],
      "metadata": {
        "id": "Bn2-a4thg-Rm"
      }
    },
    {
      "cell_type": "code",
      "source": [
        "arr1 = np.array([1, 2, 3, 4, 5])\n",
        "arr2 = np.array([6, 7, 8, 9])\n",
        "\n",
        "np.concatenate([arr1,arr2],axis=0)"
      ],
      "metadata": {
        "colab": {
          "base_uri": "https://localhost:8080/"
        },
        "id": "-mfkWKZrhBSw",
        "outputId": "87720dde-44e1-4a68-e0ea-af4a96775889"
      },
      "execution_count": 50,
      "outputs": [
        {
          "output_type": "execute_result",
          "data": {
            "text/plain": [
              "array([1, 2, 3, 4, 5, 6, 7, 8, 9])"
            ]
          },
          "metadata": {},
          "execution_count": 50
        }
      ]
    },
    {
      "cell_type": "markdown",
      "source": [
        "- 주어진 1차원 numpy array 3개를 연결하여, 하나의 행렬을 구성하는 코드를 작성하세요.\n",
        "\n",
        "```python\n",
        "array([[1, 2, 3], [4, 5, 6], [7, 8, 9]])\n",
        "```"
      ],
      "metadata": {
        "id": "UQHYoyN-j1xO"
      }
    },
    {
      "cell_type": "code",
      "source": [
        "arr1 = np.array([1, 2, 3])\n",
        "arr2 = np.array([4, 5, 6])\n",
        "arr3 = np.array([7, 8, 9])\n",
        "\n",
        "np.vstack([arr1,arr2,arr3])"
      ],
      "metadata": {
        "colab": {
          "base_uri": "https://localhost:8080/"
        },
        "id": "DuEzgjd4joBZ",
        "outputId": "cf9cf775-f472-4079-9e62-598403a13283"
      },
      "execution_count": 54,
      "outputs": [
        {
          "output_type": "execute_result",
          "data": {
            "text/plain": [
              "array([[1, 2, 3],\n",
              "       [4, 5, 6],\n",
              "       [7, 8, 9]])"
            ]
          },
          "metadata": {},
          "execution_count": 54
        }
      ]
    },
    {
      "cell_type": "markdown",
      "source": [
        "- 두개의 벡터 v1,v2가 numpy array로 주어졌을 때, 두 벡터의 합 v1+v2 을 구하는 코드를 작성하세요."
      ],
      "metadata": {
        "id": "K3tJALpwkjib"
      }
    },
    {
      "cell_type": "code",
      "source": [
        "v1 = np.array([1, 2, 3])\n",
        "v2 = np.array([4, -1, 2])\n",
        "\n",
        "v1+v2"
      ],
      "metadata": {
        "colab": {
          "base_uri": "https://localhost:8080/"
        },
        "id": "XQ-wm6Leki-6",
        "outputId": "b98fd03a-71ee-4e71-c682-109fb407263e"
      },
      "execution_count": 55,
      "outputs": [
        {
          "output_type": "execute_result",
          "data": {
            "text/plain": [
              "array([5, 1, 5])"
            ]
          },
          "metadata": {},
          "execution_count": 55
        }
      ]
    },
    {
      "cell_type": "markdown",
      "source": [
        "-두개의 벡터 v1,v2가 numpy array로 주어졌을 때, 두 벡터의 내적 v1⋅v2 을 구하는 코드를 작성하세요."
      ],
      "metadata": {
        "id": "PspJ1-WklUyl"
      }
    },
    {
      "cell_type": "code",
      "source": [
        "v1 = np.array([1, 2, 3])\n",
        "v2 = np.array([4, -1, 2])\n",
        "\n",
        "np.dot(v1,v2)"
      ],
      "metadata": {
        "colab": {
          "base_uri": "https://localhost:8080/"
        },
        "id": "ooGK3btXlbhl",
        "outputId": "53c5389f-4ffa-4354-f9a5-df10f36edca1"
      },
      "execution_count": 62,
      "outputs": [
        {
          "output_type": "execute_result",
          "data": {
            "text/plain": [
              "8"
            ]
          },
          "metadata": {},
          "execution_count": 62
        }
      ]
    },
    {
      "cell_type": "markdown",
      "source": [
        "- 주어진 numpy array의 모든 원소에 각각 3을 더하는 코드를 작성하세요."
      ],
      "metadata": {
        "id": "GOcM9_t7lbP_"
      }
    },
    {
      "cell_type": "code",
      "source": [
        "arr1 = np.array([1, 2, 3])\n",
        "\n",
        "arr1 + 3"
      ],
      "metadata": {
        "colab": {
          "base_uri": "https://localhost:8080/"
        },
        "id": "XCR4E94Pnd7R",
        "outputId": "aae0a9b8-2965-4e37-a1b2-14c7f7c4ebc0"
      },
      "execution_count": 63,
      "outputs": [
        {
          "output_type": "execute_result",
          "data": {
            "text/plain": [
              "array([4, 5, 6])"
            ]
          },
          "metadata": {},
          "execution_count": 63
        }
      ]
    },
    {
      "cell_type": "markdown",
      "source": [
        "- numpy array로 표현된 행렬에 모든 행에 같은 벡터를 더하는 연산을 수행하는 코드를 작성하세요."
      ],
      "metadata": {
        "id": "qbfDirKznryH"
      }
    },
    {
      "cell_type": "code",
      "source": [
        "mat1 = np.array([[1, 2, 3], [4, 5, 6], [7, 8, 9]])\n",
        "v1 = np.array([-1, -2, -3])\n",
        "\n",
        "mat1 + v1 "
      ],
      "metadata": {
        "colab": {
          "base_uri": "https://localhost:8080/"
        },
        "id": "716a6_YLnvOR",
        "outputId": "0ac8ab7c-73ea-4749-bb2c-b426a6f5a12d"
      },
      "execution_count": 64,
      "outputs": [
        {
          "output_type": "execute_result",
          "data": {
            "text/plain": [
              "array([[0, 0, 0],\n",
              "       [3, 3, 3],\n",
              "       [6, 6, 6]])"
            ]
          },
          "metadata": {},
          "execution_count": 64
        }
      ]
    },
    {
      "cell_type": "markdown",
      "source": [
        "- 이미지 데이터를 처리할 때, numpy array를 통해서 이미지 데이터를 표현하면 \"가로 pixel X 세로 pixel\" 크기의 numpy array가 됩니다.\n",
        "5x5의 크기를 가지는 이미지가 numpy array로 표현되었을 때, 이를 1차원 벡터로 변환하는 코드를 작성해보세요"
      ],
      "metadata": {
        "id": "0LWpNGbhoLQX"
      }
    },
    {
      "cell_type": "code",
      "source": [
        "img = np.random.randint(0,20,(5, 5))\n",
        "print(img)\n",
        "print()\n",
        "img.flatten()"
      ],
      "metadata": {
        "colab": {
          "base_uri": "https://localhost:8080/"
        },
        "id": "KeUxxRxaoK97",
        "outputId": "0be3f260-f355-4121-c5d4-2f0a3dce0add"
      },
      "execution_count": 70,
      "outputs": [
        {
          "output_type": "stream",
          "name": "stdout",
          "text": [
            "[[ 7  2 19  9 12]\n",
            " [ 5  7  9  1  5]\n",
            " [12  1 14 14  1]\n",
            " [15 14  4 18  1]\n",
            " [12  3  5 14  7]]\n",
            "\n"
          ]
        },
        {
          "output_type": "execute_result",
          "data": {
            "text/plain": [
              "array([ 7,  2, 19,  9, 12,  5,  7,  9,  1,  5, 12,  1, 14, 14,  1, 15, 14,\n",
              "        4, 18,  1, 12,  3,  5, 14,  7])"
            ]
          },
          "metadata": {},
          "execution_count": 70
        }
      ]
    }
  ]
}